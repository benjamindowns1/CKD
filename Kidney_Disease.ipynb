{
 "cells": [
  {
   "cell_type": "code",
   "execution_count": 144,
   "id": "6e8698a1",
   "metadata": {},
   "outputs": [],
   "source": [
    "import pandas as pd\n",
    "import numpy as np \n",
    "import matplotlib.pyplot as plt\n",
    "import seaborn as sns"
   ]
  },
  {
   "cell_type": "code",
   "execution_count": 145,
   "id": "1702282c",
   "metadata": {},
   "outputs": [],
   "source": [
    "df = pd.read_csv('E:/Net_Income_Canada/kidney_disease.csv')"
   ]
  },
  {
   "cell_type": "code",
   "execution_count": 146,
   "id": "4184ebe7",
   "metadata": {},
   "outputs": [
    {
     "data": {
      "text/html": [
       "<div>\n",
       "<style scoped>\n",
       "    .dataframe tbody tr th:only-of-type {\n",
       "        vertical-align: middle;\n",
       "    }\n",
       "\n",
       "    .dataframe tbody tr th {\n",
       "        vertical-align: top;\n",
       "    }\n",
       "\n",
       "    .dataframe thead th {\n",
       "        text-align: right;\n",
       "    }\n",
       "</style>\n",
       "<table border=\"1\" class=\"dataframe\">\n",
       "  <thead>\n",
       "    <tr style=\"text-align: right;\">\n",
       "      <th></th>\n",
       "      <th>id</th>\n",
       "      <th>age</th>\n",
       "      <th>bp</th>\n",
       "      <th>sg</th>\n",
       "      <th>al</th>\n",
       "      <th>su</th>\n",
       "      <th>rbc</th>\n",
       "      <th>pc</th>\n",
       "      <th>pcc</th>\n",
       "      <th>ba</th>\n",
       "      <th>...</th>\n",
       "      <th>pcv</th>\n",
       "      <th>wc</th>\n",
       "      <th>rc</th>\n",
       "      <th>htn</th>\n",
       "      <th>dm</th>\n",
       "      <th>cad</th>\n",
       "      <th>appet</th>\n",
       "      <th>pe</th>\n",
       "      <th>ane</th>\n",
       "      <th>classification</th>\n",
       "    </tr>\n",
       "  </thead>\n",
       "  <tbody>\n",
       "    <tr>\n",
       "      <th>0</th>\n",
       "      <td>0</td>\n",
       "      <td>48.0</td>\n",
       "      <td>80.0</td>\n",
       "      <td>1.020</td>\n",
       "      <td>1.0</td>\n",
       "      <td>0.0</td>\n",
       "      <td>NaN</td>\n",
       "      <td>normal</td>\n",
       "      <td>notpresent</td>\n",
       "      <td>notpresent</td>\n",
       "      <td>...</td>\n",
       "      <td>44</td>\n",
       "      <td>7800</td>\n",
       "      <td>5.2</td>\n",
       "      <td>yes</td>\n",
       "      <td>yes</td>\n",
       "      <td>no</td>\n",
       "      <td>good</td>\n",
       "      <td>no</td>\n",
       "      <td>no</td>\n",
       "      <td>ckd</td>\n",
       "    </tr>\n",
       "    <tr>\n",
       "      <th>1</th>\n",
       "      <td>1</td>\n",
       "      <td>7.0</td>\n",
       "      <td>50.0</td>\n",
       "      <td>1.020</td>\n",
       "      <td>4.0</td>\n",
       "      <td>0.0</td>\n",
       "      <td>NaN</td>\n",
       "      <td>normal</td>\n",
       "      <td>notpresent</td>\n",
       "      <td>notpresent</td>\n",
       "      <td>...</td>\n",
       "      <td>38</td>\n",
       "      <td>6000</td>\n",
       "      <td>NaN</td>\n",
       "      <td>no</td>\n",
       "      <td>no</td>\n",
       "      <td>no</td>\n",
       "      <td>good</td>\n",
       "      <td>no</td>\n",
       "      <td>no</td>\n",
       "      <td>ckd</td>\n",
       "    </tr>\n",
       "    <tr>\n",
       "      <th>2</th>\n",
       "      <td>2</td>\n",
       "      <td>62.0</td>\n",
       "      <td>80.0</td>\n",
       "      <td>1.010</td>\n",
       "      <td>2.0</td>\n",
       "      <td>3.0</td>\n",
       "      <td>normal</td>\n",
       "      <td>normal</td>\n",
       "      <td>notpresent</td>\n",
       "      <td>notpresent</td>\n",
       "      <td>...</td>\n",
       "      <td>31</td>\n",
       "      <td>7500</td>\n",
       "      <td>NaN</td>\n",
       "      <td>no</td>\n",
       "      <td>yes</td>\n",
       "      <td>no</td>\n",
       "      <td>poor</td>\n",
       "      <td>no</td>\n",
       "      <td>yes</td>\n",
       "      <td>ckd</td>\n",
       "    </tr>\n",
       "    <tr>\n",
       "      <th>3</th>\n",
       "      <td>3</td>\n",
       "      <td>48.0</td>\n",
       "      <td>70.0</td>\n",
       "      <td>1.005</td>\n",
       "      <td>4.0</td>\n",
       "      <td>0.0</td>\n",
       "      <td>normal</td>\n",
       "      <td>abnormal</td>\n",
       "      <td>present</td>\n",
       "      <td>notpresent</td>\n",
       "      <td>...</td>\n",
       "      <td>32</td>\n",
       "      <td>6700</td>\n",
       "      <td>3.9</td>\n",
       "      <td>yes</td>\n",
       "      <td>no</td>\n",
       "      <td>no</td>\n",
       "      <td>poor</td>\n",
       "      <td>yes</td>\n",
       "      <td>yes</td>\n",
       "      <td>ckd</td>\n",
       "    </tr>\n",
       "    <tr>\n",
       "      <th>4</th>\n",
       "      <td>4</td>\n",
       "      <td>51.0</td>\n",
       "      <td>80.0</td>\n",
       "      <td>1.010</td>\n",
       "      <td>2.0</td>\n",
       "      <td>0.0</td>\n",
       "      <td>normal</td>\n",
       "      <td>normal</td>\n",
       "      <td>notpresent</td>\n",
       "      <td>notpresent</td>\n",
       "      <td>...</td>\n",
       "      <td>35</td>\n",
       "      <td>7300</td>\n",
       "      <td>4.6</td>\n",
       "      <td>no</td>\n",
       "      <td>no</td>\n",
       "      <td>no</td>\n",
       "      <td>good</td>\n",
       "      <td>no</td>\n",
       "      <td>no</td>\n",
       "      <td>ckd</td>\n",
       "    </tr>\n",
       "  </tbody>\n",
       "</table>\n",
       "<p>5 rows × 26 columns</p>\n",
       "</div>"
      ],
      "text/plain": [
       "   id   age    bp     sg   al   su     rbc        pc         pcc          ba  \\\n",
       "0   0  48.0  80.0  1.020  1.0  0.0     NaN    normal  notpresent  notpresent   \n",
       "1   1   7.0  50.0  1.020  4.0  0.0     NaN    normal  notpresent  notpresent   \n",
       "2   2  62.0  80.0  1.010  2.0  3.0  normal    normal  notpresent  notpresent   \n",
       "3   3  48.0  70.0  1.005  4.0  0.0  normal  abnormal     present  notpresent   \n",
       "4   4  51.0  80.0  1.010  2.0  0.0  normal    normal  notpresent  notpresent   \n",
       "\n",
       "   ...  pcv    wc   rc  htn   dm  cad appet   pe  ane classification  \n",
       "0  ...   44  7800  5.2  yes  yes   no  good   no   no            ckd  \n",
       "1  ...   38  6000  NaN   no   no   no  good   no   no            ckd  \n",
       "2  ...   31  7500  NaN   no  yes   no  poor   no  yes            ckd  \n",
       "3  ...   32  6700  3.9  yes   no   no  poor  yes  yes            ckd  \n",
       "4  ...   35  7300  4.6   no   no   no  good   no   no            ckd  \n",
       "\n",
       "[5 rows x 26 columns]"
      ]
     },
     "execution_count": 146,
     "metadata": {},
     "output_type": "execute_result"
    }
   ],
   "source": [
    "df.head()"
   ]
  },
  {
   "cell_type": "code",
   "execution_count": 147,
   "id": "debe0b4a",
   "metadata": {},
   "outputs": [
    {
     "data": {
      "text/plain": [
       "Index(['id', 'age', 'bp', 'sg', 'al', 'su', 'rbc', 'pc', 'pcc', 'ba', 'bgr',\n",
       "       'bu', 'sc', 'sod', 'pot', 'hemo', 'pcv', 'wc', 'rc', 'htn', 'dm', 'cad',\n",
       "       'appet', 'pe', 'ane', 'classification'],\n",
       "      dtype='object')"
      ]
     },
     "execution_count": 147,
     "metadata": {},
     "output_type": "execute_result"
    }
   ],
   "source": [
    "df.columns"
   ]
  },
  {
   "cell_type": "code",
   "execution_count": 148,
   "id": "a8295ef3",
   "metadata": {
    "scrolled": true
   },
   "outputs": [
    {
     "data": {
      "text/plain": [
       "id                  0\n",
       "age                 9\n",
       "bp                 12\n",
       "sg                 47\n",
       "al                 46\n",
       "su                 49\n",
       "rbc               152\n",
       "pc                 65\n",
       "pcc                 4\n",
       "ba                  4\n",
       "bgr                44\n",
       "bu                 19\n",
       "sc                 17\n",
       "sod                87\n",
       "pot                88\n",
       "hemo               52\n",
       "pcv                70\n",
       "wc                105\n",
       "rc                130\n",
       "htn                 2\n",
       "dm                  2\n",
       "cad                 2\n",
       "appet               1\n",
       "pe                  1\n",
       "ane                 1\n",
       "classification      0\n",
       "dtype: int64"
      ]
     },
     "execution_count": 148,
     "metadata": {},
     "output_type": "execute_result"
    }
   ],
   "source": [
    "df.isnull().sum()"
   ]
  },
  {
   "cell_type": "code",
   "execution_count": 149,
   "id": "f44775bb",
   "metadata": {
    "scrolled": true
   },
   "outputs": [
    {
     "data": {
      "text/plain": [
       "400"
      ]
     },
     "execution_count": 149,
     "metadata": {},
     "output_type": "execute_result"
    }
   ],
   "source": [
    "len(df)"
   ]
  },
  {
   "cell_type": "code",
   "execution_count": 150,
   "id": "bebeb917",
   "metadata": {},
   "outputs": [
    {
     "data": {
      "text/plain": [
       "0.38"
      ]
     },
     "execution_count": 150,
     "metadata": {},
     "output_type": "execute_result"
    }
   ],
   "source": [
    "152/400"
   ]
  },
  {
   "cell_type": "code",
   "execution_count": 151,
   "id": "685e6bc6",
   "metadata": {},
   "outputs": [
    {
     "name": "stdout",
     "output_type": "stream",
     "text": [
      "<class 'pandas.core.frame.DataFrame'>\n",
      "RangeIndex: 400 entries, 0 to 399\n",
      "Data columns (total 26 columns):\n",
      " #   Column          Non-Null Count  Dtype  \n",
      "---  ------          --------------  -----  \n",
      " 0   id              400 non-null    int64  \n",
      " 1   age             391 non-null    float64\n",
      " 2   bp              388 non-null    float64\n",
      " 3   sg              353 non-null    float64\n",
      " 4   al              354 non-null    float64\n",
      " 5   su              351 non-null    float64\n",
      " 6   rbc             248 non-null    object \n",
      " 7   pc              335 non-null    object \n",
      " 8   pcc             396 non-null    object \n",
      " 9   ba              396 non-null    object \n",
      " 10  bgr             356 non-null    float64\n",
      " 11  bu              381 non-null    float64\n",
      " 12  sc              383 non-null    float64\n",
      " 13  sod             313 non-null    float64\n",
      " 14  pot             312 non-null    float64\n",
      " 15  hemo            348 non-null    float64\n",
      " 16  pcv             330 non-null    object \n",
      " 17  wc              295 non-null    object \n",
      " 18  rc              270 non-null    object \n",
      " 19  htn             398 non-null    object \n",
      " 20  dm              398 non-null    object \n",
      " 21  cad             398 non-null    object \n",
      " 22  appet           399 non-null    object \n",
      " 23  pe              399 non-null    object \n",
      " 24  ane             399 non-null    object \n",
      " 25  classification  400 non-null    object \n",
      "dtypes: float64(11), int64(1), object(14)\n",
      "memory usage: 81.4+ KB\n"
     ]
    }
   ],
   "source": [
    "df.info()"
   ]
  },
  {
   "cell_type": "code",
   "execution_count": 152,
   "id": "9582574a",
   "metadata": {},
   "outputs": [
    {
     "data": {
      "text/html": [
       "<div>\n",
       "<style scoped>\n",
       "    .dataframe tbody tr th:only-of-type {\n",
       "        vertical-align: middle;\n",
       "    }\n",
       "\n",
       "    .dataframe tbody tr th {\n",
       "        vertical-align: top;\n",
       "    }\n",
       "\n",
       "    .dataframe thead th {\n",
       "        text-align: right;\n",
       "    }\n",
       "</style>\n",
       "<table border=\"1\" class=\"dataframe\">\n",
       "  <thead>\n",
       "    <tr style=\"text-align: right;\">\n",
       "      <th></th>\n",
       "      <th>id</th>\n",
       "      <th>age</th>\n",
       "      <th>bp</th>\n",
       "      <th>sg</th>\n",
       "      <th>al</th>\n",
       "      <th>su</th>\n",
       "      <th>bgr</th>\n",
       "      <th>bu</th>\n",
       "      <th>sc</th>\n",
       "      <th>sod</th>\n",
       "      <th>pot</th>\n",
       "      <th>hemo</th>\n",
       "    </tr>\n",
       "  </thead>\n",
       "  <tbody>\n",
       "    <tr>\n",
       "      <th>count</th>\n",
       "      <td>400.000000</td>\n",
       "      <td>391.000000</td>\n",
       "      <td>388.000000</td>\n",
       "      <td>353.000000</td>\n",
       "      <td>354.000000</td>\n",
       "      <td>351.000000</td>\n",
       "      <td>356.000000</td>\n",
       "      <td>381.000000</td>\n",
       "      <td>383.000000</td>\n",
       "      <td>313.000000</td>\n",
       "      <td>312.000000</td>\n",
       "      <td>348.000000</td>\n",
       "    </tr>\n",
       "    <tr>\n",
       "      <th>mean</th>\n",
       "      <td>199.500000</td>\n",
       "      <td>51.483376</td>\n",
       "      <td>76.469072</td>\n",
       "      <td>1.017408</td>\n",
       "      <td>1.016949</td>\n",
       "      <td>0.450142</td>\n",
       "      <td>148.036517</td>\n",
       "      <td>57.425722</td>\n",
       "      <td>3.072454</td>\n",
       "      <td>137.528754</td>\n",
       "      <td>4.627244</td>\n",
       "      <td>12.526437</td>\n",
       "    </tr>\n",
       "    <tr>\n",
       "      <th>std</th>\n",
       "      <td>115.614301</td>\n",
       "      <td>17.169714</td>\n",
       "      <td>13.683637</td>\n",
       "      <td>0.005717</td>\n",
       "      <td>1.352679</td>\n",
       "      <td>1.099191</td>\n",
       "      <td>79.281714</td>\n",
       "      <td>50.503006</td>\n",
       "      <td>5.741126</td>\n",
       "      <td>10.408752</td>\n",
       "      <td>3.193904</td>\n",
       "      <td>2.912587</td>\n",
       "    </tr>\n",
       "    <tr>\n",
       "      <th>min</th>\n",
       "      <td>0.000000</td>\n",
       "      <td>2.000000</td>\n",
       "      <td>50.000000</td>\n",
       "      <td>1.005000</td>\n",
       "      <td>0.000000</td>\n",
       "      <td>0.000000</td>\n",
       "      <td>22.000000</td>\n",
       "      <td>1.500000</td>\n",
       "      <td>0.400000</td>\n",
       "      <td>4.500000</td>\n",
       "      <td>2.500000</td>\n",
       "      <td>3.100000</td>\n",
       "    </tr>\n",
       "    <tr>\n",
       "      <th>25%</th>\n",
       "      <td>99.750000</td>\n",
       "      <td>42.000000</td>\n",
       "      <td>70.000000</td>\n",
       "      <td>1.010000</td>\n",
       "      <td>0.000000</td>\n",
       "      <td>0.000000</td>\n",
       "      <td>99.000000</td>\n",
       "      <td>27.000000</td>\n",
       "      <td>0.900000</td>\n",
       "      <td>135.000000</td>\n",
       "      <td>3.800000</td>\n",
       "      <td>10.300000</td>\n",
       "    </tr>\n",
       "    <tr>\n",
       "      <th>50%</th>\n",
       "      <td>199.500000</td>\n",
       "      <td>55.000000</td>\n",
       "      <td>80.000000</td>\n",
       "      <td>1.020000</td>\n",
       "      <td>0.000000</td>\n",
       "      <td>0.000000</td>\n",
       "      <td>121.000000</td>\n",
       "      <td>42.000000</td>\n",
       "      <td>1.300000</td>\n",
       "      <td>138.000000</td>\n",
       "      <td>4.400000</td>\n",
       "      <td>12.650000</td>\n",
       "    </tr>\n",
       "    <tr>\n",
       "      <th>75%</th>\n",
       "      <td>299.250000</td>\n",
       "      <td>64.500000</td>\n",
       "      <td>80.000000</td>\n",
       "      <td>1.020000</td>\n",
       "      <td>2.000000</td>\n",
       "      <td>0.000000</td>\n",
       "      <td>163.000000</td>\n",
       "      <td>66.000000</td>\n",
       "      <td>2.800000</td>\n",
       "      <td>142.000000</td>\n",
       "      <td>4.900000</td>\n",
       "      <td>15.000000</td>\n",
       "    </tr>\n",
       "    <tr>\n",
       "      <th>max</th>\n",
       "      <td>399.000000</td>\n",
       "      <td>90.000000</td>\n",
       "      <td>180.000000</td>\n",
       "      <td>1.025000</td>\n",
       "      <td>5.000000</td>\n",
       "      <td>5.000000</td>\n",
       "      <td>490.000000</td>\n",
       "      <td>391.000000</td>\n",
       "      <td>76.000000</td>\n",
       "      <td>163.000000</td>\n",
       "      <td>47.000000</td>\n",
       "      <td>17.800000</td>\n",
       "    </tr>\n",
       "  </tbody>\n",
       "</table>\n",
       "</div>"
      ],
      "text/plain": [
       "               id         age          bp          sg          al          su  \\\n",
       "count  400.000000  391.000000  388.000000  353.000000  354.000000  351.000000   \n",
       "mean   199.500000   51.483376   76.469072    1.017408    1.016949    0.450142   \n",
       "std    115.614301   17.169714   13.683637    0.005717    1.352679    1.099191   \n",
       "min      0.000000    2.000000   50.000000    1.005000    0.000000    0.000000   \n",
       "25%     99.750000   42.000000   70.000000    1.010000    0.000000    0.000000   \n",
       "50%    199.500000   55.000000   80.000000    1.020000    0.000000    0.000000   \n",
       "75%    299.250000   64.500000   80.000000    1.020000    2.000000    0.000000   \n",
       "max    399.000000   90.000000  180.000000    1.025000    5.000000    5.000000   \n",
       "\n",
       "              bgr          bu          sc         sod         pot        hemo  \n",
       "count  356.000000  381.000000  383.000000  313.000000  312.000000  348.000000  \n",
       "mean   148.036517   57.425722    3.072454  137.528754    4.627244   12.526437  \n",
       "std     79.281714   50.503006    5.741126   10.408752    3.193904    2.912587  \n",
       "min     22.000000    1.500000    0.400000    4.500000    2.500000    3.100000  \n",
       "25%     99.000000   27.000000    0.900000  135.000000    3.800000   10.300000  \n",
       "50%    121.000000   42.000000    1.300000  138.000000    4.400000   12.650000  \n",
       "75%    163.000000   66.000000    2.800000  142.000000    4.900000   15.000000  \n",
       "max    490.000000  391.000000   76.000000  163.000000   47.000000   17.800000  "
      ]
     },
     "execution_count": 152,
     "metadata": {},
     "output_type": "execute_result"
    }
   ],
   "source": [
    "df.describe()"
   ]
  },
  {
   "cell_type": "code",
   "execution_count": 153,
   "id": "8dc2b49b",
   "metadata": {},
   "outputs": [
    {
     "data": {
      "text/html": [
       "<div>\n",
       "<style scoped>\n",
       "    .dataframe tbody tr th:only-of-type {\n",
       "        vertical-align: middle;\n",
       "    }\n",
       "\n",
       "    .dataframe tbody tr th {\n",
       "        vertical-align: top;\n",
       "    }\n",
       "\n",
       "    .dataframe thead th {\n",
       "        text-align: right;\n",
       "    }\n",
       "</style>\n",
       "<table border=\"1\" class=\"dataframe\">\n",
       "  <thead>\n",
       "    <tr style=\"text-align: right;\">\n",
       "      <th></th>\n",
       "      <th>rc</th>\n",
       "    </tr>\n",
       "  </thead>\n",
       "  <tbody>\n",
       "    <tr>\n",
       "      <th>0</th>\n",
       "      <td>5.2</td>\n",
       "    </tr>\n",
       "    <tr>\n",
       "      <th>1</th>\n",
       "      <td>NaN</td>\n",
       "    </tr>\n",
       "    <tr>\n",
       "      <th>2</th>\n",
       "      <td>NaN</td>\n",
       "    </tr>\n",
       "    <tr>\n",
       "      <th>3</th>\n",
       "      <td>3.9</td>\n",
       "    </tr>\n",
       "    <tr>\n",
       "      <th>4</th>\n",
       "      <td>4.6</td>\n",
       "    </tr>\n",
       "    <tr>\n",
       "      <th>...</th>\n",
       "      <td>...</td>\n",
       "    </tr>\n",
       "    <tr>\n",
       "      <th>395</th>\n",
       "      <td>4.9</td>\n",
       "    </tr>\n",
       "    <tr>\n",
       "      <th>396</th>\n",
       "      <td>6.2</td>\n",
       "    </tr>\n",
       "    <tr>\n",
       "      <th>397</th>\n",
       "      <td>5.4</td>\n",
       "    </tr>\n",
       "    <tr>\n",
       "      <th>398</th>\n",
       "      <td>5.9</td>\n",
       "    </tr>\n",
       "    <tr>\n",
       "      <th>399</th>\n",
       "      <td>6.1</td>\n",
       "    </tr>\n",
       "  </tbody>\n",
       "</table>\n",
       "<p>400 rows × 1 columns</p>\n",
       "</div>"
      ],
      "text/plain": [
       "      rc\n",
       "0    5.2\n",
       "1    NaN\n",
       "2    NaN\n",
       "3    3.9\n",
       "4    4.6\n",
       "..   ...\n",
       "395  4.9\n",
       "396  6.2\n",
       "397  5.4\n",
       "398  5.9\n",
       "399  6.1\n",
       "\n",
       "[400 rows x 1 columns]"
      ]
     },
     "execution_count": 153,
     "metadata": {},
     "output_type": "execute_result"
    }
   ],
   "source": [
    "df[['rc']]"
   ]
  },
  {
   "cell_type": "code",
   "execution_count": null,
   "id": "a9774f24",
   "metadata": {},
   "outputs": [],
   "source": []
  },
  {
   "cell_type": "code",
   "execution_count": 154,
   "id": "9a92db1c",
   "metadata": {},
   "outputs": [],
   "source": [
    "columns = pd.read_csv(r'E:\\Net_Income_Canada\\data_description.txt',sep='-')\n",
    "columns =columns.reset_index()"
   ]
  },
  {
   "cell_type": "code",
   "execution_count": 155,
   "id": "92e7e459",
   "metadata": {},
   "outputs": [
    {
     "data": {
      "text/html": [
       "<div>\n",
       "<style scoped>\n",
       "    .dataframe tbody tr th:only-of-type {\n",
       "        vertical-align: middle;\n",
       "    }\n",
       "\n",
       "    .dataframe tbody tr th {\n",
       "        vertical-align: top;\n",
       "    }\n",
       "\n",
       "    .dataframe thead th {\n",
       "        text-align: right;\n",
       "    }\n",
       "</style>\n",
       "<table border=\"1\" class=\"dataframe\">\n",
       "  <thead>\n",
       "    <tr style=\"text-align: right;\">\n",
       "      <th></th>\n",
       "      <th>cols</th>\n",
       "      <th>abb_col_names</th>\n",
       "    </tr>\n",
       "  </thead>\n",
       "  <tbody>\n",
       "    <tr>\n",
       "      <th>0</th>\n",
       "      <td>id</td>\n",
       "      <td>id</td>\n",
       "    </tr>\n",
       "    <tr>\n",
       "      <th>1</th>\n",
       "      <td>age</td>\n",
       "      <td>age</td>\n",
       "    </tr>\n",
       "    <tr>\n",
       "      <th>2</th>\n",
       "      <td>bp</td>\n",
       "      <td>blood pressure</td>\n",
       "    </tr>\n",
       "    <tr>\n",
       "      <th>3</th>\n",
       "      <td>sg</td>\n",
       "      <td>specific gravity</td>\n",
       "    </tr>\n",
       "    <tr>\n",
       "      <th>4</th>\n",
       "      <td>al</td>\n",
       "      <td>albumin</td>\n",
       "    </tr>\n",
       "    <tr>\n",
       "      <th>5</th>\n",
       "      <td>su</td>\n",
       "      <td>sugar</td>\n",
       "    </tr>\n",
       "    <tr>\n",
       "      <th>6</th>\n",
       "      <td>rbc</td>\n",
       "      <td>red blood cells</td>\n",
       "    </tr>\n",
       "    <tr>\n",
       "      <th>7</th>\n",
       "      <td>pc</td>\n",
       "      <td>pus cell</td>\n",
       "    </tr>\n",
       "    <tr>\n",
       "      <th>8</th>\n",
       "      <td>pcc</td>\n",
       "      <td>pus cell clumps</td>\n",
       "    </tr>\n",
       "    <tr>\n",
       "      <th>9</th>\n",
       "      <td>ba</td>\n",
       "      <td>bacteria</td>\n",
       "    </tr>\n",
       "    <tr>\n",
       "      <th>10</th>\n",
       "      <td>bgr</td>\n",
       "      <td>blood glucose random</td>\n",
       "    </tr>\n",
       "    <tr>\n",
       "      <th>11</th>\n",
       "      <td>bu</td>\n",
       "      <td>blood urea</td>\n",
       "    </tr>\n",
       "    <tr>\n",
       "      <th>12</th>\n",
       "      <td>sc</td>\n",
       "      <td>serum creatinine</td>\n",
       "    </tr>\n",
       "    <tr>\n",
       "      <th>13</th>\n",
       "      <td>sod</td>\n",
       "      <td>sodium</td>\n",
       "    </tr>\n",
       "    <tr>\n",
       "      <th>14</th>\n",
       "      <td>pot</td>\n",
       "      <td>potassium</td>\n",
       "    </tr>\n",
       "    <tr>\n",
       "      <th>15</th>\n",
       "      <td>hemo</td>\n",
       "      <td>haemoglobin</td>\n",
       "    </tr>\n",
       "    <tr>\n",
       "      <th>16</th>\n",
       "      <td>pcv</td>\n",
       "      <td>packed cell volume</td>\n",
       "    </tr>\n",
       "    <tr>\n",
       "      <th>17</th>\n",
       "      <td>wc</td>\n",
       "      <td>white blood cell count</td>\n",
       "    </tr>\n",
       "    <tr>\n",
       "      <th>18</th>\n",
       "      <td>rc</td>\n",
       "      <td>red blood cell count</td>\n",
       "    </tr>\n",
       "    <tr>\n",
       "      <th>19</th>\n",
       "      <td>htn</td>\n",
       "      <td>ypertension</td>\n",
       "    </tr>\n",
       "    <tr>\n",
       "      <th>20</th>\n",
       "      <td>dm</td>\n",
       "      <td>diabetes mellitus</td>\n",
       "    </tr>\n",
       "    <tr>\n",
       "      <th>21</th>\n",
       "      <td>cad</td>\n",
       "      <td>coronary artery disease</td>\n",
       "    </tr>\n",
       "    <tr>\n",
       "      <th>22</th>\n",
       "      <td>appet</td>\n",
       "      <td>appetite</td>\n",
       "    </tr>\n",
       "    <tr>\n",
       "      <th>23</th>\n",
       "      <td>pe</td>\n",
       "      <td>pedal edema</td>\n",
       "    </tr>\n",
       "    <tr>\n",
       "      <th>24</th>\n",
       "      <td>ane</td>\n",
       "      <td>anemia</td>\n",
       "    </tr>\n",
       "    <tr>\n",
       "      <th>25</th>\n",
       "      <td>classification</td>\n",
       "      <td>class</td>\n",
       "    </tr>\n",
       "  </tbody>\n",
       "</table>\n",
       "</div>"
      ],
      "text/plain": [
       "               cols            abb_col_names\n",
       "0               id                        id\n",
       "1              age                       age\n",
       "2               bp            blood pressure\n",
       "3               sg          specific gravity\n",
       "4               al                   albumin\n",
       "5               su                     sugar\n",
       "6              rbc           red blood cells\n",
       "7               pc                  pus cell\n",
       "8              pcc           pus cell clumps\n",
       "9               ba                  bacteria\n",
       "10             bgr      blood glucose random\n",
       "11              bu                blood urea\n",
       "12              sc          serum creatinine\n",
       "13             sod                    sodium\n",
       "14             pot                 potassium\n",
       "15            hemo               haemoglobin\n",
       "16             pcv        packed cell volume\n",
       "17              wc    white blood cell count\n",
       "18              rc      red blood cell count\n",
       "19             htn               ypertension\n",
       "20              dm         diabetes mellitus\n",
       "21             cad   coronary artery disease\n",
       "22           appet                  appetite\n",
       "23              pe               pedal edema\n",
       "24             ane                    anemia\n",
       "25  classification                     class"
      ]
     },
     "execution_count": 155,
     "metadata": {},
     "output_type": "execute_result"
    }
   ],
   "source": [
    "columns.columns = ['cols','abb_col_names']\n",
    "columns"
   ]
  },
  {
   "cell_type": "code",
   "execution_count": 156,
   "id": "a9338bd4",
   "metadata": {},
   "outputs": [
    {
     "data": {
      "text/html": [
       "<div>\n",
       "<style scoped>\n",
       "    .dataframe tbody tr th:only-of-type {\n",
       "        vertical-align: middle;\n",
       "    }\n",
       "\n",
       "    .dataframe tbody tr th {\n",
       "        vertical-align: top;\n",
       "    }\n",
       "\n",
       "    .dataframe thead th {\n",
       "        text-align: right;\n",
       "    }\n",
       "</style>\n",
       "<table border=\"1\" class=\"dataframe\">\n",
       "  <thead>\n",
       "    <tr style=\"text-align: right;\">\n",
       "      <th></th>\n",
       "      <th>id</th>\n",
       "      <th>age</th>\n",
       "      <th>bp</th>\n",
       "      <th>sg</th>\n",
       "      <th>al</th>\n",
       "      <th>su</th>\n",
       "      <th>rbc</th>\n",
       "      <th>pc</th>\n",
       "      <th>pcc</th>\n",
       "      <th>ba</th>\n",
       "      <th>...</th>\n",
       "      <th>pcv</th>\n",
       "      <th>wc</th>\n",
       "      <th>rc</th>\n",
       "      <th>htn</th>\n",
       "      <th>dm</th>\n",
       "      <th>cad</th>\n",
       "      <th>appet</th>\n",
       "      <th>pe</th>\n",
       "      <th>ane</th>\n",
       "      <th>classification</th>\n",
       "    </tr>\n",
       "  </thead>\n",
       "  <tbody>\n",
       "    <tr>\n",
       "      <th>0</th>\n",
       "      <td>0</td>\n",
       "      <td>48.0</td>\n",
       "      <td>80.0</td>\n",
       "      <td>1.020</td>\n",
       "      <td>1.0</td>\n",
       "      <td>0.0</td>\n",
       "      <td>NaN</td>\n",
       "      <td>normal</td>\n",
       "      <td>notpresent</td>\n",
       "      <td>notpresent</td>\n",
       "      <td>...</td>\n",
       "      <td>44</td>\n",
       "      <td>7800</td>\n",
       "      <td>5.2</td>\n",
       "      <td>yes</td>\n",
       "      <td>yes</td>\n",
       "      <td>no</td>\n",
       "      <td>good</td>\n",
       "      <td>no</td>\n",
       "      <td>no</td>\n",
       "      <td>ckd</td>\n",
       "    </tr>\n",
       "    <tr>\n",
       "      <th>1</th>\n",
       "      <td>1</td>\n",
       "      <td>7.0</td>\n",
       "      <td>50.0</td>\n",
       "      <td>1.020</td>\n",
       "      <td>4.0</td>\n",
       "      <td>0.0</td>\n",
       "      <td>NaN</td>\n",
       "      <td>normal</td>\n",
       "      <td>notpresent</td>\n",
       "      <td>notpresent</td>\n",
       "      <td>...</td>\n",
       "      <td>38</td>\n",
       "      <td>6000</td>\n",
       "      <td>NaN</td>\n",
       "      <td>no</td>\n",
       "      <td>no</td>\n",
       "      <td>no</td>\n",
       "      <td>good</td>\n",
       "      <td>no</td>\n",
       "      <td>no</td>\n",
       "      <td>ckd</td>\n",
       "    </tr>\n",
       "    <tr>\n",
       "      <th>2</th>\n",
       "      <td>2</td>\n",
       "      <td>62.0</td>\n",
       "      <td>80.0</td>\n",
       "      <td>1.010</td>\n",
       "      <td>2.0</td>\n",
       "      <td>3.0</td>\n",
       "      <td>normal</td>\n",
       "      <td>normal</td>\n",
       "      <td>notpresent</td>\n",
       "      <td>notpresent</td>\n",
       "      <td>...</td>\n",
       "      <td>31</td>\n",
       "      <td>7500</td>\n",
       "      <td>NaN</td>\n",
       "      <td>no</td>\n",
       "      <td>yes</td>\n",
       "      <td>no</td>\n",
       "      <td>poor</td>\n",
       "      <td>no</td>\n",
       "      <td>yes</td>\n",
       "      <td>ckd</td>\n",
       "    </tr>\n",
       "    <tr>\n",
       "      <th>3</th>\n",
       "      <td>3</td>\n",
       "      <td>48.0</td>\n",
       "      <td>70.0</td>\n",
       "      <td>1.005</td>\n",
       "      <td>4.0</td>\n",
       "      <td>0.0</td>\n",
       "      <td>normal</td>\n",
       "      <td>abnormal</td>\n",
       "      <td>present</td>\n",
       "      <td>notpresent</td>\n",
       "      <td>...</td>\n",
       "      <td>32</td>\n",
       "      <td>6700</td>\n",
       "      <td>3.9</td>\n",
       "      <td>yes</td>\n",
       "      <td>no</td>\n",
       "      <td>no</td>\n",
       "      <td>poor</td>\n",
       "      <td>yes</td>\n",
       "      <td>yes</td>\n",
       "      <td>ckd</td>\n",
       "    </tr>\n",
       "    <tr>\n",
       "      <th>4</th>\n",
       "      <td>4</td>\n",
       "      <td>51.0</td>\n",
       "      <td>80.0</td>\n",
       "      <td>1.010</td>\n",
       "      <td>2.0</td>\n",
       "      <td>0.0</td>\n",
       "      <td>normal</td>\n",
       "      <td>normal</td>\n",
       "      <td>notpresent</td>\n",
       "      <td>notpresent</td>\n",
       "      <td>...</td>\n",
       "      <td>35</td>\n",
       "      <td>7300</td>\n",
       "      <td>4.6</td>\n",
       "      <td>no</td>\n",
       "      <td>no</td>\n",
       "      <td>no</td>\n",
       "      <td>good</td>\n",
       "      <td>no</td>\n",
       "      <td>no</td>\n",
       "      <td>ckd</td>\n",
       "    </tr>\n",
       "  </tbody>\n",
       "</table>\n",
       "<p>5 rows × 26 columns</p>\n",
       "</div>"
      ],
      "text/plain": [
       "   id   age    bp     sg   al   su     rbc        pc         pcc          ba  \\\n",
       "0   0  48.0  80.0  1.020  1.0  0.0     NaN    normal  notpresent  notpresent   \n",
       "1   1   7.0  50.0  1.020  4.0  0.0     NaN    normal  notpresent  notpresent   \n",
       "2   2  62.0  80.0  1.010  2.0  3.0  normal    normal  notpresent  notpresent   \n",
       "3   3  48.0  70.0  1.005  4.0  0.0  normal  abnormal     present  notpresent   \n",
       "4   4  51.0  80.0  1.010  2.0  0.0  normal    normal  notpresent  notpresent   \n",
       "\n",
       "   ...  pcv    wc   rc  htn   dm  cad appet   pe  ane classification  \n",
       "0  ...   44  7800  5.2  yes  yes   no  good   no   no            ckd  \n",
       "1  ...   38  6000  NaN   no   no   no  good   no   no            ckd  \n",
       "2  ...   31  7500  NaN   no  yes   no  poor   no  yes            ckd  \n",
       "3  ...   32  6700  3.9  yes   no   no  poor  yes  yes            ckd  \n",
       "4  ...   35  7300  4.6   no   no   no  good   no   no            ckd  \n",
       "\n",
       "[5 rows x 26 columns]"
      ]
     },
     "execution_count": 156,
     "metadata": {},
     "output_type": "execute_result"
    }
   ],
   "source": [
    "df.head()"
   ]
  },
  {
   "cell_type": "code",
   "execution_count": 157,
   "id": "18db9d07",
   "metadata": {},
   "outputs": [
    {
     "data": {
      "text/plain": [
       "array(['id', 'age', 'blood pressure', 'specific gravity', 'albumin',\n",
       "       'sugar', 'red blood cells', ' pus cell', 'pus cell clumps',\n",
       "       'bacteria', 'blood glucose random', 'blood urea',\n",
       "       'serum creatinine', 'sodium', 'potassium', 'haemoglobin',\n",
       "       'packed cell volume', 'white blood cell count',\n",
       "       'red blood cell count', 'ypertension', 'diabetes mellitus',\n",
       "       'coronary artery disease', 'appetite', 'pedal edema', 'anemia',\n",
       "       'class'], dtype=object)"
      ]
     },
     "execution_count": 157,
     "metadata": {},
     "output_type": "execute_result"
    }
   ],
   "source": [
    "columns['abb_col_names'].values"
   ]
  },
  {
   "cell_type": "code",
   "execution_count": 158,
   "id": "01b7284f",
   "metadata": {},
   "outputs": [
    {
     "name": "stderr",
     "output_type": "stream",
     "text": [
      "C:\\Users\\user\\AppData\\Local\\Temp/ipykernel_62664/782213405.py:1: UserWarning:\n",
      "\n",
      "Pandas doesn't allow columns to be created via a new attribute name - see https://pandas.pydata.org/pandas-docs/stable/indexing.html#attribute-access\n",
      "\n"
     ]
    }
   ],
   "source": [
    "df.colummns = columns['abb_col_names'].values"
   ]
  },
  {
   "cell_type": "code",
   "execution_count": 159,
   "id": "ab45fa09",
   "metadata": {},
   "outputs": [
    {
     "data": {
      "text/html": [
       "<div>\n",
       "<style scoped>\n",
       "    .dataframe tbody tr th:only-of-type {\n",
       "        vertical-align: middle;\n",
       "    }\n",
       "\n",
       "    .dataframe tbody tr th {\n",
       "        vertical-align: top;\n",
       "    }\n",
       "\n",
       "    .dataframe thead th {\n",
       "        text-align: right;\n",
       "    }\n",
       "</style>\n",
       "<table border=\"1\" class=\"dataframe\">\n",
       "  <thead>\n",
       "    <tr style=\"text-align: right;\">\n",
       "      <th></th>\n",
       "      <th>id</th>\n",
       "      <th>age</th>\n",
       "      <th>bp</th>\n",
       "      <th>sg</th>\n",
       "      <th>al</th>\n",
       "      <th>su</th>\n",
       "      <th>rbc</th>\n",
       "      <th>pc</th>\n",
       "      <th>pcc</th>\n",
       "      <th>ba</th>\n",
       "      <th>...</th>\n",
       "      <th>pcv</th>\n",
       "      <th>wc</th>\n",
       "      <th>rc</th>\n",
       "      <th>htn</th>\n",
       "      <th>dm</th>\n",
       "      <th>cad</th>\n",
       "      <th>appet</th>\n",
       "      <th>pe</th>\n",
       "      <th>ane</th>\n",
       "      <th>classification</th>\n",
       "    </tr>\n",
       "  </thead>\n",
       "  <tbody>\n",
       "    <tr>\n",
       "      <th>0</th>\n",
       "      <td>0</td>\n",
       "      <td>48.0</td>\n",
       "      <td>80.0</td>\n",
       "      <td>1.020</td>\n",
       "      <td>1.0</td>\n",
       "      <td>0.0</td>\n",
       "      <td>NaN</td>\n",
       "      <td>normal</td>\n",
       "      <td>notpresent</td>\n",
       "      <td>notpresent</td>\n",
       "      <td>...</td>\n",
       "      <td>44</td>\n",
       "      <td>7800</td>\n",
       "      <td>5.2</td>\n",
       "      <td>yes</td>\n",
       "      <td>yes</td>\n",
       "      <td>no</td>\n",
       "      <td>good</td>\n",
       "      <td>no</td>\n",
       "      <td>no</td>\n",
       "      <td>ckd</td>\n",
       "    </tr>\n",
       "    <tr>\n",
       "      <th>1</th>\n",
       "      <td>1</td>\n",
       "      <td>7.0</td>\n",
       "      <td>50.0</td>\n",
       "      <td>1.020</td>\n",
       "      <td>4.0</td>\n",
       "      <td>0.0</td>\n",
       "      <td>NaN</td>\n",
       "      <td>normal</td>\n",
       "      <td>notpresent</td>\n",
       "      <td>notpresent</td>\n",
       "      <td>...</td>\n",
       "      <td>38</td>\n",
       "      <td>6000</td>\n",
       "      <td>NaN</td>\n",
       "      <td>no</td>\n",
       "      <td>no</td>\n",
       "      <td>no</td>\n",
       "      <td>good</td>\n",
       "      <td>no</td>\n",
       "      <td>no</td>\n",
       "      <td>ckd</td>\n",
       "    </tr>\n",
       "    <tr>\n",
       "      <th>2</th>\n",
       "      <td>2</td>\n",
       "      <td>62.0</td>\n",
       "      <td>80.0</td>\n",
       "      <td>1.010</td>\n",
       "      <td>2.0</td>\n",
       "      <td>3.0</td>\n",
       "      <td>normal</td>\n",
       "      <td>normal</td>\n",
       "      <td>notpresent</td>\n",
       "      <td>notpresent</td>\n",
       "      <td>...</td>\n",
       "      <td>31</td>\n",
       "      <td>7500</td>\n",
       "      <td>NaN</td>\n",
       "      <td>no</td>\n",
       "      <td>yes</td>\n",
       "      <td>no</td>\n",
       "      <td>poor</td>\n",
       "      <td>no</td>\n",
       "      <td>yes</td>\n",
       "      <td>ckd</td>\n",
       "    </tr>\n",
       "    <tr>\n",
       "      <th>3</th>\n",
       "      <td>3</td>\n",
       "      <td>48.0</td>\n",
       "      <td>70.0</td>\n",
       "      <td>1.005</td>\n",
       "      <td>4.0</td>\n",
       "      <td>0.0</td>\n",
       "      <td>normal</td>\n",
       "      <td>abnormal</td>\n",
       "      <td>present</td>\n",
       "      <td>notpresent</td>\n",
       "      <td>...</td>\n",
       "      <td>32</td>\n",
       "      <td>6700</td>\n",
       "      <td>3.9</td>\n",
       "      <td>yes</td>\n",
       "      <td>no</td>\n",
       "      <td>no</td>\n",
       "      <td>poor</td>\n",
       "      <td>yes</td>\n",
       "      <td>yes</td>\n",
       "      <td>ckd</td>\n",
       "    </tr>\n",
       "    <tr>\n",
       "      <th>4</th>\n",
       "      <td>4</td>\n",
       "      <td>51.0</td>\n",
       "      <td>80.0</td>\n",
       "      <td>1.010</td>\n",
       "      <td>2.0</td>\n",
       "      <td>0.0</td>\n",
       "      <td>normal</td>\n",
       "      <td>normal</td>\n",
       "      <td>notpresent</td>\n",
       "      <td>notpresent</td>\n",
       "      <td>...</td>\n",
       "      <td>35</td>\n",
       "      <td>7300</td>\n",
       "      <td>4.6</td>\n",
       "      <td>no</td>\n",
       "      <td>no</td>\n",
       "      <td>no</td>\n",
       "      <td>good</td>\n",
       "      <td>no</td>\n",
       "      <td>no</td>\n",
       "      <td>ckd</td>\n",
       "    </tr>\n",
       "  </tbody>\n",
       "</table>\n",
       "<p>5 rows × 26 columns</p>\n",
       "</div>"
      ],
      "text/plain": [
       "   id   age    bp     sg   al   su     rbc        pc         pcc          ba  \\\n",
       "0   0  48.0  80.0  1.020  1.0  0.0     NaN    normal  notpresent  notpresent   \n",
       "1   1   7.0  50.0  1.020  4.0  0.0     NaN    normal  notpresent  notpresent   \n",
       "2   2  62.0  80.0  1.010  2.0  3.0  normal    normal  notpresent  notpresent   \n",
       "3   3  48.0  70.0  1.005  4.0  0.0  normal  abnormal     present  notpresent   \n",
       "4   4  51.0  80.0  1.010  2.0  0.0  normal    normal  notpresent  notpresent   \n",
       "\n",
       "   ...  pcv    wc   rc  htn   dm  cad appet   pe  ane classification  \n",
       "0  ...   44  7800  5.2  yes  yes   no  good   no   no            ckd  \n",
       "1  ...   38  6000  NaN   no   no   no  good   no   no            ckd  \n",
       "2  ...   31  7500  NaN   no  yes   no  poor   no  yes            ckd  \n",
       "3  ...   32  6700  3.9  yes   no   no  poor  yes  yes            ckd  \n",
       "4  ...   35  7300  4.6   no   no   no  good   no   no            ckd  \n",
       "\n",
       "[5 rows x 26 columns]"
      ]
     },
     "execution_count": 159,
     "metadata": {},
     "output_type": "execute_result"
    }
   ],
   "source": [
    "df.head()"
   ]
  },
  {
   "cell_type": "code",
   "execution_count": 160,
   "id": "b33fd8b3",
   "metadata": {},
   "outputs": [
    {
     "data": {
      "text/plain": [
       "id                  int64\n",
       "age               float64\n",
       "bp                float64\n",
       "sg                float64\n",
       "al                float64\n",
       "su                float64\n",
       "rbc                object\n",
       "pc                 object\n",
       "pcc                object\n",
       "ba                 object\n",
       "bgr               float64\n",
       "bu                float64\n",
       "sc                float64\n",
       "sod               float64\n",
       "pot               float64\n",
       "hemo              float64\n",
       "pcv                object\n",
       "wc                 object\n",
       "rc                 object\n",
       "htn                object\n",
       "dm                 object\n",
       "cad                object\n",
       "appet              object\n",
       "pe                 object\n",
       "ane                object\n",
       "classification     object\n",
       "dtype: object"
      ]
     },
     "execution_count": 160,
     "metadata": {},
     "output_type": "execute_result"
    }
   ],
   "source": [
    "df.dtypes"
   ]
  },
  {
   "cell_type": "code",
   "execution_count": 161,
   "id": "decf2045",
   "metadata": {},
   "outputs": [],
   "source": [
    "features = ['rc','pcv','wc']"
   ]
  },
  {
   "cell_type": "code",
   "execution_count": 162,
   "id": "cb8ec528",
   "metadata": {},
   "outputs": [],
   "source": [
    "def convert_dtype(df,feature):\n",
    "    df[feature]=pd.to_numeric(df[feature],errors='coerce')"
   ]
  },
  {
   "cell_type": "code",
   "execution_count": 163,
   "id": "8500df00",
   "metadata": {},
   "outputs": [],
   "source": [
    "for feature in features:\n",
    "    convert_dtype(df,feature)"
   ]
  },
  {
   "cell_type": "code",
   "execution_count": 164,
   "id": "121fc65b",
   "metadata": {},
   "outputs": [
    {
     "data": {
      "text/plain": [
       "id                  int64\n",
       "age               float64\n",
       "bp                float64\n",
       "sg                float64\n",
       "al                float64\n",
       "su                float64\n",
       "rbc                object\n",
       "pc                 object\n",
       "pcc                object\n",
       "ba                 object\n",
       "bgr               float64\n",
       "bu                float64\n",
       "sc                float64\n",
       "sod               float64\n",
       "pot               float64\n",
       "hemo              float64\n",
       "pcv               float64\n",
       "wc                float64\n",
       "rc                float64\n",
       "htn                object\n",
       "dm                 object\n",
       "cad                object\n",
       "appet              object\n",
       "pe                 object\n",
       "ane                object\n",
       "classification     object\n",
       "dtype: object"
      ]
     },
     "execution_count": 164,
     "metadata": {},
     "output_type": "execute_result"
    }
   ],
   "source": [
    "df.dtypes"
   ]
  },
  {
   "cell_type": "code",
   "execution_count": 165,
   "id": "371e824b",
   "metadata": {},
   "outputs": [],
   "source": [
    "df.drop('id',axis=1,inplace=True)"
   ]
  },
  {
   "cell_type": "code",
   "execution_count": 166,
   "id": "f79765f8",
   "metadata": {},
   "outputs": [],
   "source": [
    "df['rc'] = df['rc'].astype('float64')"
   ]
  },
  {
   "cell_type": "code",
   "execution_count": 167,
   "id": "26135715",
   "metadata": {},
   "outputs": [],
   "source": [
    "def extract_cat_num(df):\n",
    "    cat_col = [col for col in df.columns if df[col].dtype =='object']\n",
    "    num_col = [col for col in df.columns if df[col].dtype !='object']\n",
    "    return cat_col,num_col"
   ]
  },
  {
   "cell_type": "code",
   "execution_count": 168,
   "id": "9fc56a77",
   "metadata": {},
   "outputs": [],
   "source": [
    "cat_col,num_col =extract_cat_num(df)"
   ]
  },
  {
   "cell_type": "code",
   "execution_count": 169,
   "id": "f0a27c8a",
   "metadata": {},
   "outputs": [
    {
     "data": {
      "text/plain": [
       "['rbc',\n",
       " 'pc',\n",
       " 'pcc',\n",
       " 'ba',\n",
       " 'htn',\n",
       " 'dm',\n",
       " 'cad',\n",
       " 'appet',\n",
       " 'pe',\n",
       " 'ane',\n",
       " 'classification']"
      ]
     },
     "execution_count": 169,
     "metadata": {},
     "output_type": "execute_result"
    }
   ],
   "source": [
    "cat_col"
   ]
  },
  {
   "cell_type": "code",
   "execution_count": 170,
   "id": "4acf1ce6",
   "metadata": {},
   "outputs": [
    {
     "data": {
      "text/plain": [
       "['age',\n",
       " 'bp',\n",
       " 'sg',\n",
       " 'al',\n",
       " 'su',\n",
       " 'bgr',\n",
       " 'bu',\n",
       " 'sc',\n",
       " 'sod',\n",
       " 'pot',\n",
       " 'hemo',\n",
       " 'pcv',\n",
       " 'wc',\n",
       " 'rc']"
      ]
     },
     "execution_count": 170,
     "metadata": {},
     "output_type": "execute_result"
    }
   ],
   "source": [
    "num_col"
   ]
  },
  {
   "cell_type": "code",
   "execution_count": 171,
   "id": "61d4a71b",
   "metadata": {},
   "outputs": [
    {
     "name": "stdout",
     "output_type": "stream",
     "text": [
      "rbc has [nan 'normal' 'abnormal'] values as unique\n",
      "\n",
      "\n",
      "pc has ['normal' 'abnormal' nan] values as unique\n",
      "\n",
      "\n",
      "pcc has ['notpresent' 'present' nan] values as unique\n",
      "\n",
      "\n",
      "ba has ['notpresent' 'present' nan] values as unique\n",
      "\n",
      "\n",
      "htn has ['yes' 'no' nan] values as unique\n",
      "\n",
      "\n",
      "dm has ['yes' 'no' ' yes' '\\tno' '\\tyes' nan] values as unique\n",
      "\n",
      "\n",
      "cad has ['no' 'yes' '\\tno' nan] values as unique\n",
      "\n",
      "\n",
      "appet has ['good' 'poor' nan] values as unique\n",
      "\n",
      "\n",
      "pe has ['no' 'yes' nan] values as unique\n",
      "\n",
      "\n",
      "ane has ['no' 'yes' nan] values as unique\n",
      "\n",
      "\n",
      "classification has ['ckd' 'ckd\\t' 'notckd'] values as unique\n",
      "\n",
      "\n"
     ]
    }
   ],
   "source": [
    "for col in cat_col:\n",
    "    print('{} has {} values as unique'.format(col,df[col].unique()))\n",
    "    print('\\n')"
   ]
  },
  {
   "cell_type": "code",
   "execution_count": 172,
   "id": "0c93551e",
   "metadata": {},
   "outputs": [],
   "source": [
    "df['dm'].replace(to_replace={'\\tno':'no' ,'\\tyes':'yes' },inplace=True)"
   ]
  },
  {
   "cell_type": "code",
   "execution_count": 173,
   "id": "5327c0db",
   "metadata": {},
   "outputs": [],
   "source": [
    "df['cad']=df['cad'].replace(to_replace='\\tno',value = 'no')"
   ]
  },
  {
   "cell_type": "code",
   "execution_count": 174,
   "id": "eb361e62",
   "metadata": {},
   "outputs": [],
   "source": [
    "df['rc'].replace(to_replace = {'\\t?':'0'},inplace=True)"
   ]
  },
  {
   "cell_type": "code",
   "execution_count": 175,
   "id": "f5bce864",
   "metadata": {},
   "outputs": [],
   "source": [
    "df['classification'].replace(to_replace = {'ckd\\t':'ckd'},inplace=True)"
   ]
  },
  {
   "cell_type": "code",
   "execution_count": 176,
   "id": "38ed9ea7",
   "metadata": {},
   "outputs": [
    {
     "name": "stdout",
     "output_type": "stream",
     "text": [
      "rbc has [nan 'normal' 'abnormal'] values as unique\n",
      "\n",
      "\n",
      "pc has ['normal' 'abnormal' nan] values as unique\n",
      "\n",
      "\n",
      "pcc has ['notpresent' 'present' nan] values as unique\n",
      "\n",
      "\n",
      "ba has ['notpresent' 'present' nan] values as unique\n",
      "\n",
      "\n",
      "htn has ['yes' 'no' nan] values as unique\n",
      "\n",
      "\n",
      "dm has ['yes' 'no' ' yes' nan] values as unique\n",
      "\n",
      "\n",
      "cad has ['no' 'yes' nan] values as unique\n",
      "\n",
      "\n",
      "appet has ['good' 'poor' nan] values as unique\n",
      "\n",
      "\n",
      "pe has ['no' 'yes' nan] values as unique\n",
      "\n",
      "\n",
      "ane has ['no' 'yes' nan] values as unique\n",
      "\n",
      "\n",
      "classification has ['ckd' 'notckd'] values as unique\n",
      "\n",
      "\n"
     ]
    }
   ],
   "source": [
    "for col in cat_col:\n",
    "    print('{} has {} values as unique'.format(col,df[col].unique()))\n",
    "    print('\\n')"
   ]
  },
  {
   "cell_type": "code",
   "execution_count": 177,
   "id": "91bcc118",
   "metadata": {},
   "outputs": [],
   "source": [
    "# Analysing Distribution of Data"
   ]
  },
  {
   "cell_type": "code",
   "execution_count": 178,
   "id": "b0470413",
   "metadata": {
    "scrolled": true
   },
   "outputs": [
    {
     "data": {
      "image/png": "[encoded data removed]",
      "text/plain": [
       "<Figure size 2160x1440 with 14 Axes>"
      ]
     },
     "metadata": {
      "needs_background": "light"
     },
     "output_type": "display_data"
    }
   ],
   "source": [
    "plt.figure(figsize=(30,20))\n",
    "\n",
    "for i,feature in enumerate(num_col):\n",
    "    plt.subplot(5,3,i+1)\n",
    "    df[feature].hist()\n",
    "    plt.title(feature)"
   ]
  },
  {
   "cell_type": "code",
   "execution_count": 179,
   "id": "232288aa",
   "metadata": {},
   "outputs": [],
   "source": [
    "# label distribution of categorical data"
   ]
  },
  {
   "cell_type": "code",
   "execution_count": 180,
   "id": "ed0f28ea",
   "metadata": {},
   "outputs": [],
   "source": [
    "## ckd,notckd"
   ]
  },
  {
   "cell_type": "code",
   "execution_count": 181,
   "id": "ce628a3c",
   "metadata": {},
   "outputs": [
    {
     "data": {
      "text/plain": [
       "14"
      ]
     },
     "execution_count": 181,
     "metadata": {},
     "output_type": "execute_result"
    }
   ],
   "source": [
    "len(num_col)"
   ]
  },
  {
   "cell_type": "code",
   "execution_count": 182,
   "id": "5d8943fc",
   "metadata": {},
   "outputs": [
    {
     "data": {
      "text/plain": [
       "11"
      ]
     },
     "execution_count": 182,
     "metadata": {},
     "output_type": "execute_result"
    }
   ],
   "source": [
    "len(cat_col)"
   ]
  },
  {
   "cell_type": "code",
   "execution_count": 183,
   "id": "2869308c",
   "metadata": {
    "scrolled": true
   },
   "outputs": [
    {
     "name": "stderr",
     "output_type": "stream",
     "text": [
      "c:\\ProgramData\\Anaconda3\\lib\\site-packages\\seaborn\\_decorators.py:36: FutureWarning:\n",
      "\n",
      "Pass the following variable as a keyword arg: x. From version 0.12, the only valid positional argument will be `data`, and passing other arguments without an explicit keyword will result in an error or misinterpretation.\n",
      "\n",
      "c:\\ProgramData\\Anaconda3\\lib\\site-packages\\seaborn\\_decorators.py:36: FutureWarning:\n",
      "\n",
      "Pass the following variable as a keyword arg: x. From version 0.12, the only valid positional argument will be `data`, and passing other arguments without an explicit keyword will result in an error or misinterpretation.\n",
      "\n",
      "c:\\ProgramData\\Anaconda3\\lib\\site-packages\\seaborn\\_decorators.py:36: FutureWarning:\n",
      "\n",
      "Pass the following variable as a keyword arg: x. From version 0.12, the only valid positional argument will be `data`, and passing other arguments without an explicit keyword will result in an error or misinterpretation.\n",
      "\n",
      "c:\\ProgramData\\Anaconda3\\lib\\site-packages\\seaborn\\_decorators.py:36: FutureWarning:\n",
      "\n",
      "Pass the following variable as a keyword arg: x. From version 0.12, the only valid positional argument will be `data`, and passing other arguments without an explicit keyword will result in an error or misinterpretation.\n",
      "\n",
      "c:\\ProgramData\\Anaconda3\\lib\\site-packages\\seaborn\\_decorators.py:36: FutureWarning:\n",
      "\n",
      "Pass the following variable as a keyword arg: x. From version 0.12, the only valid positional argument will be `data`, and passing other arguments without an explicit keyword will result in an error or misinterpretation.\n",
      "\n",
      "c:\\ProgramData\\Anaconda3\\lib\\site-packages\\seaborn\\_decorators.py:36: FutureWarning:\n",
      "\n",
      "Pass the following variable as a keyword arg: x. From version 0.12, the only valid positional argument will be `data`, and passing other arguments without an explicit keyword will result in an error or misinterpretation.\n",
      "\n",
      "c:\\ProgramData\\Anaconda3\\lib\\site-packages\\seaborn\\_decorators.py:36: FutureWarning:\n",
      "\n",
      "Pass the following variable as a keyword arg: x. From version 0.12, the only valid positional argument will be `data`, and passing other arguments without an explicit keyword will result in an error or misinterpretation.\n",
      "\n",
      "c:\\ProgramData\\Anaconda3\\lib\\site-packages\\seaborn\\_decorators.py:36: FutureWarning:\n",
      "\n",
      "Pass the following variable as a keyword arg: x. From version 0.12, the only valid positional argument will be `data`, and passing other arguments without an explicit keyword will result in an error or misinterpretation.\n",
      "\n",
      "c:\\ProgramData\\Anaconda3\\lib\\site-packages\\seaborn\\_decorators.py:36: FutureWarning:\n",
      "\n",
      "Pass the following variable as a keyword arg: x. From version 0.12, the only valid positional argument will be `data`, and passing other arguments without an explicit keyword will result in an error or misinterpretation.\n",
      "\n",
      "c:\\ProgramData\\Anaconda3\\lib\\site-packages\\seaborn\\_decorators.py:36: FutureWarning:\n",
      "\n",
      "Pass the following variable as a keyword arg: x. From version 0.12, the only valid positional argument will be `data`, and passing other arguments without an explicit keyword will result in an error or misinterpretation.\n",
      "\n",
      "c:\\ProgramData\\Anaconda3\\lib\\site-packages\\seaborn\\_decorators.py:36: FutureWarning:\n",
      "\n",
      "Pass the following variable as a keyword arg: x. From version 0.12, the only valid positional argument will be `data`, and passing other arguments without an explicit keyword will result in an error or misinterpretation.\n",
      "\n"
     ]
    },
    {
     "data": {
      "image/png": "[encoded data removed]",
      "text/plain": [
       "<Figure size 864x1152 with 11 Axes>"
      ]
     },
     "metadata": {
      "needs_background": "light"
     },
     "output_type": "display_data"
    }
   ],
   "source": [
    "plt.figure(figsize=(12,16))\n",
    "\n",
    "for i,feature in enumerate(cat_col):\n",
    "    plt.subplot(4,3,i+1)\n",
    "    sns.countplot(df[feature])"
   ]
  },
  {
   "cell_type": "code",
   "execution_count": 184,
   "id": "306eb291",
   "metadata": {},
   "outputs": [
    {
     "name": "stderr",
     "output_type": "stream",
     "text": [
      "c:\\ProgramData\\Anaconda3\\lib\\site-packages\\seaborn\\_decorators.py:36: FutureWarning:\n",
      "\n",
      "Pass the following variable as a keyword arg: x. From version 0.12, the only valid positional argument will be `data`, and passing other arguments without an explicit keyword will result in an error or misinterpretation.\n",
      "\n"
     ]
    },
    {
     "data": {
      "text/plain": [
       "<AxesSubplot:xlabel='classification', ylabel='count'>"
      ]
     },
     "execution_count": 184,
     "metadata": {},
     "output_type": "execute_result"
    },
    {
     "data": {
      "image/png": "[encoded data removed]",
      "text/plain": [
       "<Figure size 432x288 with 1 Axes>"
      ]
     },
     "metadata": {
      "needs_background": "light"
     },
     "output_type": "display_data"
    }
   ],
   "source": [
    "sns.countplot(df['classification'])"
   ]
  },
  {
   "cell_type": "code",
   "execution_count": 185,
   "id": "594e4ebc",
   "metadata": {},
   "outputs": [],
   "source": [
    "# How to check correlation in data\n",
    "# How the columns are correlated to each other "
   ]
  },
  {
   "cell_type": "code",
   "execution_count": 186,
   "id": "e9261e7b",
   "metadata": {},
   "outputs": [
    {
     "data": {
      "text/plain": [
       "<AxesSubplot:>"
      ]
     },
     "execution_count": 186,
     "metadata": {},
     "output_type": "execute_result"
    },
    {
     "data": {
      "image/png": "[encoded data removed]",
      "text/plain": [
       "<Figure size 720x576 with 2 Axes>"
      ]
     },
     "metadata": {
      "needs_background": "light"
     },
     "output_type": "display_data"
    }
   ],
   "source": [
    "df.corr()\n",
    "plt.figure(figsize=(10,8))\n",
    "sns.heatmap(df.corr(),annot=True)"
   ]
  },
  {
   "cell_type": "code",
   "execution_count": 187,
   "id": "c16ec90e",
   "metadata": {},
   "outputs": [
    {
     "data": {
      "text/plain": [
       "Index(['age', 'bp', 'sg', 'al', 'su', 'rbc', 'pc', 'pcc', 'ba', 'bgr', 'bu',\n",
       "       'sc', 'sod', 'pot', 'hemo', 'pcv', 'wc', 'rc', 'htn', 'dm', 'cad',\n",
       "       'appet', 'pe', 'ane', 'classification'],\n",
       "      dtype='object')"
      ]
     },
     "execution_count": 187,
     "metadata": {},
     "output_type": "execute_result"
    }
   ],
   "source": [
    "df.columns"
   ]
  },
  {
   "cell_type": "code",
   "execution_count": 188,
   "id": "4feb9b57",
   "metadata": {},
   "outputs": [
    {
     "data": {
      "text/html": [
       "<div>\n",
       "<style scoped>\n",
       "    .dataframe tbody tr th:only-of-type {\n",
       "        vertical-align: middle;\n",
       "    }\n",
       "\n",
       "    .dataframe tbody tr th {\n",
       "        vertical-align: top;\n",
       "    }\n",
       "\n",
       "    .dataframe thead th {\n",
       "        text-align: right;\n",
       "    }\n",
       "</style>\n",
       "<table border=\"1\" class=\"dataframe\">\n",
       "  <thead>\n",
       "    <tr style=\"text-align: right;\">\n",
       "      <th></th>\n",
       "      <th></th>\n",
       "      <th>count</th>\n",
       "      <th>mean</th>\n",
       "      <th>median</th>\n",
       "      <th>min</th>\n",
       "      <th>max</th>\n",
       "    </tr>\n",
       "    <tr>\n",
       "      <th>rbc</th>\n",
       "      <th>classification</th>\n",
       "      <th></th>\n",
       "      <th></th>\n",
       "      <th></th>\n",
       "      <th></th>\n",
       "      <th></th>\n",
       "    </tr>\n",
       "  </thead>\n",
       "  <tbody>\n",
       "    <tr>\n",
       "      <th>abnormal</th>\n",
       "      <th>ckd</th>\n",
       "      <td>25</td>\n",
       "      <td>3.832000</td>\n",
       "      <td>3.7</td>\n",
       "      <td>2.5</td>\n",
       "      <td>5.6</td>\n",
       "    </tr>\n",
       "    <tr>\n",
       "      <th rowspan=\"2\" valign=\"top\">normal</th>\n",
       "      <th>ckd</th>\n",
       "      <td>40</td>\n",
       "      <td>3.782500</td>\n",
       "      <td>3.8</td>\n",
       "      <td>2.1</td>\n",
       "      <td>8.0</td>\n",
       "    </tr>\n",
       "    <tr>\n",
       "      <th>notckd</th>\n",
       "      <td>134</td>\n",
       "      <td>5.368657</td>\n",
       "      <td>5.3</td>\n",
       "      <td>4.4</td>\n",
       "      <td>6.5</td>\n",
       "    </tr>\n",
       "  </tbody>\n",
       "</table>\n",
       "</div>"
      ],
      "text/plain": [
       "                         count      mean  median  min  max\n",
       "rbc      classification                                   \n",
       "abnormal ckd                25  3.832000     3.7  2.5  5.6\n",
       "normal   ckd                40  3.782500     3.8  2.1  8.0\n",
       "         notckd            134  5.368657     5.3  4.4  6.5"
      ]
     },
     "execution_count": 188,
     "metadata": {},
     "output_type": "execute_result"
    }
   ],
   "source": [
    "df.groupby(['rbc','classification'])['rc'].agg(['count','mean','median','min','max'])"
   ]
  },
  {
   "cell_type": "code",
   "execution_count": 189,
   "id": "d8a0a641",
   "metadata": {},
   "outputs": [],
   "source": [
    "import plotly.express as px"
   ]
  },
  {
   "cell_type": "code",
   "execution_count": 190,
   "id": "e81cf147",
   "metadata": {},
   "outputs": [
    {
     "data": {
      "text/plain": [
       "Index(['age', 'bp', 'sg', 'al', 'su', 'rbc', 'pc', 'pcc', 'ba', 'bgr', 'bu',\n",
       "       'sc', 'sod', 'pot', 'hemo', 'pcv', 'wc', 'rc', 'htn', 'dm', 'cad',\n",
       "       'appet', 'pe', 'ane', 'classification'],\n",
       "      dtype='object')"
      ]
     },
     "execution_count": 190,
     "metadata": {},
     "output_type": "execute_result"
    }
   ],
   "source": [
    "df.columns"
   ]
  },
  {
   "cell_type": "code",
   "execution_count": 191,
   "id": "0bed280e",
   "metadata": {},
   "outputs": [
    {
     "data": {
      "application/vnd.plotly.v1+json": {
       "config": {
        "plotlyServerURL": "https://plot.ly"
       },
       "data": [
        {
         "alignmentgroup": "True",
         "box": {
          "visible": false
         },
         "hovertemplate": "classification=%{x}<br>rc=%{y}<extra></extra>",
         "legendgroup": "ckd",
         "marker": {
          "color": "#636efa"
         },
         "name": "ckd",
         "offsetgroup": "ckd",
         "orientation": "v",
         "scalegroup": "True",
         "showlegend": true,
         "type": "violin",
         "x": [
          "ckd",
          "ckd",
          "ckd",
          "ckd",
          "ckd",
          "ckd",
          "ckd",
          "ckd",
          "ckd",
          "ckd",
          "ckd",
          "ckd",
          "ckd",
          "ckd",
          "ckd",
          "ckd",
          "ckd",
          "ckd",
          "ckd",
          "ckd",
          "ckd",
          "ckd",
          "ckd",
          "ckd",
          "ckd",
          "ckd",
          "ckd",
          "ckd",
          "ckd",
          "ckd",
          "ckd",
          "ckd",
          "ckd",
          "ckd",
          "ckd",
          "ckd",
          "ckd",
          "ckd",
          "ckd",
          "ckd",
          "ckd",
          "ckd",
          "ckd",
          "ckd",
          "ckd",
          "ckd",
          "ckd",
          "ckd",
          "ckd",
          "ckd",
          "ckd",
          "ckd",
          "ckd",
          "ckd",
          "ckd",
          "ckd",
          "ckd",
          "ckd",
          "ckd",
          "ckd",
          "ckd",
          "ckd",
          "ckd",
          "ckd",
          "ckd",
          "ckd",
          "ckd",
          "ckd",
          "ckd",
          "ckd",
          "ckd",
          "ckd",
          "ckd",
          "ckd",
          "ckd",
          "ckd",
          "ckd",
          "ckd",
          "ckd",
          "ckd",
          "ckd",
          "ckd",
          "ckd",
          "ckd",
          "ckd",
          "ckd",
          "ckd",
          "ckd",
          "ckd",
          "ckd",
          "ckd",
          "ckd",
          "ckd",
          "ckd",
          "ckd",
          "ckd",
          "ckd",
          "ckd",
          "ckd",
          "ckd",
          "ckd",
          "ckd",
          "ckd",
          "ckd",
          "ckd",
          "ckd",
          "ckd",
          "ckd",
          "ckd",
          "ckd",
          "ckd",
          "ckd",
          "ckd",
          "ckd",
          "ckd",
          "ckd",
          "ckd",
          "ckd",
          "ckd",
          "ckd",
          "ckd",
          "ckd",
          "ckd",
          "ckd",
          "ckd",
          "ckd",
          "ckd",
          "ckd",
          "ckd",
          "ckd",
          "ckd",
          "ckd",
          "ckd",
          "ckd",
          "ckd",
          "ckd",
          "ckd",
          "ckd",
          "ckd",
          "ckd",
          "ckd",
          "ckd",
          "ckd",
          "ckd",
          "ckd",
          "ckd",
          "ckd",
          "ckd",
          "ckd",
          "ckd",
          "ckd",
          "ckd",
          "ckd",
          "ckd",
          "ckd",
          "ckd",
          "ckd",
          "ckd",
          "ckd",
          "ckd",
          "ckd",
          "ckd",
          "ckd",
          "ckd",
          "ckd",
          "ckd",
          "ckd",
          "ckd",
          "ckd",
          "ckd",
          "ckd",
          "ckd",
          "ckd",
          "ckd",
          "ckd",
          "ckd",
          "ckd",
          "ckd",
          "ckd",
          "ckd",
          "ckd",
          "ckd",
          "ckd",
          "ckd",
          "ckd",
          "ckd",
          "ckd",
          "ckd",
          "ckd",
          "ckd",
          "ckd",
          "ckd",
          "ckd",
          "ckd",
          "ckd",
          "ckd",
          "ckd",
          "ckd",
          "ckd",
          "ckd",
          "ckd",
          "ckd",
          "ckd",
          "ckd",
          "ckd",
          "ckd",
          "ckd",
          "ckd",
          "ckd",
          "ckd",
          "ckd",
          "ckd",
          "ckd",
          "ckd",
          "ckd",
          "ckd",
          "ckd",
          "ckd",
          "ckd",
          "ckd",
          "ckd",
          "ckd",
          "ckd",
          "ckd",
          "ckd",
          "ckd",
          "ckd",
          "ckd",
          "ckd",
          "ckd",
          "ckd",
          "ckd",
          "ckd",
          "ckd",
          "ckd",
          "ckd",
          "ckd",
          "ckd",
          "ckd",
          "ckd",
          "ckd",
          "ckd",
          "ckd",
          "ckd",
          "ckd",
          "ckd",
          "ckd",
          "ckd",
          "ckd",
          "ckd"
         ],
         "x0": " ",
         "xaxis": "x",
         "y": [
          5.2,
          null,
          null,
          3.9,
          4.6,
          4.4,
          null,
          5,
          4,
          3.7,
          null,
          3.8,
          3.4,
          null,
          2.6,
          2.8,
          null,
          null,
          4.3,
          3.7,
          3.2,
          3.6,
          3.4,
          null,
          4.6,
          3.7,
          4,
          4.1,
          null,
          null,
          null,
          4,
          4,
          null,
          null,
          4.9,
          null,
          2.5,
          null,
          4.2,
          4.1,
          null,
          4.5,
          3.1,
          null,
          null,
          4.7,
          null,
          3.5,
          3.5,
          3.8,
          null,
          3.7,
          4.7,
          4.2,
          null,
          3.4,
          null,
          4.3,
          null,
          null,
          null,
          3.8,
          null,
          null,
          null,
          null,
          null,
          null,
          6,
          5.2,
          3.2,
          null,
          null,
          3.4,
          null,
          4,
          3.7,
          null,
          5,
          3.8,
          3.7,
          null,
          null,
          2.1,
          null,
          null,
          5,
          4.7,
          null,
          4.2,
          5.6,
          3.6,
          3.2,
          3.9,
          null,
          null,
          4,
          2.3,
          4.2,
          null,
          3.9,
          null,
          4.2,
          null,
          5.2,
          null,
          4.4,
          4.2,
          null,
          4.7,
          3.9,
          null,
          null,
          null,
          4.3,
          null,
          4.4,
          null,
          null,
          null,
          null,
          null,
          null,
          3.6,
          null,
          4.5,
          4.3,
          2.9,
          null,
          2.7,
          null,
          2.7,
          8,
          3.8,
          null,
          null,
          null,
          null,
          null,
          null,
          null,
          null,
          null,
          4.1,
          3.3,
          null,
          3,
          null,
          null,
          null,
          null,
          null,
          2.9,
          3,
          null,
          null,
          3.9,
          null,
          4.3,
          2.4,
          4.8,
          null,
          3.2,
          5.4,
          null,
          null,
          null,
          null,
          null,
          4.4,
          3.1,
          4.9,
          null,
          4.6,
          3.4,
          3.9,
          null,
          null,
          null,
          null,
          3.7,
          null,
          null,
          3.6,
          null,
          null,
          null,
          null,
          3.4,
          4.8,
          3.4,
          null,
          2.8,
          null,
          null,
          3.5,
          3,
          3.9,
          3.2,
          3.9,
          null,
          null,
          null,
          null,
          null,
          null,
          4.6,
          4.9,
          null,
          3.9,
          null,
          3.4,
          3.7,
          5.2,
          null,
          null,
          4.3,
          null,
          3.3,
          null,
          null,
          null,
          4.6,
          null,
          4.5,
          3.4,
          3.8,
          null,
          3.8,
          null,
          null,
          null,
          null,
          5.2,
          null,
          null,
          null,
          null,
          null,
          4.1,
          3.9,
          3.3,
          6.1,
          4.6,
          2.6,
          2.5,
          null,
          4.1,
          2.1
         ],
         "y0": " ",
         "yaxis": "y"
        },
        {
         "alignmentgroup": "True",
         "box": {
          "visible": false
         },
         "hovertemplate": "classification=%{x}<br>rc=%{y}<extra></extra>",
         "legendgroup": "notckd",
         "marker": {
          "color": "#EF553B"
         },
         "name": "notckd",
         "offsetgroup": "notckd",
         "orientation": "v",
         "scalegroup": "True",
         "showlegend": true,
         "type": "violin",
         "x": [
          "notckd",
          "notckd",
          "notckd",
          "notckd",
          "notckd",
          "notckd",
          "notckd",
          "notckd",
          "notckd",
          "notckd",
          "notckd",
          "notckd",
          "notckd",
          "notckd",
          "notckd",
          "notckd",
          "notckd",
          "notckd",
          "notckd",
          "notckd",
          "notckd",
          "notckd",
          "notckd",
          "notckd",
          "notckd",
          "notckd",
          "notckd",
          "notckd",
          "notckd",
          "notckd",
          "notckd",
          "notckd",
          "notckd",
          "notckd",
          "notckd",
          "notckd",
          "notckd",
          "notckd",
          "notckd",
          "notckd",
          "notckd",
          "notckd",
          "notckd",
          "notckd",
          "notckd",
          "notckd",
          "notckd",
          "notckd",
          "notckd",
          "notckd",
          "notckd",
          "notckd",
          "notckd",
          "notckd",
          "notckd",
          "notckd",
          "notckd",
          "notckd",
          "notckd",
          "notckd",
          "notckd",
          "notckd",
          "notckd",
          "notckd",
          "notckd",
          "notckd",
          "notckd",
          "notckd",
          "notckd",
          "notckd",
          "notckd",
          "notckd",
          "notckd",
          "notckd",
          "notckd",
          "notckd",
          "notckd",
          "notckd",
          "notckd",
          "notckd",
          "notckd",
          "notckd",
          "notckd",
          "notckd",
          "notckd",
          "notckd",
          "notckd",
          "notckd",
          "notckd",
          "notckd",
          "notckd",
          "notckd",
          "notckd",
          "notckd",
          "notckd",
          "notckd",
          "notckd",
          "notckd",
          "notckd",
          "notckd",
          "notckd",
          "notckd",
          "notckd",
          "notckd",
          "notckd",
          "notckd",
          "notckd",
          "notckd",
          "notckd",
          "notckd",
          "notckd",
          "notckd",
          "notckd",
          "notckd",
          "notckd",
          "notckd",
          "notckd",
          "notckd",
          "notckd",
          "notckd",
          "notckd",
          "notckd",
          "notckd",
          "notckd",
          "notckd",
          "notckd",
          "notckd",
          "notckd",
          "notckd",
          "notckd",
          "notckd",
          "notckd",
          "notckd",
          "notckd",
          "notckd",
          "notckd",
          "notckd",
          "notckd",
          "notckd",
          "notckd",
          "notckd",
          "notckd",
          "notckd",
          "notckd",
          "notckd",
          "notckd",
          "notckd",
          "notckd",
          "notckd",
          "notckd"
         ],
         "x0": " ",
         "xaxis": "x",
         "y": [
          4.5,
          5,
          4.7,
          6.2,
          5.2,
          6.3,
          5.1,
          5.8,
          5.5,
          5.2,
          5.3,
          4.9,
          5.4,
          5.2,
          4.5,
          5,
          5.3,
          4.8,
          4.9,
          5.3,
          5,
          4.5,
          5.5,
          null,
          null,
          4.6,
          5.5,
          4.8,
          6.4,
          5.6,
          5.2,
          6,
          4.8,
          5.7,
          6,
          5.9,
          6,
          null,
          5.1,
          5.3,
          5.9,
          5.7,
          5,
          5.4,
          5.8,
          6.5,
          5.9,
          5.2,
          4.9,
          4.7,
          5.8,
          5,
          null,
          6.1,
          4.5,
          5.2,
          5.7,
          4.5,
          4.9,
          5.9,
          5.4,
          5.6,
          6.1,
          4.8,
          4.7,
          4.4,
          5.2,
          4.9,
          5.3,
          null,
          6.2,
          4.8,
          4.9,
          4.5,
          null,
          6.5,
          5.2,
          5.8,
          6.5,
          5.1,
          null,
          4.5,
          6.1,
          5.5,
          4.5,
          5.6,
          5.2,
          6.2,
          4.5,
          4.9,
          5.9,
          4.7,
          6.3,
          5.7,
          4.7,
          6.4,
          5.8,
          5.5,
          6.4,
          6.1,
          4.5,
          4.7,
          5.2,
          4.5,
          5.1,
          4.6,
          6.1,
          4.9,
          5.6,
          4.5,
          6.2,
          5.8,
          4.8,
          5.2,
          4.7,
          6.3,
          5.3,
          6.1,
          5.9,
          4.8,
          5.4,
          5,
          5.5,
          4.9,
          6.4,
          5.6,
          5.2,
          4.8,
          5.5,
          5.7,
          4.9,
          5.9,
          6.5,
          5,
          4.5,
          5.1,
          6.5,
          5.2,
          6.4,
          5.8,
          5.3,
          6.3,
          5.5,
          5.4,
          4.6,
          4.9,
          6.2,
          5.4,
          5.9,
          6.1
         ],
         "y0": " ",
         "yaxis": "y"
        }
       ],
       "layout": {
        "legend": {
         "title": {
          "text": "classification"
         },
         "tracegroupgap": 0
        },
        "margin": {
         "t": 60
        },
        "template": {
         "data": {
          "bar": [
           {
            "error_x": {
             "color": "#2a3f5f"
            },
            "error_y": {
             "color": "#2a3f5f"
            },
            "marker": {
             "line": {
              "color": "#E5ECF6",
              "width": 0.5
             },
             "pattern": {
              "fillmode": "overlay",
              "size": 10,
              "solidity": 0.2
             }
            },
            "type": "bar"
           }
          ],
          "barpolar": [
           {
            "marker": {
             "line": {
              "color": "#E5ECF6",
              "width": 0.5
             },
             "pattern": {
              "fillmode": "overlay",
              "size": 10,
              "solidity": 0.2
             }
            },
            "type": "barpolar"
           }
          ],
          "carpet": [
           {
            "aaxis": {
             "endlinecolor": "#2a3f5f",
             "gridcolor": "white",
             "linecolor": "white",
             "minorgridcolor": "white",
             "startlinecolor": "#2a3f5f"
            },
            "baxis": {
             "endlinecolor": "#2a3f5f",
             "gridcolor": "white",
             "linecolor": "white",
             "minorgridcolor": "white",
             "startlinecolor": "#2a3f5f"
            },
            "type": "carpet"
           }
          ],
          "choropleth": [
           {
            "colorbar": {
             "outlinewidth": 0,
             "ticks": ""
            },
            "type": "choropleth"
           }
          ],
          "contour": [
           {
            "colorbar": {
             "outlinewidth": 0,
             "ticks": ""
            },
            "colorscale": [
             [
              0,
              "#0d0887"
             ],
             [
              0.1111111111111111,
              "#46039f"
             ],
             [
              0.2222222222222222,
              "#7201a8"
             ],
             [
              0.3333333333333333,
              "#9c179e"
             ],
             [
              0.4444444444444444,
              "#bd3786"
             ],
             [
              0.5555555555555556,
              "#d8576b"
             ],
             [
              0.6666666666666666,
              "#ed7953"
             ],
             [
              0.7777777777777778,
              "#fb9f3a"
             ],
             [
              0.8888888888888888,
              "#fdca26"
             ],
             [
              1,
              "#f0f921"
             ]
            ],
            "type": "contour"
           }
          ],
          "contourcarpet": [
           {
            "colorbar": {
             "outlinewidth": 0,
             "ticks": ""
            },
            "type": "contourcarpet"
           }
          ],
          "heatmap": [
           {
            "colorbar": {
             "outlinewidth": 0,
             "ticks": ""
            },
            "colorscale": [
             [
              0,
              "#0d0887"
             ],
             [
              0.1111111111111111,
              "#46039f"
             ],
             [
              0.2222222222222222,
              "#7201a8"
             ],
             [
              0.3333333333333333,
              "#9c179e"
             ],
             [
              0.4444444444444444,
              "#bd3786"
             ],
             [
              0.5555555555555556,
              "#d8576b"
             ],
             [
              0.6666666666666666,
              "#ed7953"
             ],
             [
              0.7777777777777778,
              "#fb9f3a"
             ],
             [
              0.8888888888888888,
              "#fdca26"
             ],
             [
              1,
              "#f0f921"
             ]
            ],
            "type": "heatmap"
           }
          ],
          "heatmapgl": [
           {
            "colorbar": {
             "outlinewidth": 0,
             "ticks": ""
            },
            "colorscale": [
             [
              0,
              "#0d0887"
             ],
             [
              0.1111111111111111,
              "#46039f"
             ],
             [
              0.2222222222222222,
              "#7201a8"
             ],
             [
              0.3333333333333333,
              "#9c179e"
             ],
             [
              0.4444444444444444,
              "#bd3786"
             ],
             [
              0.5555555555555556,
              "#d8576b"
             ],
             [
              0.6666666666666666,
              "#ed7953"
             ],
             [
              0.7777777777777778,
              "#fb9f3a"
             ],
             [
              0.8888888888888888,
              "#fdca26"
             ],
             [
              1,
              "#f0f921"
             ]
            ],
            "type": "heatmapgl"
           }
          ],
          "histogram": [
           {
            "marker": {
             "pattern": {
              "fillmode": "overlay",
              "size": 10,
              "solidity": 0.2
             }
            },
            "type": "histogram"
           }
          ],
          "histogram2d": [
           {
            "colorbar": {
             "outlinewidth": 0,
             "ticks": ""
            },
            "colorscale": [
             [
              0,
              "#0d0887"
             ],
             [
              0.1111111111111111,
              "#46039f"
             ],
             [
              0.2222222222222222,
              "#7201a8"
             ],
             [
              0.3333333333333333,
              "#9c179e"
             ],
             [
              0.4444444444444444,
              "#bd3786"
             ],
             [
              0.5555555555555556,
              "#d8576b"
             ],
             [
              0.6666666666666666,
              "#ed7953"
             ],
             [
              0.7777777777777778,
              "#fb9f3a"
             ],
             [
              0.8888888888888888,
              "#fdca26"
             ],
             [
              1,
              "#f0f921"
             ]
            ],
            "type": "histogram2d"
           }
          ],
          "histogram2dcontour": [
           {
            "colorbar": {
             "outlinewidth": 0,
             "ticks": ""
            },
            "colorscale": [
             [
              0,
              "#0d0887"
             ],
             [
              0.1111111111111111,
              "#46039f"
             ],
             [
              0.2222222222222222,
              "#7201a8"
             ],
             [
              0.3333333333333333,
              "#9c179e"
             ],
             [
              0.4444444444444444,
              "#bd3786"
             ],
             [
              0.5555555555555556,
              "#d8576b"
             ],
             [
              0.6666666666666666,
              "#ed7953"
             ],
             [
              0.7777777777777778,
              "#fb9f3a"
             ],
             [
              0.8888888888888888,
              "#fdca26"
             ],
             [
              1,
              "#f0f921"
             ]
            ],
            "type": "histogram2dcontour"
           }
          ],
          "mesh3d": [
           {
            "colorbar": {
             "outlinewidth": 0,
             "ticks": ""
            },
            "type": "mesh3d"
           }
          ],
          "parcoords": [
           {
            "line": {
             "colorbar": {
              "outlinewidth": 0,
              "ticks": ""
             }
            },
            "type": "parcoords"
           }
          ],
          "pie": [
           {
            "automargin": true,
            "type": "pie"
           }
          ],
          "scatter": [
           {
            "fillpattern": {
             "fillmode": "overlay",
             "size": 10,
             "solidity": 0.2
            },
            "type": "scatter"
           }
          ],
          "scatter3d": [
           {
            "line": {
             "colorbar": {
              "outlinewidth": 0,
              "ticks": ""
             }
            },
            "marker": {
             "colorbar": {
              "outlinewidth": 0,
              "ticks": ""
             }
            },
            "type": "scatter3d"
           }
          ],
          "scattercarpet": [
           {
            "marker": {
             "colorbar": {
              "outlinewidth": 0,
              "ticks": ""
             }
            },
            "type": "scattercarpet"
           }
          ],
          "scattergeo": [
           {
            "marker": {
             "colorbar": {
              "outlinewidth": 0,
              "ticks": ""
             }
            },
            "type": "scattergeo"
           }
          ],
          "scattergl": [
           {
            "marker": {
             "colorbar": {
              "outlinewidth": 0,
              "ticks": ""
             }
            },
            "type": "scattergl"
           }
          ],
          "scattermapbox": [
           {
            "marker": {
             "colorbar": {
              "outlinewidth": 0,
              "ticks": ""
             }
            },
            "type": "scattermapbox"
           }
          ],
          "scatterpolar": [
           {
            "marker": {
             "colorbar": {
              "outlinewidth": 0,
              "ticks": ""
             }
            },
            "type": "scatterpolar"
           }
          ],
          "scatterpolargl": [
           {
            "marker": {
             "colorbar": {
              "outlinewidth": 0,
              "ticks": ""
             }
            },
            "type": "scatterpolargl"
           }
          ],
          "scatterternary": [
           {
            "marker": {
             "colorbar": {
              "outlinewidth": 0,
              "ticks": ""
             }
            },
            "type": "scatterternary"
           }
          ],
          "surface": [
           {
            "colorbar": {
             "outlinewidth": 0,
             "ticks": ""
            },
            "colorscale": [
             [
              0,
              "#0d0887"
             ],
             [
              0.1111111111111111,
              "#46039f"
             ],
             [
              0.2222222222222222,
              "#7201a8"
             ],
             [
              0.3333333333333333,
              "#9c179e"
             ],
             [
              0.4444444444444444,
              "#bd3786"
             ],
             [
              0.5555555555555556,
              "#d8576b"
             ],
             [
              0.6666666666666666,
              "#ed7953"
             ],
             [
              0.7777777777777778,
              "#fb9f3a"
             ],
             [
              0.8888888888888888,
              "#fdca26"
             ],
             [
              1,
              "#f0f921"
             ]
            ],
            "type": "surface"
           }
          ],
          "table": [
           {
            "cells": {
             "fill": {
              "color": "#EBF0F8"
             },
             "line": {
              "color": "white"
             }
            },
            "header": {
             "fill": {
              "color": "#C8D4E3"
             },
             "line": {
              "color": "white"
             }
            },
            "type": "table"
           }
          ]
         },
         "layout": {
          "annotationdefaults": {
           "arrowcolor": "#2a3f5f",
           "arrowhead": 0,
           "arrowwidth": 1
          },
          "autotypenumbers": "strict",
          "coloraxis": {
           "colorbar": {
            "outlinewidth": 0,
            "ticks": ""
           }
          },
          "colorscale": {
           "diverging": [
            [
             0,
             "#8e0152"
            ],
            [
             0.1,
             "#c51b7d"
            ],
            [
             0.2,
             "#de77ae"
            ],
            [
             0.3,
             "#f1b6da"
            ],
            [
             0.4,
             "#fde0ef"
            ],
            [
             0.5,
             "#f7f7f7"
            ],
            [
             0.6,
             "#e6f5d0"
            ],
            [
             0.7,
             "#b8e186"
            ],
            [
             0.8,
             "#7fbc41"
            ],
            [
             0.9,
             "#4d9221"
            ],
            [
             1,
             "#276419"
            ]
           ],
           "sequential": [
            [
             0,
             "#0d0887"
            ],
            [
             0.1111111111111111,
             "#46039f"
            ],
            [
             0.2222222222222222,
             "#7201a8"
            ],
            [
             0.3333333333333333,
             "#9c179e"
            ],
            [
             0.4444444444444444,
             "#bd3786"
            ],
            [
             0.5555555555555556,
             "#d8576b"
            ],
            [
             0.6666666666666666,
             "#ed7953"
            ],
            [
             0.7777777777777778,
             "#fb9f3a"
            ],
            [
             0.8888888888888888,
             "#fdca26"
            ],
            [
             1,
             "#f0f921"
            ]
           ],
           "sequentialminus": [
            [
             0,
             "#0d0887"
            ],
            [
             0.1111111111111111,
             "#46039f"
            ],
            [
             0.2222222222222222,
             "#7201a8"
            ],
            [
             0.3333333333333333,
             "#9c179e"
            ],
            [
             0.4444444444444444,
             "#bd3786"
            ],
            [
             0.5555555555555556,
             "#d8576b"
            ],
            [
             0.6666666666666666,
             "#ed7953"
            ],
            [
             0.7777777777777778,
             "#fb9f3a"
            ],
            [
             0.8888888888888888,
             "#fdca26"
            ],
            [
             1,
             "#f0f921"
            ]
           ]
          },
          "colorway": [
           "#636efa",
           "#EF553B",
           "#00cc96",
           "#ab63fa",
           "#FFA15A",
           "#19d3f3",
           "#FF6692",
           "#B6E880",
           "#FF97FF",
           "#FECB52"
          ],
          "font": {
           "color": "#2a3f5f"
          },
          "geo": {
           "bgcolor": "white",
           "lakecolor": "white",
           "landcolor": "#E5ECF6",
           "showlakes": true,
           "showland": true,
           "subunitcolor": "white"
          },
          "hoverlabel": {
           "align": "left"
          },
          "hovermode": "closest",
          "mapbox": {
           "style": "light"
          },
          "paper_bgcolor": "white",
          "plot_bgcolor": "#E5ECF6",
          "polar": {
           "angularaxis": {
            "gridcolor": "white",
            "linecolor": "white",
            "ticks": ""
           },
           "bgcolor": "#E5ECF6",
           "radialaxis": {
            "gridcolor": "white",
            "linecolor": "white",
            "ticks": ""
           }
          },
          "scene": {
           "xaxis": {
            "backgroundcolor": "#E5ECF6",
            "gridcolor": "white",
            "gridwidth": 2,
            "linecolor": "white",
            "showbackground": true,
            "ticks": "",
            "zerolinecolor": "white"
           },
           "yaxis": {
            "backgroundcolor": "#E5ECF6",
            "gridcolor": "white",
            "gridwidth": 2,
            "linecolor": "white",
            "showbackground": true,
            "ticks": "",
            "zerolinecolor": "white"
           },
           "zaxis": {
            "backgroundcolor": "#E5ECF6",
            "gridcolor": "white",
            "gridwidth": 2,
            "linecolor": "white",
            "showbackground": true,
            "ticks": "",
            "zerolinecolor": "white"
           }
          },
          "shapedefaults": {
           "line": {
            "color": "#2a3f5f"
           }
          },
          "ternary": {
           "aaxis": {
            "gridcolor": "white",
            "linecolor": "white",
            "ticks": ""
           },
           "baxis": {
            "gridcolor": "white",
            "linecolor": "white",
            "ticks": ""
           },
           "bgcolor": "#E5ECF6",
           "caxis": {
            "gridcolor": "white",
            "linecolor": "white",
            "ticks": ""
           }
          },
          "title": {
           "x": 0.05
          },
          "xaxis": {
           "automargin": true,
           "gridcolor": "white",
           "linecolor": "white",
           "ticks": "",
           "title": {
            "standoff": 15
           },
           "zerolinecolor": "white",
           "zerolinewidth": 2
          },
          "yaxis": {
           "automargin": true,
           "gridcolor": "white",
           "linecolor": "white",
           "ticks": "",
           "title": {
            "standoff": 15
           },
           "zerolinecolor": "white",
           "zerolinewidth": 2
          }
         }
        },
        "violinmode": "overlay",
        "xaxis": {
         "anchor": "y",
         "categoryarray": [
          "ckd",
          "notckd"
         ],
         "categoryorder": "array",
         "domain": [
          0,
          1
         ],
         "title": {
          "text": "classification"
         }
        },
        "yaxis": {
         "anchor": "x",
         "domain": [
          0,
          1
         ],
         "title": {
          "text": "rc"
         }
        }
       }
      }
     },
     "metadata": {},
     "output_type": "display_data"
    }
   ],
   "source": [
    "px.violin(df,y='rc',x='classification',color='classification')"
   ]
  },
  {
   "cell_type": "code",
   "execution_count": 192,
   "id": "df063b48",
   "metadata": {},
   "outputs": [],
   "source": [
    "# Relationship between haemoglobin and packed cell volume\n",
    "# Analysing distribution of 'rc' chronic as well as non chronic \n",
    "# Automate Analysis"
   ]
  },
  {
   "cell_type": "code",
   "execution_count": 193,
   "id": "528ae8ef",
   "metadata": {},
   "outputs": [
    {
     "data": {
      "text/plain": [
       "Index(['age', 'bp', 'sg', 'al', 'su', 'rbc', 'pc', 'pcc', 'ba', 'bgr', 'bu',\n",
       "       'sc', 'sod', 'pot', 'hemo', 'pcv', 'wc', 'rc', 'htn', 'dm', 'cad',\n",
       "       'appet', 'pe', 'ane', 'classification'],\n",
       "      dtype='object')"
      ]
     },
     "execution_count": 193,
     "metadata": {},
     "output_type": "execute_result"
    }
   ],
   "source": [
    "df.columns"
   ]
  },
  {
   "cell_type": "code",
   "execution_count": 194,
   "id": "0e1c71d1",
   "metadata": {},
   "outputs": [
    {
     "data": {
      "application/vnd.plotly.v1+json": {
       "config": {
        "plotlyServerURL": "https://plot.ly"
       },
       "data": [
        {
         "hovertemplate": "hemo=%{x}<br>pcv=%{y}<extra></extra>",
         "legendgroup": "",
         "marker": {
          "color": "#636efa",
          "symbol": "circle"
         },
         "mode": "markers",
         "name": "",
         "orientation": "v",
         "showlegend": false,
         "type": "scatter",
         "x": [
          15.4,
          11.3,
          9.6,
          11.2,
          11.6,
          12.2,
          12.4,
          12.4,
          10.8,
          9.5,
          9.4,
          10.8,
          9.7,
          9.8,
          5.6,
          7.6,
          12.6,
          12.1,
          12.7,
          10.3,
          7.7,
          10.9,
          9.8,
          null,
          11.1,
          9.9,
          11.6,
          12.5,
          null,
          12.9,
          null,
          10.1,
          11.3,
          10.1,
          null,
          12,
          10.3,
          9.7,
          12.5,
          13,
          11.1,
          null,
          9.7,
          7.9,
          9.7,
          9.3,
          12.4,
          15,
          10,
          9.7,
          8.6,
          10.3,
          10.9,
          13.6,
          13,
          9.5,
          10.2,
          null,
          10.5,
          6.6,
          null,
          null,
          11,
          7.5,
          9.8,
          15,
          null,
          null,
          10.9,
          15.6,
          15.2,
          9.8,
          10.3,
          4.8,
          9.1,
          8.1,
          10.3,
          11.9,
          10.1,
          13.5,
          10.8,
          8.3,
          null,
          null,
          7.1,
          9.9,
          null,
          11.1,
          null,
          null,
          13,
          16.1,
          10.4,
          9.2,
          11.6,
          null,
          11.2,
          10,
          6.2,
          11.2,
          null,
          11.3,
          13.9,
          10.2,
          null,
          14.1,
          6,
          11.2,
          11.8,
          11.7,
          11.7,
          10,
          10.8,
          null,
          12.1,
          12.4,
          null,
          12.5,
          11.4,
          null,
          12.6,
          15,
          6,
          14,
          9.1,
          null,
          12,
          11.4,
          8.1,
          11.1,
          8.2,
          11.8,
          8.6,
          12,
          10.8,
          13.2,
          9.3,
          10,
          null,
          11.1,
          null,
          6.1,
          null,
          null,
          11.1,
          8,
          null,
          7.9,
          null,
          10.5,
          12.3,
          9.6,
          10.9,
          8.3,
          8.4,
          11.1,
          null,
          12.6,
          10.9,
          10.4,
          10.9,
          14.3,
          9.8,
          9,
          14.3,
          null,
          null,
          12.7,
          11,
          8.7,
          12.5,
          8.7,
          10.6,
          13.1,
          11,
          null,
          8.3,
          13.2,
          9.8,
          11.9,
          10.3,
          10,
          11.3,
          null,
          11.3,
          12,
          null,
          10.7,
          12.2,
          9.5,
          9.9,
          9.1,
          null,
          5.5,
          null,
          5.8,
          8.1,
          6.8,
          11.2,
          8.8,
          12,
          7.9,
          8,
          8.5,
          8.8,
          12.6,
          13.8,
          12,
          12.3,
          11.5,
          7.3,
          null,
          10.9,
          10.9,
          13.7,
          null,
          12.8,
          12.2,
          11.8,
          9.8,
          11.9,
          null,
          null,
          13,
          null,
          11.5,
          7.9,
          11.3,
          null,
          9.6,
          null,
          11.5,
          null,
          null,
          15,
          7.9,
          9.1,
          12.7,
          9.4,
          11.9,
          11.4,
          10.4,
          9.4,
          13.4,
          12.2,
          6.3,
          8.6,
          null,
          12.6,
          3.1,
          15,
          17,
          15.9,
          15.4,
          13,
          13.6,
          14.5,
          14,
          13.9,
          16.1,
          14.1,
          17,
          15.5,
          16.2,
          14.4,
          14.2,
          13.2,
          13.9,
          16.3,
          15,
          14.3,
          13.8,
          14.8,
          null,
          14.4,
          16.5,
          14,
          15.7,
          14.5,
          16.3,
          13.3,
          15.5,
          14.6,
          16.4,
          16.9,
          16,
          14.7,
          13.4,
          15.9,
          16.6,
          14.8,
          14.9,
          16.7,
          14.9,
          14.3,
          15,
          16.8,
          15.8,
          13.5,
          15.1,
          15,
          16.9,
          14.8,
          17,
          13.1,
          17.1,
          15.2,
          13.6,
          13.9,
          17.2,
          13.2,
          13.7,
          15.3,
          17.3,
          15.6,
          13.8,
          15.4,
          15,
          17.4,
          null,
          15.7,
          13.9,
          16,
          15.9,
          null,
          14,
          15.8,
          13.4,
          null,
          14.1,
          null,
          13.5,
          15.3,
          17.7,
          15.4,
          14.2,
          15.2,
          14,
          17.8,
          13.3,
          14.3,
          13.4,
          15,
          16.2,
          14.4,
          13.5,
          15.5,
          17.8,
          13.6,
          14.5,
          16.1,
          17.5,
          15,
          13.6,
          14.6,
          15,
          17.1,
          13.6,
          13,
          17.2,
          14.7,
          13.7,
          15,
          17.8,
          14.8,
          null,
          15,
          17.4,
          14.9,
          13.6,
          16.2,
          17.6,
          15,
          13.7,
          16.3,
          15.1,
          16.4,
          13.8,
          15.2,
          16.1,
          15.3,
          16.6,
          16.8,
          13.9,
          15.4,
          16.5,
          16.4,
          16.7,
          15.5,
          17,
          15,
          15.6,
          14.8,
          13,
          14.1,
          15.7,
          16.5,
          15.8,
          14.2,
          15.8
         ],
         "xaxis": "x",
         "y": [
          44,
          38,
          31,
          32,
          35,
          39,
          36,
          44,
          33,
          29,
          28,
          32,
          28,
          null,
          16,
          24,
          null,
          null,
          37,
          30,
          24,
          32,
          32,
          null,
          39,
          29,
          35,
          37,
          null,
          38,
          null,
          30,
          34,
          29,
          null,
          36,
          32,
          28,
          null,
          40,
          32,
          null,
          33,
          24,
          28,
          null,
          37,
          45,
          29,
          29,
          28,
          33,
          34,
          40,
          40,
          28,
          30,
          null,
          33,
          null,
          null,
          null,
          33,
          27,
          null,
          48,
          null,
          null,
          37,
          52,
          44,
          28,
          null,
          14,
          29,
          null,
          36,
          34,
          30,
          40,
          31,
          29,
          null,
          null,
          22,
          null,
          null,
          32,
          null,
          null,
          40,
          52,
          33,
          30,
          36,
          null,
          36,
          32,
          18,
          32,
          null,
          33,
          52,
          36,
          null,
          42,
          17,
          34,
          37,
          null,
          34,
          32,
          33,
          null,
          null,
          44,
          null,
          37,
          null,
          null,
          null,
          46,
          null,
          42,
          28,
          null,
          37,
          35,
          23,
          null,
          22,
          36,
          24,
          37,
          33,
          39,
          null,
          29,
          null,
          33,
          null,
          19,
          null,
          null,
          33,
          24,
          null,
          25,
          null,
          32,
          41,
          30,
          32,
          22,
          26,
          36,
          null,
          39,
          31,
          35,
          35,
          42,
          37,
          27,
          40,
          null,
          null,
          42,
          39,
          27,
          33,
          26,
          34,
          41,
          35,
          null,
          23,
          41,
          34,
          39,
          28,
          30,
          35,
          null,
          31,
          34,
          null,
          34,
          38,
          29,
          30,
          26,
          null,
          15,
          null,
          null,
          24,
          null,
          30,
          25,
          37,
          21,
          24,
          null,
          31,
          43,
          41,
          41,
          41,
          null,
          20,
          null,
          31,
          34,
          43,
          null,
          38,
          36,
          34,
          28,
          36,
          null,
          null,
          38,
          null,
          35,
          26,
          36,
          null,
          31,
          null,
          35,
          null,
          null,
          44,
          26,
          25,
          40,
          28,
          39,
          36,
          31,
          28,
          47,
          40,
          19,
          26,
          null,
          37,
          9,
          48,
          52,
          46,
          42,
          49,
          52,
          41,
          46,
          44,
          45,
          45,
          41,
          43,
          45,
          50,
          48,
          41,
          48,
          53,
          48,
          41,
          42,
          42,
          null,
          44,
          43,
          41,
          50,
          44,
          48,
          52,
          41,
          44,
          43,
          52,
          41,
          44,
          43,
          50,
          43,
          52,
          41,
          52,
          48,
          40,
          50,
          41,
          45,
          48,
          52,
          43,
          41,
          48,
          50,
          45,
          41,
          52,
          44,
          48,
          40,
          44,
          45,
          48,
          52,
          41,
          48,
          48,
          40,
          52,
          null,
          44,
          48,
          43,
          45,
          null,
          50,
          41,
          44,
          45,
          48,
          42,
          46,
          44,
          46,
          43,
          48,
          40,
          52,
          44,
          48,
          43,
          41,
          50,
          50,
          42,
          42,
          52,
          43,
          44,
          52,
          43,
          40,
          48,
          51,
          41,
          52,
          47,
          42,
          45,
          53,
          43,
          54,
          40,
          44,
          45,
          null,
          46,
          50,
          45,
          46,
          50,
          51,
          52,
          47,
          40,
          48,
          53,
          49,
          42,
          50,
          54,
          40,
          51,
          49,
          42,
          52,
          43,
          50,
          46,
          52,
          52,
          44,
          46,
          54,
          45,
          47,
          54,
          49,
          51,
          53
         ],
         "yaxis": "y"
        }
       ],
       "layout": {
        "legend": {
         "tracegroupgap": 0
        },
        "margin": {
         "t": 60
        },
        "template": {
         "data": {
          "bar": [
           {
            "error_x": {
             "color": "#2a3f5f"
            },
            "error_y": {
             "color": "#2a3f5f"
            },
            "marker": {
             "line": {
              "color": "#E5ECF6",
              "width": 0.5
             },
             "pattern": {
              "fillmode": "overlay",
              "size": 10,
              "solidity": 0.2
             }
            },
            "type": "bar"
           }
          ],
          "barpolar": [
           {
            "marker": {
             "line": {
              "color": "#E5ECF6",
              "width": 0.5
             },
             "pattern": {
              "fillmode": "overlay",
              "size": 10,
              "solidity": 0.2
             }
            },
            "type": "barpolar"
           }
          ],
          "carpet": [
           {
            "aaxis": {
             "endlinecolor": "#2a3f5f",
             "gridcolor": "white",
             "linecolor": "white",
             "minorgridcolor": "white",
             "startlinecolor": "#2a3f5f"
            },
            "baxis": {
             "endlinecolor": "#2a3f5f",
             "gridcolor": "white",
             "linecolor": "white",
             "minorgridcolor": "white",
             "startlinecolor": "#2a3f5f"
            },
            "type": "carpet"
           }
          ],
          "choropleth": [
           {
            "colorbar": {
             "outlinewidth": 0,
             "ticks": ""
            },
            "type": "choropleth"
           }
          ],
          "contour": [
           {
            "colorbar": {
             "outlinewidth": 0,
             "ticks": ""
            },
            "colorscale": [
             [
              0,
              "#0d0887"
             ],
             [
              0.1111111111111111,
              "#46039f"
             ],
             [
              0.2222222222222222,
              "#7201a8"
             ],
             [
              0.3333333333333333,
              "#9c179e"
             ],
             [
              0.4444444444444444,
              "#bd3786"
             ],
             [
              0.5555555555555556,
              "#d8576b"
             ],
             [
              0.6666666666666666,
              "#ed7953"
             ],
             [
              0.7777777777777778,
              "#fb9f3a"
             ],
             [
              0.8888888888888888,
              "#fdca26"
             ],
             [
              1,
              "#f0f921"
             ]
            ],
            "type": "contour"
           }
          ],
          "contourcarpet": [
           {
            "colorbar": {
             "outlinewidth": 0,
             "ticks": ""
            },
            "type": "contourcarpet"
           }
          ],
          "heatmap": [
           {
            "colorbar": {
             "outlinewidth": 0,
             "ticks": ""
            },
            "colorscale": [
             [
              0,
              "#0d0887"
             ],
             [
              0.1111111111111111,
              "#46039f"
             ],
             [
              0.2222222222222222,
              "#7201a8"
             ],
             [
              0.3333333333333333,
              "#9c179e"
             ],
             [
              0.4444444444444444,
              "#bd3786"
             ],
             [
              0.5555555555555556,
              "#d8576b"
             ],
             [
              0.6666666666666666,
              "#ed7953"
             ],
             [
              0.7777777777777778,
              "#fb9f3a"
             ],
             [
              0.8888888888888888,
              "#fdca26"
             ],
             [
              1,
              "#f0f921"
             ]
            ],
            "type": "heatmap"
           }
          ],
          "heatmapgl": [
           {
            "colorbar": {
             "outlinewidth": 0,
             "ticks": ""
            },
            "colorscale": [
             [
              0,
              "#0d0887"
             ],
             [
              0.1111111111111111,
              "#46039f"
             ],
             [
              0.2222222222222222,
              "#7201a8"
             ],
             [
              0.3333333333333333,
              "#9c179e"
             ],
             [
              0.4444444444444444,
              "#bd3786"
             ],
             [
              0.5555555555555556,
              "#d8576b"
             ],
             [
              0.6666666666666666,
              "#ed7953"
             ],
             [
              0.7777777777777778,
              "#fb9f3a"
             ],
             [
              0.8888888888888888,
              "#fdca26"
             ],
             [
              1,
              "#f0f921"
             ]
            ],
            "type": "heatmapgl"
           }
          ],
          "histogram": [
           {
            "marker": {
             "pattern": {
              "fillmode": "overlay",
              "size": 10,
              "solidity": 0.2
             }
            },
            "type": "histogram"
           }
          ],
          "histogram2d": [
           {
            "colorbar": {
             "outlinewidth": 0,
             "ticks": ""
            },
            "colorscale": [
             [
              0,
              "#0d0887"
             ],
             [
              0.1111111111111111,
              "#46039f"
             ],
             [
              0.2222222222222222,
              "#7201a8"
             ],
             [
              0.3333333333333333,
              "#9c179e"
             ],
             [
              0.4444444444444444,
              "#bd3786"
             ],
             [
              0.5555555555555556,
              "#d8576b"
             ],
             [
              0.6666666666666666,
              "#ed7953"
             ],
             [
              0.7777777777777778,
              "#fb9f3a"
             ],
             [
              0.8888888888888888,
              "#fdca26"
             ],
             [
              1,
              "#f0f921"
             ]
            ],
            "type": "histogram2d"
           }
          ],
          "histogram2dcontour": [
           {
            "colorbar": {
             "outlinewidth": 0,
             "ticks": ""
            },
            "colorscale": [
             [
              0,
              "#0d0887"
             ],
             [
              0.1111111111111111,
              "#46039f"
             ],
             [
              0.2222222222222222,
              "#7201a8"
             ],
             [
              0.3333333333333333,
              "#9c179e"
             ],
             [
              0.4444444444444444,
              "#bd3786"
             ],
             [
              0.5555555555555556,
              "#d8576b"
             ],
             [
              0.6666666666666666,
              "#ed7953"
             ],
             [
              0.7777777777777778,
              "#fb9f3a"
             ],
             [
              0.8888888888888888,
              "#fdca26"
             ],
             [
              1,
              "#f0f921"
             ]
            ],
            "type": "histogram2dcontour"
           }
          ],
          "mesh3d": [
           {
            "colorbar": {
             "outlinewidth": 0,
             "ticks": ""
            },
            "type": "mesh3d"
           }
          ],
          "parcoords": [
           {
            "line": {
             "colorbar": {
              "outlinewidth": 0,
              "ticks": ""
             }
            },
            "type": "parcoords"
           }
          ],
          "pie": [
           {
            "automargin": true,
            "type": "pie"
           }
          ],
          "scatter": [
           {
            "fillpattern": {
             "fillmode": "overlay",
             "size": 10,
             "solidity": 0.2
            },
            "type": "scatter"
           }
          ],
          "scatter3d": [
           {
            "line": {
             "colorbar": {
              "outlinewidth": 0,
              "ticks": ""
             }
            },
            "marker": {
             "colorbar": {
              "outlinewidth": 0,
              "ticks": ""
             }
            },
            "type": "scatter3d"
           }
          ],
          "scattercarpet": [
           {
            "marker": {
             "colorbar": {
              "outlinewidth": 0,
              "ticks": ""
             }
            },
            "type": "scattercarpet"
           }
          ],
          "scattergeo": [
           {
            "marker": {
             "colorbar": {
              "outlinewidth": 0,
              "ticks": ""
             }
            },
            "type": "scattergeo"
           }
          ],
          "scattergl": [
           {
            "marker": {
             "colorbar": {
              "outlinewidth": 0,
              "ticks": ""
             }
            },
            "type": "scattergl"
           }
          ],
          "scattermapbox": [
           {
            "marker": {
             "colorbar": {
              "outlinewidth": 0,
              "ticks": ""
             }
            },
            "type": "scattermapbox"
           }
          ],
          "scatterpolar": [
           {
            "marker": {
             "colorbar": {
              "outlinewidth": 0,
              "ticks": ""
             }
            },
            "type": "scatterpolar"
           }
          ],
          "scatterpolargl": [
           {
            "marker": {
             "colorbar": {
              "outlinewidth": 0,
              "ticks": ""
             }
            },
            "type": "scatterpolargl"
           }
          ],
          "scatterternary": [
           {
            "marker": {
             "colorbar": {
              "outlinewidth": 0,
              "ticks": ""
             }
            },
            "type": "scatterternary"
           }
          ],
          "surface": [
           {
            "colorbar": {
             "outlinewidth": 0,
             "ticks": ""
            },
            "colorscale": [
             [
              0,
              "#0d0887"
             ],
             [
              0.1111111111111111,
              "#46039f"
             ],
             [
              0.2222222222222222,
              "#7201a8"
             ],
             [
              0.3333333333333333,
              "#9c179e"
             ],
             [
              0.4444444444444444,
              "#bd3786"
             ],
             [
              0.5555555555555556,
              "#d8576b"
             ],
             [
              0.6666666666666666,
              "#ed7953"
             ],
             [
              0.7777777777777778,
              "#fb9f3a"
             ],
             [
              0.8888888888888888,
              "#fdca26"
             ],
             [
              1,
              "#f0f921"
             ]
            ],
            "type": "surface"
           }
          ],
          "table": [
           {
            "cells": {
             "fill": {
              "color": "#EBF0F8"
             },
             "line": {
              "color": "white"
             }
            },
            "header": {
             "fill": {
              "color": "#C8D4E3"
             },
             "line": {
              "color": "white"
             }
            },
            "type": "table"
           }
          ]
         },
         "layout": {
          "annotationdefaults": {
           "arrowcolor": "#2a3f5f",
           "arrowhead": 0,
           "arrowwidth": 1
          },
          "autotypenumbers": "strict",
          "coloraxis": {
           "colorbar": {
            "outlinewidth": 0,
            "ticks": ""
           }
          },
          "colorscale": {
           "diverging": [
            [
             0,
             "#8e0152"
            ],
            [
             0.1,
             "#c51b7d"
            ],
            [
             0.2,
             "#de77ae"
            ],
            [
             0.3,
             "#f1b6da"
            ],
            [
             0.4,
             "#fde0ef"
            ],
            [
             0.5,
             "#f7f7f7"
            ],
            [
             0.6,
             "#e6f5d0"
            ],
            [
             0.7,
             "#b8e186"
            ],
            [
             0.8,
             "#7fbc41"
            ],
            [
             0.9,
             "#4d9221"
            ],
            [
             1,
             "#276419"
            ]
           ],
           "sequential": [
            [
             0,
             "#0d0887"
            ],
            [
             0.1111111111111111,
             "#46039f"
            ],
            [
             0.2222222222222222,
             "#7201a8"
            ],
            [
             0.3333333333333333,
             "#9c179e"
            ],
            [
             0.4444444444444444,
             "#bd3786"
            ],
            [
             0.5555555555555556,
             "#d8576b"
            ],
            [
             0.6666666666666666,
             "#ed7953"
            ],
            [
             0.7777777777777778,
             "#fb9f3a"
            ],
            [
             0.8888888888888888,
             "#fdca26"
            ],
            [
             1,
             "#f0f921"
            ]
           ],
           "sequentialminus": [
            [
             0,
             "#0d0887"
            ],
            [
             0.1111111111111111,
             "#46039f"
            ],
            [
             0.2222222222222222,
             "#7201a8"
            ],
            [
             0.3333333333333333,
             "#9c179e"
            ],
            [
             0.4444444444444444,
             "#bd3786"
            ],
            [
             0.5555555555555556,
             "#d8576b"
            ],
            [
             0.6666666666666666,
             "#ed7953"
            ],
            [
             0.7777777777777778,
             "#fb9f3a"
            ],
            [
             0.8888888888888888,
             "#fdca26"
            ],
            [
             1,
             "#f0f921"
            ]
           ]
          },
          "colorway": [
           "#636efa",
           "#EF553B",
           "#00cc96",
           "#ab63fa",
           "#FFA15A",
           "#19d3f3",
           "#FF6692",
           "#B6E880",
           "#FF97FF",
           "#FECB52"
          ],
          "font": {
           "color": "#2a3f5f"
          },
          "geo": {
           "bgcolor": "white",
           "lakecolor": "white",
           "landcolor": "#E5ECF6",
           "showlakes": true,
           "showland": true,
           "subunitcolor": "white"
          },
          "hoverlabel": {
           "align": "left"
          },
          "hovermode": "closest",
          "mapbox": {
           "style": "light"
          },
          "paper_bgcolor": "white",
          "plot_bgcolor": "#E5ECF6",
          "polar": {
           "angularaxis": {
            "gridcolor": "white",
            "linecolor": "white",
            "ticks": ""
           },
           "bgcolor": "#E5ECF6",
           "radialaxis": {
            "gridcolor": "white",
            "linecolor": "white",
            "ticks": ""
           }
          },
          "scene": {
           "xaxis": {
            "backgroundcolor": "#E5ECF6",
            "gridcolor": "white",
            "gridwidth": 2,
            "linecolor": "white",
            "showbackground": true,
            "ticks": "",
            "zerolinecolor": "white"
           },
           "yaxis": {
            "backgroundcolor": "#E5ECF6",
            "gridcolor": "white",
            "gridwidth": 2,
            "linecolor": "white",
            "showbackground": true,
            "ticks": "",
            "zerolinecolor": "white"
           },
           "zaxis": {
            "backgroundcolor": "#E5ECF6",
            "gridcolor": "white",
            "gridwidth": 2,
            "linecolor": "white",
            "showbackground": true,
            "ticks": "",
            "zerolinecolor": "white"
           }
          },
          "shapedefaults": {
           "line": {
            "color": "#2a3f5f"
           }
          },
          "ternary": {
           "aaxis": {
            "gridcolor": "white",
            "linecolor": "white",
            "ticks": ""
           },
           "baxis": {
            "gridcolor": "white",
            "linecolor": "white",
            "ticks": ""
           },
           "bgcolor": "#E5ECF6",
           "caxis": {
            "gridcolor": "white",
            "linecolor": "white",
            "ticks": ""
           }
          },
          "title": {
           "x": 0.05
          },
          "xaxis": {
           "automargin": true,
           "gridcolor": "white",
           "linecolor": "white",
           "ticks": "",
           "title": {
            "standoff": 15
           },
           "zerolinecolor": "white",
           "zerolinewidth": 2
          },
          "yaxis": {
           "automargin": true,
           "gridcolor": "white",
           "linecolor": "white",
           "ticks": "",
           "title": {
            "standoff": 15
           },
           "zerolinecolor": "white",
           "zerolinewidth": 2
          }
         }
        },
        "xaxis": {
         "anchor": "y",
         "domain": [
          0,
          1
         ],
         "title": {
          "text": "hemo"
         }
        },
        "yaxis": {
         "anchor": "x",
         "domain": [
          0,
          1
         ],
         "title": {
          "text": "pcv"
         }
        }
       }
      }
     },
     "metadata": {},
     "output_type": "display_data"
    }
   ],
   "source": [
    "px.scatter(df,x='hemo',y='pcv')"
   ]
  },
  {
   "cell_type": "code",
   "execution_count": 195,
   "id": "91e205fc",
   "metadata": {},
   "outputs": [
    {
     "data": {
      "text/plain": [
       "<seaborn.axisgrid.FacetGrid at 0x18faceac700>"
      ]
     },
     "execution_count": 195,
     "metadata": {},
     "output_type": "execute_result"
    },
    {
     "data": {
      "image/png": "[encoded data removed]",
      "text/plain": [
       "<Figure size 505.125x216 with 1 Axes>"
      ]
     },
     "metadata": {
      "needs_background": "light"
     },
     "output_type": "display_data"
    }
   ],
   "source": [
    "grid = sns.FacetGrid(df,hue='classification',aspect=2)\n",
    "grid.map(sns.kdeplot,'rc')\n",
    "grid.add_legend()"
   ]
  },
  {
   "cell_type": "code",
   "execution_count": 196,
   "id": "92596174",
   "metadata": {},
   "outputs": [],
   "source": [
    "def violin(col):\n",
    "    fig =px.violin(df,y=col,x='classification',color='classification',box=True)\n",
    "    return fig.show()"
   ]
  },
  {
   "cell_type": "code",
   "execution_count": 197,
   "id": "72a932fe",
   "metadata": {},
   "outputs": [],
   "source": [
    "def scatters(col1,col2):\n",
    "    fig = px.scatter(df,x=col1,y=col2, color='classification')\n",
    "    return fig.show()"
   ]
  },
  {
   "cell_type": "code",
   "execution_count": 198,
   "id": "a28c8967",
   "metadata": {},
   "outputs": [],
   "source": [
    "def kde_plot(feature):\n",
    "    grid = sns.FacetGrid(df,hue='classification',aspect=2)\n",
    "    grid.map(sns.kdeplot,feature)\n",
    "    grid.add_legend()"
   ]
  },
  {
   "cell_type": "code",
   "execution_count": 199,
   "id": "3a675dca",
   "metadata": {},
   "outputs": [
    {
     "data": {
      "image/png": "[encoded data removed]",
      "text/plain": [
       "<Figure size 505.125x216 with 1 Axes>"
      ]
     },
     "metadata": {
      "needs_background": "light"
     },
     "output_type": "display_data"
    }
   ],
   "source": [
    "kde_plot('rc')"
   ]
  },
  {
   "cell_type": "code",
   "execution_count": 200,
   "id": "f59bcf78",
   "metadata": {},
   "outputs": [],
   "source": [
    "# Exploratory Data Analysis"
   ]
  },
  {
   "cell_type": "code",
   "execution_count": 201,
   "id": "03713bf7",
   "metadata": {},
   "outputs": [
    {
     "data": {
      "text/plain": [
       "Index(['age', 'bp', 'sg', 'al', 'su', 'rbc', 'pc', 'pcc', 'ba', 'bgr', 'bu',\n",
       "       'sc', 'sod', 'pot', 'hemo', 'pcv', 'wc', 'rc', 'htn', 'dm', 'cad',\n",
       "       'appet', 'pe', 'ane', 'classification'],\n",
       "      dtype='object')"
      ]
     },
     "execution_count": 201,
     "metadata": {},
     "output_type": "execute_result"
    }
   ],
   "source": [
    "df.columns"
   ]
  },
  {
   "cell_type": "code",
   "execution_count": 202,
   "id": "44eda411",
   "metadata": {},
   "outputs": [
    {
     "data": {
      "image/png": "[encoded data removed]",
      "text/plain": [
       "<Figure size 505.125x216 with 1 Axes>"
      ]
     },
     "metadata": {
      "needs_background": "light"
     },
     "output_type": "display_data"
    }
   ],
   "source": [
    "kde_plot('rc')"
   ]
  },
  {
   "cell_type": "code",
   "execution_count": 203,
   "id": "e449db14",
   "metadata": {},
   "outputs": [
    {
     "data": {
      "image/png": "[encoded data removed]",
      "text/plain": [
       "<Figure size 505.125x216 with 1 Axes>"
      ]
     },
     "metadata": {
      "needs_background": "light"
     },
     "output_type": "display_data"
    }
   ],
   "source": [
    "kde_plot('hemo')"
   ]
  },
  {
   "cell_type": "code",
   "execution_count": 204,
   "id": "cd1710ff",
   "metadata": {},
   "outputs": [
    {
     "data": {
      "image/png": "[encoded data removed]",
      "text/plain": [
       "<Figure size 505.125x216 with 1 Axes>"
      ]
     },
     "metadata": {
      "needs_background": "light"
     },
     "output_type": "display_data"
    }
   ],
   "source": [
    "kde_plot('wc')"
   ]
  },
  {
   "cell_type": "code",
   "execution_count": 205,
   "id": "6d21a71e",
   "metadata": {},
   "outputs": [
    {
     "data": {
      "application/vnd.plotly.v1+json": {
       "config": {
        "plotlyServerURL": "https://plot.ly"
       },
       "data": [
        {
         "hovertemplate": "classification=ckd<br>rc=%{x}<br>pcv=%{y}<extra></extra>",
         "legendgroup": "ckd",
         "marker": {
          "color": "#636efa",
          "symbol": "circle"
         },
         "mode": "markers",
         "name": "ckd",
         "orientation": "v",
         "showlegend": true,
         "type": "scatter",
         "x": [
          5.2,
          null,
          null,
          3.9,
          4.6,
          4.4,
          null,
          5,
          4,
          3.7,
          null,
          3.8,
          3.4,
          null,
          2.6,
          2.8,
          null,
          null,
          4.3,
          3.7,
          3.2,
          3.6,
          3.4,
          null,
          4.6,
          3.7,
          4,
          4.1,
          null,
          null,
          null,
          4,
          4,
          null,
          null,
          4.9,
          null,
          2.5,
          null,
          4.2,
          4.1,
          null,
          4.5,
          3.1,
          null,
          null,
          4.7,
          null,
          3.5,
          3.5,
          3.8,
          null,
          3.7,
          4.7,
          4.2,
          null,
          3.4,
          null,
          4.3,
          null,
          null,
          null,
          3.8,
          null,
          null,
          null,
          null,
          null,
          null,
          6,
          5.2,
          3.2,
          null,
          null,
          3.4,
          null,
          4,
          3.7,
          null,
          5,
          3.8,
          3.7,
          null,
          null,
          2.1,
          null,
          null,
          5,
          4.7,
          null,
          4.2,
          5.6,
          3.6,
          3.2,
          3.9,
          null,
          null,
          4,
          2.3,
          4.2,
          null,
          3.9,
          null,
          4.2,
          null,
          5.2,
          null,
          4.4,
          4.2,
          null,
          4.7,
          3.9,
          null,
          null,
          null,
          4.3,
          null,
          4.4,
          null,
          null,
          null,
          null,
          null,
          null,
          3.6,
          null,
          4.5,
          4.3,
          2.9,
          null,
          2.7,
          null,
          2.7,
          8,
          3.8,
          null,
          null,
          null,
          null,
          null,
          null,
          null,
          null,
          null,
          4.1,
          3.3,
          null,
          3,
          null,
          null,
          null,
          null,
          null,
          2.9,
          3,
          null,
          null,
          3.9,
          null,
          4.3,
          2.4,
          4.8,
          null,
          3.2,
          5.4,
          null,
          null,
          null,
          null,
          null,
          4.4,
          3.1,
          4.9,
          null,
          4.6,
          3.4,
          3.9,
          null,
          null,
          null,
          null,
          3.7,
          null,
          null,
          3.6,
          null,
          null,
          null,
          null,
          3.4,
          4.8,
          3.4,
          null,
          2.8,
          null,
          null,
          3.5,
          3,
          3.9,
          3.2,
          3.9,
          null,
          null,
          null,
          null,
          null,
          null,
          4.6,
          4.9,
          null,
          3.9,
          null,
          3.4,
          3.7,
          5.2,
          null,
          null,
          4.3,
          null,
          3.3,
          null,
          null,
          null,
          4.6,
          null,
          4.5,
          3.4,
          3.8,
          null,
          3.8,
          null,
          null,
          null,
          null,
          5.2,
          null,
          null,
          null,
          null,
          null,
          4.1,
          3.9,
          3.3,
          6.1,
          4.6,
          2.6,
          2.5,
          null,
          4.1,
          2.1
         ],
         "xaxis": "x",
         "y": [
          44,
          38,
          31,
          32,
          35,
          39,
          36,
          44,
          33,
          29,
          28,
          32,
          28,
          null,
          16,
          24,
          null,
          null,
          37,
          30,
          24,
          32,
          32,
          null,
          39,
          29,
          35,
          37,
          null,
          38,
          null,
          30,
          34,
          29,
          null,
          36,
          32,
          28,
          null,
          40,
          32,
          null,
          33,
          24,
          28,
          null,
          37,
          45,
          29,
          29,
          28,
          33,
          34,
          40,
          40,
          28,
          30,
          null,
          33,
          null,
          null,
          null,
          33,
          27,
          null,
          48,
          null,
          null,
          37,
          52,
          44,
          28,
          null,
          14,
          29,
          null,
          36,
          34,
          30,
          40,
          31,
          29,
          null,
          null,
          22,
          null,
          null,
          32,
          null,
          null,
          40,
          52,
          33,
          30,
          36,
          null,
          36,
          32,
          18,
          32,
          null,
          33,
          52,
          36,
          null,
          42,
          17,
          34,
          37,
          null,
          34,
          32,
          33,
          null,
          null,
          44,
          null,
          37,
          null,
          null,
          null,
          46,
          null,
          42,
          28,
          null,
          37,
          35,
          23,
          null,
          22,
          36,
          24,
          37,
          33,
          39,
          null,
          29,
          null,
          33,
          null,
          19,
          null,
          null,
          33,
          24,
          null,
          25,
          null,
          32,
          41,
          30,
          32,
          22,
          26,
          36,
          null,
          39,
          31,
          35,
          35,
          42,
          37,
          27,
          40,
          null,
          null,
          42,
          39,
          27,
          33,
          26,
          34,
          41,
          35,
          null,
          23,
          41,
          34,
          39,
          28,
          30,
          35,
          null,
          31,
          34,
          null,
          34,
          38,
          29,
          30,
          26,
          null,
          15,
          null,
          null,
          24,
          null,
          30,
          25,
          37,
          21,
          24,
          null,
          31,
          43,
          41,
          41,
          41,
          null,
          20,
          null,
          31,
          34,
          43,
          null,
          38,
          36,
          34,
          28,
          36,
          null,
          null,
          38,
          null,
          35,
          26,
          36,
          null,
          31,
          null,
          35,
          null,
          null,
          44,
          26,
          25,
          40,
          28,
          39,
          36,
          31,
          28,
          47,
          40,
          19,
          26,
          null,
          37,
          9
         ],
         "yaxis": "y"
        },
        {
         "hovertemplate": "classification=notckd<br>rc=%{x}<br>pcv=%{y}<extra></extra>",
         "legendgroup": "notckd",
         "marker": {
          "color": "#EF553B",
          "symbol": "circle"
         },
         "mode": "markers",
         "name": "notckd",
         "orientation": "v",
         "showlegend": true,
         "type": "scatter",
         "x": [
          4.5,
          5,
          4.7,
          6.2,
          5.2,
          6.3,
          5.1,
          5.8,
          5.5,
          5.2,
          5.3,
          4.9,
          5.4,
          5.2,
          4.5,
          5,
          5.3,
          4.8,
          4.9,
          5.3,
          5,
          4.5,
          5.5,
          null,
          null,
          4.6,
          5.5,
          4.8,
          6.4,
          5.6,
          5.2,
          6,
          4.8,
          5.7,
          6,
          5.9,
          6,
          null,
          5.1,
          5.3,
          5.9,
          5.7,
          5,
          5.4,
          5.8,
          6.5,
          5.9,
          5.2,
          4.9,
          4.7,
          5.8,
          5,
          null,
          6.1,
          4.5,
          5.2,
          5.7,
          4.5,
          4.9,
          5.9,
          5.4,
          5.6,
          6.1,
          4.8,
          4.7,
          4.4,
          5.2,
          4.9,
          5.3,
          null,
          6.2,
          4.8,
          4.9,
          4.5,
          null,
          6.5,
          5.2,
          5.8,
          6.5,
          5.1,
          null,
          4.5,
          6.1,
          5.5,
          4.5,
          5.6,
          5.2,
          6.2,
          4.5,
          4.9,
          5.9,
          4.7,
          6.3,
          5.7,
          4.7,
          6.4,
          5.8,
          5.5,
          6.4,
          6.1,
          4.5,
          4.7,
          5.2,
          4.5,
          5.1,
          4.6,
          6.1,
          4.9,
          5.6,
          4.5,
          6.2,
          5.8,
          4.8,
          5.2,
          4.7,
          6.3,
          5.3,
          6.1,
          5.9,
          4.8,
          5.4,
          5,
          5.5,
          4.9,
          6.4,
          5.6,
          5.2,
          4.8,
          5.5,
          5.7,
          4.9,
          5.9,
          6.5,
          5,
          4.5,
          5.1,
          6.5,
          5.2,
          6.4,
          5.8,
          5.3,
          6.3,
          5.5,
          5.4,
          4.6,
          4.9,
          6.2,
          5.4,
          5.9,
          6.1
         ],
         "xaxis": "x",
         "y": [
          48,
          52,
          46,
          42,
          49,
          52,
          41,
          46,
          44,
          45,
          45,
          41,
          43,
          45,
          50,
          48,
          41,
          48,
          53,
          48,
          41,
          42,
          42,
          null,
          44,
          43,
          41,
          50,
          44,
          48,
          52,
          41,
          44,
          43,
          52,
          41,
          44,
          43,
          50,
          43,
          52,
          41,
          52,
          48,
          40,
          50,
          41,
          45,
          48,
          52,
          43,
          41,
          48,
          50,
          45,
          41,
          52,
          44,
          48,
          40,
          44,
          45,
          48,
          52,
          41,
          48,
          48,
          40,
          52,
          null,
          44,
          48,
          43,
          45,
          null,
          50,
          41,
          44,
          45,
          48,
          42,
          46,
          44,
          46,
          43,
          48,
          40,
          52,
          44,
          48,
          43,
          41,
          50,
          50,
          42,
          42,
          52,
          43,
          44,
          52,
          43,
          40,
          48,
          51,
          41,
          52,
          47,
          42,
          45,
          53,
          43,
          54,
          40,
          44,
          45,
          null,
          46,
          50,
          45,
          46,
          50,
          51,
          52,
          47,
          40,
          48,
          53,
          49,
          42,
          50,
          54,
          40,
          51,
          49,
          42,
          52,
          43,
          50,
          46,
          52,
          52,
          44,
          46,
          54,
          45,
          47,
          54,
          49,
          51,
          53
         ],
         "yaxis": "y"
        }
       ],
       "layout": {
        "legend": {
         "title": {
          "text": "classification"
         },
         "tracegroupgap": 0
        },
        "margin": {
         "t": 60
        },
        "template": {
         "data": {
          "bar": [
           {
            "error_x": {
             "color": "#2a3f5f"
            },
            "error_y": {
             "color": "#2a3f5f"
            },
            "marker": {
             "line": {
              "color": "#E5ECF6",
              "width": 0.5
             },
             "pattern": {
              "fillmode": "overlay",
              "size": 10,
              "solidity": 0.2
             }
            },
            "type": "bar"
           }
          ],
          "barpolar": [
           {
            "marker": {
             "line": {
              "color": "#E5ECF6",
              "width": 0.5
             },
             "pattern": {
              "fillmode": "overlay",
              "size": 10,
              "solidity": 0.2
             }
            },
            "type": "barpolar"
           }
          ],
          "carpet": [
           {
            "aaxis": {
             "endlinecolor": "#2a3f5f",
             "gridcolor": "white",
             "linecolor": "white",
             "minorgridcolor": "white",
             "startlinecolor": "#2a3f5f"
            },
            "baxis": {
             "endlinecolor": "#2a3f5f",
             "gridcolor": "white",
             "linecolor": "white",
             "minorgridcolor": "white",
             "startlinecolor": "#2a3f5f"
            },
            "type": "carpet"
           }
          ],
          "choropleth": [
           {
            "colorbar": {
             "outlinewidth": 0,
             "ticks": ""
            },
            "type": "choropleth"
           }
          ],
          "contour": [
           {
            "colorbar": {
             "outlinewidth": 0,
             "ticks": ""
            },
            "colorscale": [
             [
              0,
              "#0d0887"
             ],
             [
              0.1111111111111111,
              "#46039f"
             ],
             [
              0.2222222222222222,
              "#7201a8"
             ],
             [
              0.3333333333333333,
              "#9c179e"
             ],
             [
              0.4444444444444444,
              "#bd3786"
             ],
             [
              0.5555555555555556,
              "#d8576b"
             ],
             [
              0.6666666666666666,
              "#ed7953"
             ],
             [
              0.7777777777777778,
              "#fb9f3a"
             ],
             [
              0.8888888888888888,
              "#fdca26"
             ],
             [
              1,
              "#f0f921"
             ]
            ],
            "type": "contour"
           }
          ],
          "contourcarpet": [
           {
            "colorbar": {
             "outlinewidth": 0,
             "ticks": ""
            },
            "type": "contourcarpet"
           }
          ],
          "heatmap": [
           {
            "colorbar": {
             "outlinewidth": 0,
             "ticks": ""
            },
            "colorscale": [
             [
              0,
              "#0d0887"
             ],
             [
              0.1111111111111111,
              "#46039f"
             ],
             [
              0.2222222222222222,
              "#7201a8"
             ],
             [
              0.3333333333333333,
              "#9c179e"
             ],
             [
              0.4444444444444444,
              "#bd3786"
             ],
             [
              0.5555555555555556,
              "#d8576b"
             ],
             [
              0.6666666666666666,
              "#ed7953"
             ],
             [
              0.7777777777777778,
              "#fb9f3a"
             ],
             [
              0.8888888888888888,
              "#fdca26"
             ],
             [
              1,
              "#f0f921"
             ]
            ],
            "type": "heatmap"
           }
          ],
          "heatmapgl": [
           {
            "colorbar": {
             "outlinewidth": 0,
             "ticks": ""
            },
            "colorscale": [
             [
              0,
              "#0d0887"
             ],
             [
              0.1111111111111111,
              "#46039f"
             ],
             [
              0.2222222222222222,
              "#7201a8"
             ],
             [
              0.3333333333333333,
              "#9c179e"
             ],
             [
              0.4444444444444444,
              "#bd3786"
             ],
             [
              0.5555555555555556,
              "#d8576b"
             ],
             [
              0.6666666666666666,
              "#ed7953"
             ],
             [
              0.7777777777777778,
              "#fb9f3a"
             ],
             [
              0.8888888888888888,
              "#fdca26"
             ],
             [
              1,
              "#f0f921"
             ]
            ],
            "type": "heatmapgl"
           }
          ],
          "histogram": [
           {
            "marker": {
             "pattern": {
              "fillmode": "overlay",
              "size": 10,
              "solidity": 0.2
             }
            },
            "type": "histogram"
           }
          ],
          "histogram2d": [
           {
            "colorbar": {
             "outlinewidth": 0,
             "ticks": ""
            },
            "colorscale": [
             [
              0,
              "#0d0887"
             ],
             [
              0.1111111111111111,
              "#46039f"
             ],
             [
              0.2222222222222222,
              "#7201a8"
             ],
             [
              0.3333333333333333,
              "#9c179e"
             ],
             [
              0.4444444444444444,
              "#bd3786"
             ],
             [
              0.5555555555555556,
              "#d8576b"
             ],
             [
              0.6666666666666666,
              "#ed7953"
             ],
             [
              0.7777777777777778,
              "#fb9f3a"
             ],
             [
              0.8888888888888888,
              "#fdca26"
             ],
             [
              1,
              "#f0f921"
             ]
            ],
            "type": "histogram2d"
           }
          ],
          "histogram2dcontour": [
           {
            "colorbar": {
             "outlinewidth": 0,
             "ticks": ""
            },
            "colorscale": [
             [
              0,
              "#0d0887"
             ],
             [
              0.1111111111111111,
              "#46039f"
             ],
             [
              0.2222222222222222,
              "#7201a8"
             ],
             [
              0.3333333333333333,
              "#9c179e"
             ],
             [
              0.4444444444444444,
              "#bd3786"
             ],
             [
              0.5555555555555556,
              "#d8576b"
             ],
             [
              0.6666666666666666,
              "#ed7953"
             ],
             [
              0.7777777777777778,
              "#fb9f3a"
             ],
             [
              0.8888888888888888,
              "#fdca26"
             ],
             [
              1,
              "#f0f921"
             ]
            ],
            "type": "histogram2dcontour"
           }
          ],
          "mesh3d": [
           {
            "colorbar": {
             "outlinewidth": 0,
             "ticks": ""
            },
            "type": "mesh3d"
           }
          ],
          "parcoords": [
           {
            "line": {
             "colorbar": {
              "outlinewidth": 0,
              "ticks": ""
             }
            },
            "type": "parcoords"
           }
          ],
          "pie": [
           {
            "automargin": true,
            "type": "pie"
           }
          ],
          "scatter": [
           {
            "fillpattern": {
             "fillmode": "overlay",
             "size": 10,
             "solidity": 0.2
            },
            "type": "scatter"
           }
          ],
          "scatter3d": [
           {
            "line": {
             "colorbar": {
              "outlinewidth": 0,
              "ticks": ""
             }
            },
            "marker": {
             "colorbar": {
              "outlinewidth": 0,
              "ticks": ""
             }
            },
            "type": "scatter3d"
           }
          ],
          "scattercarpet": [
           {
            "marker": {
             "colorbar": {
              "outlinewidth": 0,
              "ticks": ""
             }
            },
            "type": "scattercarpet"
           }
          ],
          "scattergeo": [
           {
            "marker": {
             "colorbar": {
              "outlinewidth": 0,
              "ticks": ""
             }
            },
            "type": "scattergeo"
           }
          ],
          "scattergl": [
           {
            "marker": {
             "colorbar": {
              "outlinewidth": 0,
              "ticks": ""
             }
            },
            "type": "scattergl"
           }
          ],
          "scattermapbox": [
           {
            "marker": {
             "colorbar": {
              "outlinewidth": 0,
              "ticks": ""
             }
            },
            "type": "scattermapbox"
           }
          ],
          "scatterpolar": [
           {
            "marker": {
             "colorbar": {
              "outlinewidth": 0,
              "ticks": ""
             }
            },
            "type": "scatterpolar"
           }
          ],
          "scatterpolargl": [
           {
            "marker": {
             "colorbar": {
              "outlinewidth": 0,
              "ticks": ""
             }
            },
            "type": "scatterpolargl"
           }
          ],
          "scatterternary": [
           {
            "marker": {
             "colorbar": {
              "outlinewidth": 0,
              "ticks": ""
             }
            },
            "type": "scatterternary"
           }
          ],
          "surface": [
           {
            "colorbar": {
             "outlinewidth": 0,
             "ticks": ""
            },
            "colorscale": [
             [
              0,
              "#0d0887"
             ],
             [
              0.1111111111111111,
              "#46039f"
             ],
             [
              0.2222222222222222,
              "#7201a8"
             ],
             [
              0.3333333333333333,
              "#9c179e"
             ],
             [
              0.4444444444444444,
              "#bd3786"
             ],
             [
              0.5555555555555556,
              "#d8576b"
             ],
             [
              0.6666666666666666,
              "#ed7953"
             ],
             [
              0.7777777777777778,
              "#fb9f3a"
             ],
             [
              0.8888888888888888,
              "#fdca26"
             ],
             [
              1,
              "#f0f921"
             ]
            ],
            "type": "surface"
           }
          ],
          "table": [
           {
            "cells": {
             "fill": {
              "color": "#EBF0F8"
             },
             "line": {
              "color": "white"
             }
            },
            "header": {
             "fill": {
              "color": "#C8D4E3"
             },
             "line": {
              "color": "white"
             }
            },
            "type": "table"
           }
          ]
         },
         "layout": {
          "annotationdefaults": {
           "arrowcolor": "#2a3f5f",
           "arrowhead": 0,
           "arrowwidth": 1
          },
          "autotypenumbers": "strict",
          "coloraxis": {
           "colorbar": {
            "outlinewidth": 0,
            "ticks": ""
           }
          },
          "colorscale": {
           "diverging": [
            [
             0,
             "#8e0152"
            ],
            [
             0.1,
             "#c51b7d"
            ],
            [
             0.2,
             "#de77ae"
            ],
            [
             0.3,
             "#f1b6da"
            ],
            [
             0.4,
             "#fde0ef"
            ],
            [
             0.5,
             "#f7f7f7"
            ],
            [
             0.6,
             "#e6f5d0"
            ],
            [
             0.7,
             "#b8e186"
            ],
            [
             0.8,
             "#7fbc41"
            ],
            [
             0.9,
             "#4d9221"
            ],
            [
             1,
             "#276419"
            ]
           ],
           "sequential": [
            [
             0,
             "#0d0887"
            ],
            [
             0.1111111111111111,
             "#46039f"
            ],
            [
             0.2222222222222222,
             "#7201a8"
            ],
            [
             0.3333333333333333,
             "#9c179e"
            ],
            [
             0.4444444444444444,
             "#bd3786"
            ],
            [
             0.5555555555555556,
             "#d8576b"
            ],
            [
             0.6666666666666666,
             "#ed7953"
            ],
            [
             0.7777777777777778,
             "#fb9f3a"
            ],
            [
             0.8888888888888888,
             "#fdca26"
            ],
            [
             1,
             "#f0f921"
            ]
           ],
           "sequentialminus": [
            [
             0,
             "#0d0887"
            ],
            [
             0.1111111111111111,
             "#46039f"
            ],
            [
             0.2222222222222222,
             "#7201a8"
            ],
            [
             0.3333333333333333,
             "#9c179e"
            ],
            [
             0.4444444444444444,
             "#bd3786"
            ],
            [
             0.5555555555555556,
             "#d8576b"
            ],
            [
             0.6666666666666666,
             "#ed7953"
            ],
            [
             0.7777777777777778,
             "#fb9f3a"
            ],
            [
             0.8888888888888888,
             "#fdca26"
            ],
            [
             1,
             "#f0f921"
            ]
           ]
          },
          "colorway": [
           "#636efa",
           "#EF553B",
           "#00cc96",
           "#ab63fa",
           "#FFA15A",
           "#19d3f3",
           "#FF6692",
           "#B6E880",
           "#FF97FF",
           "#FECB52"
          ],
          "font": {
           "color": "#2a3f5f"
          },
          "geo": {
           "bgcolor": "white",
           "lakecolor": "white",
           "landcolor": "#E5ECF6",
           "showlakes": true,
           "showland": true,
           "subunitcolor": "white"
          },
          "hoverlabel": {
           "align": "left"
          },
          "hovermode": "closest",
          "mapbox": {
           "style": "light"
          },
          "paper_bgcolor": "white",
          "plot_bgcolor": "#E5ECF6",
          "polar": {
           "angularaxis": {
            "gridcolor": "white",
            "linecolor": "white",
            "ticks": ""
           },
           "bgcolor": "#E5ECF6",
           "radialaxis": {
            "gridcolor": "white",
            "linecolor": "white",
            "ticks": ""
           }
          },
          "scene": {
           "xaxis": {
            "backgroundcolor": "#E5ECF6",
            "gridcolor": "white",
            "gridwidth": 2,
            "linecolor": "white",
            "showbackground": true,
            "ticks": "",
            "zerolinecolor": "white"
           },
           "yaxis": {
            "backgroundcolor": "#E5ECF6",
            "gridcolor": "white",
            "gridwidth": 2,
            "linecolor": "white",
            "showbackground": true,
            "ticks": "",
            "zerolinecolor": "white"
           },
           "zaxis": {
            "backgroundcolor": "#E5ECF6",
            "gridcolor": "white",
            "gridwidth": 2,
            "linecolor": "white",
            "showbackground": true,
            "ticks": "",
            "zerolinecolor": "white"
           }
          },
          "shapedefaults": {
           "line": {
            "color": "#2a3f5f"
           }
          },
          "ternary": {
           "aaxis": {
            "gridcolor": "white",
            "linecolor": "white",
            "ticks": ""
           },
           "baxis": {
            "gridcolor": "white",
            "linecolor": "white",
            "ticks": ""
           },
           "bgcolor": "#E5ECF6",
           "caxis": {
            "gridcolor": "white",
            "linecolor": "white",
            "ticks": ""
           }
          },
          "title": {
           "x": 0.05
          },
          "xaxis": {
           "automargin": true,
           "gridcolor": "white",
           "linecolor": "white",
           "ticks": "",
           "title": {
            "standoff": 15
           },
           "zerolinecolor": "white",
           "zerolinewidth": 2
          },
          "yaxis": {
           "automargin": true,
           "gridcolor": "white",
           "linecolor": "white",
           "ticks": "",
           "title": {
            "standoff": 15
           },
           "zerolinecolor": "white",
           "zerolinewidth": 2
          }
         }
        },
        "xaxis": {
         "anchor": "y",
         "domain": [
          0,
          1
         ],
         "title": {
          "text": "rc"
         }
        },
        "yaxis": {
         "anchor": "x",
         "domain": [
          0,
          1
         ],
         "title": {
          "text": "pcv"
         }
        }
       }
      }
     },
     "metadata": {},
     "output_type": "display_data"
    }
   ],
   "source": [
    "scatters('rc','pcv')"
   ]
  },
  {
   "cell_type": "code",
   "execution_count": 206,
   "id": "fe0b9542",
   "metadata": {},
   "outputs": [
    {
     "data": {
      "application/vnd.plotly.v1+json": {
       "config": {
        "plotlyServerURL": "https://plot.ly"
       },
       "data": [
        {
         "hovertemplate": "classification=ckd<br>rc=%{x}<br>hemo=%{y}<extra></extra>",
         "legendgroup": "ckd",
         "marker": {
          "color": "#636efa",
          "symbol": "circle"
         },
         "mode": "markers",
         "name": "ckd",
         "orientation": "v",
         "showlegend": true,
         "type": "scatter",
         "x": [
          5.2,
          null,
          null,
          3.9,
          4.6,
          4.4,
          null,
          5,
          4,
          3.7,
          null,
          3.8,
          3.4,
          null,
          2.6,
          2.8,
          null,
          null,
          4.3,
          3.7,
          3.2,
          3.6,
          3.4,
          null,
          4.6,
          3.7,
          4,
          4.1,
          null,
          null,
          null,
          4,
          4,
          null,
          null,
          4.9,
          null,
          2.5,
          null,
          4.2,
          4.1,
          null,
          4.5,
          3.1,
          null,
          null,
          4.7,
          null,
          3.5,
          3.5,
          3.8,
          null,
          3.7,
          4.7,
          4.2,
          null,
          3.4,
          null,
          4.3,
          null,
          null,
          null,
          3.8,
          null,
          null,
          null,
          null,
          null,
          null,
          6,
          5.2,
          3.2,
          null,
          null,
          3.4,
          null,
          4,
          3.7,
          null,
          5,
          3.8,
          3.7,
          null,
          null,
          2.1,
          null,
          null,
          5,
          4.7,
          null,
          4.2,
          5.6,
          3.6,
          3.2,
          3.9,
          null,
          null,
          4,
          2.3,
          4.2,
          null,
          3.9,
          null,
          4.2,
          null,
          5.2,
          null,
          4.4,
          4.2,
          null,
          4.7,
          3.9,
          null,
          null,
          null,
          4.3,
          null,
          4.4,
          null,
          null,
          null,
          null,
          null,
          null,
          3.6,
          null,
          4.5,
          4.3,
          2.9,
          null,
          2.7,
          null,
          2.7,
          8,
          3.8,
          null,
          null,
          null,
          null,
          null,
          null,
          null,
          null,
          null,
          4.1,
          3.3,
          null,
          3,
          null,
          null,
          null,
          null,
          null,
          2.9,
          3,
          null,
          null,
          3.9,
          null,
          4.3,
          2.4,
          4.8,
          null,
          3.2,
          5.4,
          null,
          null,
          null,
          null,
          null,
          4.4,
          3.1,
          4.9,
          null,
          4.6,
          3.4,
          3.9,
          null,
          null,
          null,
          null,
          3.7,
          null,
          null,
          3.6,
          null,
          null,
          null,
          null,
          3.4,
          4.8,
          3.4,
          null,
          2.8,
          null,
          null,
          3.5,
          3,
          3.9,
          3.2,
          3.9,
          null,
          null,
          null,
          null,
          null,
          null,
          4.6,
          4.9,
          null,
          3.9,
          null,
          3.4,
          3.7,
          5.2,
          null,
          null,
          4.3,
          null,
          3.3,
          null,
          null,
          null,
          4.6,
          null,
          4.5,
          3.4,
          3.8,
          null,
          3.8,
          null,
          null,
          null,
          null,
          5.2,
          null,
          null,
          null,
          null,
          null,
          4.1,
          3.9,
          3.3,
          6.1,
          4.6,
          2.6,
          2.5,
          null,
          4.1,
          2.1
         ],
         "xaxis": "x",
         "y": [
          15.4,
          11.3,
          9.6,
          11.2,
          11.6,
          12.2,
          12.4,
          12.4,
          10.8,
          9.5,
          9.4,
          10.8,
          9.7,
          9.8,
          5.6,
          7.6,
          12.6,
          12.1,
          12.7,
          10.3,
          7.7,
          10.9,
          9.8,
          null,
          11.1,
          9.9,
          11.6,
          12.5,
          null,
          12.9,
          null,
          10.1,
          11.3,
          10.1,
          null,
          12,
          10.3,
          9.7,
          12.5,
          13,
          11.1,
          null,
          9.7,
          7.9,
          9.7,
          9.3,
          12.4,
          15,
          10,
          9.7,
          8.6,
          10.3,
          10.9,
          13.6,
          13,
          9.5,
          10.2,
          null,
          10.5,
          6.6,
          null,
          null,
          11,
          7.5,
          9.8,
          15,
          null,
          null,
          10.9,
          15.6,
          15.2,
          9.8,
          10.3,
          4.8,
          9.1,
          8.1,
          10.3,
          11.9,
          10.1,
          13.5,
          10.8,
          8.3,
          null,
          null,
          7.1,
          9.9,
          null,
          11.1,
          null,
          null,
          13,
          16.1,
          10.4,
          9.2,
          11.6,
          null,
          11.2,
          10,
          6.2,
          11.2,
          null,
          11.3,
          13.9,
          10.2,
          null,
          14.1,
          6,
          11.2,
          11.8,
          11.7,
          11.7,
          10,
          10.8,
          null,
          12.1,
          12.4,
          null,
          12.5,
          11.4,
          null,
          12.6,
          15,
          6,
          14,
          9.1,
          null,
          12,
          11.4,
          8.1,
          11.1,
          8.2,
          11.8,
          8.6,
          12,
          10.8,
          13.2,
          9.3,
          10,
          null,
          11.1,
          null,
          6.1,
          null,
          null,
          11.1,
          8,
          null,
          7.9,
          null,
          10.5,
          12.3,
          9.6,
          10.9,
          8.3,
          8.4,
          11.1,
          null,
          12.6,
          10.9,
          10.4,
          10.9,
          14.3,
          9.8,
          9,
          14.3,
          null,
          null,
          12.7,
          11,
          8.7,
          12.5,
          8.7,
          10.6,
          13.1,
          11,
          null,
          8.3,
          13.2,
          9.8,
          11.9,
          10.3,
          10,
          11.3,
          null,
          11.3,
          12,
          null,
          10.7,
          12.2,
          9.5,
          9.9,
          9.1,
          null,
          5.5,
          null,
          5.8,
          8.1,
          6.8,
          11.2,
          8.8,
          12,
          7.9,
          8,
          8.5,
          8.8,
          12.6,
          13.8,
          12,
          12.3,
          11.5,
          7.3,
          null,
          10.9,
          10.9,
          13.7,
          null,
          12.8,
          12.2,
          11.8,
          9.8,
          11.9,
          null,
          null,
          13,
          null,
          11.5,
          7.9,
          11.3,
          null,
          9.6,
          null,
          11.5,
          null,
          null,
          15,
          7.9,
          9.1,
          12.7,
          9.4,
          11.9,
          11.4,
          10.4,
          9.4,
          13.4,
          12.2,
          6.3,
          8.6,
          null,
          12.6,
          3.1
         ],
         "yaxis": "y"
        },
        {
         "hovertemplate": "classification=notckd<br>rc=%{x}<br>hemo=%{y}<extra></extra>",
         "legendgroup": "notckd",
         "marker": {
          "color": "#EF553B",
          "symbol": "circle"
         },
         "mode": "markers",
         "name": "notckd",
         "orientation": "v",
         "showlegend": true,
         "type": "scatter",
         "x": [
          4.5,
          5,
          4.7,
          6.2,
          5.2,
          6.3,
          5.1,
          5.8,
          5.5,
          5.2,
          5.3,
          4.9,
          5.4,
          5.2,
          4.5,
          5,
          5.3,
          4.8,
          4.9,
          5.3,
          5,
          4.5,
          5.5,
          null,
          null,
          4.6,
          5.5,
          4.8,
          6.4,
          5.6,
          5.2,
          6,
          4.8,
          5.7,
          6,
          5.9,
          6,
          null,
          5.1,
          5.3,
          5.9,
          5.7,
          5,
          5.4,
          5.8,
          6.5,
          5.9,
          5.2,
          4.9,
          4.7,
          5.8,
          5,
          null,
          6.1,
          4.5,
          5.2,
          5.7,
          4.5,
          4.9,
          5.9,
          5.4,
          5.6,
          6.1,
          4.8,
          4.7,
          4.4,
          5.2,
          4.9,
          5.3,
          null,
          6.2,
          4.8,
          4.9,
          4.5,
          null,
          6.5,
          5.2,
          5.8,
          6.5,
          5.1,
          null,
          4.5,
          6.1,
          5.5,
          4.5,
          5.6,
          5.2,
          6.2,
          4.5,
          4.9,
          5.9,
          4.7,
          6.3,
          5.7,
          4.7,
          6.4,
          5.8,
          5.5,
          6.4,
          6.1,
          4.5,
          4.7,
          5.2,
          4.5,
          5.1,
          4.6,
          6.1,
          4.9,
          5.6,
          4.5,
          6.2,
          5.8,
          4.8,
          5.2,
          4.7,
          6.3,
          5.3,
          6.1,
          5.9,
          4.8,
          5.4,
          5,
          5.5,
          4.9,
          6.4,
          5.6,
          5.2,
          4.8,
          5.5,
          5.7,
          4.9,
          5.9,
          6.5,
          5,
          4.5,
          5.1,
          6.5,
          5.2,
          6.4,
          5.8,
          5.3,
          6.3,
          5.5,
          5.4,
          4.6,
          4.9,
          6.2,
          5.4,
          5.9,
          6.1
         ],
         "xaxis": "x",
         "y": [
          15,
          17,
          15.9,
          15.4,
          13,
          13.6,
          14.5,
          14,
          13.9,
          16.1,
          14.1,
          17,
          15.5,
          16.2,
          14.4,
          14.2,
          13.2,
          13.9,
          16.3,
          15,
          14.3,
          13.8,
          14.8,
          null,
          14.4,
          16.5,
          14,
          15.7,
          14.5,
          16.3,
          13.3,
          15.5,
          14.6,
          16.4,
          16.9,
          16,
          14.7,
          13.4,
          15.9,
          16.6,
          14.8,
          14.9,
          16.7,
          14.9,
          14.3,
          15,
          16.8,
          15.8,
          13.5,
          15.1,
          15,
          16.9,
          14.8,
          17,
          13.1,
          17.1,
          15.2,
          13.6,
          13.9,
          17.2,
          13.2,
          13.7,
          15.3,
          17.3,
          15.6,
          13.8,
          15.4,
          15,
          17.4,
          null,
          15.7,
          13.9,
          16,
          15.9,
          null,
          14,
          15.8,
          13.4,
          null,
          14.1,
          null,
          13.5,
          15.3,
          17.7,
          15.4,
          14.2,
          15.2,
          14,
          17.8,
          13.3,
          14.3,
          13.4,
          15,
          16.2,
          14.4,
          13.5,
          15.5,
          17.8,
          13.6,
          14.5,
          16.1,
          17.5,
          15,
          13.6,
          14.6,
          15,
          17.1,
          13.6,
          13,
          17.2,
          14.7,
          13.7,
          15,
          17.8,
          14.8,
          null,
          15,
          17.4,
          14.9,
          13.6,
          16.2,
          17.6,
          15,
          13.7,
          16.3,
          15.1,
          16.4,
          13.8,
          15.2,
          16.1,
          15.3,
          16.6,
          16.8,
          13.9,
          15.4,
          16.5,
          16.4,
          16.7,
          15.5,
          17,
          15,
          15.6,
          14.8,
          13,
          14.1,
          15.7,
          16.5,
          15.8,
          14.2,
          15.8
         ],
         "yaxis": "y"
        }
       ],
       "layout": {
        "legend": {
         "title": {
          "text": "classification"
         },
         "tracegroupgap": 0
        },
        "margin": {
         "t": 60
        },
        "template": {
         "data": {
          "bar": [
           {
            "error_x": {
             "color": "#2a3f5f"
            },
            "error_y": {
             "color": "#2a3f5f"
            },
            "marker": {
             "line": {
              "color": "#E5ECF6",
              "width": 0.5
             },
             "pattern": {
              "fillmode": "overlay",
              "size": 10,
              "solidity": 0.2
             }
            },
            "type": "bar"
           }
          ],
          "barpolar": [
           {
            "marker": {
             "line": {
              "color": "#E5ECF6",
              "width": 0.5
             },
             "pattern": {
              "fillmode": "overlay",
              "size": 10,
              "solidity": 0.2
             }
            },
            "type": "barpolar"
           }
          ],
          "carpet": [
           {
            "aaxis": {
             "endlinecolor": "#2a3f5f",
             "gridcolor": "white",
             "linecolor": "white",
             "minorgridcolor": "white",
             "startlinecolor": "#2a3f5f"
            },
            "baxis": {
             "endlinecolor": "#2a3f5f",
             "gridcolor": "white",
             "linecolor": "white",
             "minorgridcolor": "white",
             "startlinecolor": "#2a3f5f"
            },
            "type": "carpet"
           }
          ],
          "choropleth": [
           {
            "colorbar": {
             "outlinewidth": 0,
             "ticks": ""
            },
            "type": "choropleth"
           }
          ],
          "contour": [
           {
            "colorbar": {
             "outlinewidth": 0,
             "ticks": ""
            },
            "colorscale": [
             [
              0,
              "#0d0887"
             ],
             [
              0.1111111111111111,
              "#46039f"
             ],
             [
              0.2222222222222222,
              "#7201a8"
             ],
             [
              0.3333333333333333,
              "#9c179e"
             ],
             [
              0.4444444444444444,
              "#bd3786"
             ],
             [
              0.5555555555555556,
              "#d8576b"
             ],
             [
              0.6666666666666666,
              "#ed7953"
             ],
             [
              0.7777777777777778,
              "#fb9f3a"
             ],
             [
              0.8888888888888888,
              "#fdca26"
             ],
             [
              1,
              "#f0f921"
             ]
            ],
            "type": "contour"
           }
          ],
          "contourcarpet": [
           {
            "colorbar": {
             "outlinewidth": 0,
             "ticks": ""
            },
            "type": "contourcarpet"
           }
          ],
          "heatmap": [
           {
            "colorbar": {
             "outlinewidth": 0,
             "ticks": ""
            },
            "colorscale": [
             [
              0,
              "#0d0887"
             ],
             [
              0.1111111111111111,
              "#46039f"
             ],
             [
              0.2222222222222222,
              "#7201a8"
             ],
             [
              0.3333333333333333,
              "#9c179e"
             ],
             [
              0.4444444444444444,
              "#bd3786"
             ],
             [
              0.5555555555555556,
              "#d8576b"
             ],
             [
              0.6666666666666666,
              "#ed7953"
             ],
             [
              0.7777777777777778,
              "#fb9f3a"
             ],
             [
              0.8888888888888888,
              "#fdca26"
             ],
             [
              1,
              "#f0f921"
             ]
            ],
            "type": "heatmap"
           }
          ],
          "heatmapgl": [
           {
            "colorbar": {
             "outlinewidth": 0,
             "ticks": ""
            },
            "colorscale": [
             [
              0,
              "#0d0887"
             ],
             [
              0.1111111111111111,
              "#46039f"
             ],
             [
              0.2222222222222222,
              "#7201a8"
             ],
             [
              0.3333333333333333,
              "#9c179e"
             ],
             [
              0.4444444444444444,
              "#bd3786"
             ],
             [
              0.5555555555555556,
              "#d8576b"
             ],
             [
              0.6666666666666666,
              "#ed7953"
             ],
             [
              0.7777777777777778,
              "#fb9f3a"
             ],
             [
              0.8888888888888888,
              "#fdca26"
             ],
             [
              1,
              "#f0f921"
             ]
            ],
            "type": "heatmapgl"
           }
          ],
          "histogram": [
           {
            "marker": {
             "pattern": {
              "fillmode": "overlay",
              "size": 10,
              "solidity": 0.2
             }
            },
            "type": "histogram"
           }
          ],
          "histogram2d": [
           {
            "colorbar": {
             "outlinewidth": 0,
             "ticks": ""
            },
            "colorscale": [
             [
              0,
              "#0d0887"
             ],
             [
              0.1111111111111111,
              "#46039f"
             ],
             [
              0.2222222222222222,
              "#7201a8"
             ],
             [
              0.3333333333333333,
              "#9c179e"
             ],
             [
              0.4444444444444444,
              "#bd3786"
             ],
             [
              0.5555555555555556,
              "#d8576b"
             ],
             [
              0.6666666666666666,
              "#ed7953"
             ],
             [
              0.7777777777777778,
              "#fb9f3a"
             ],
             [
              0.8888888888888888,
              "#fdca26"
             ],
             [
              1,
              "#f0f921"
             ]
            ],
            "type": "histogram2d"
           }
          ],
          "histogram2dcontour": [
           {
            "colorbar": {
             "outlinewidth": 0,
             "ticks": ""
            },
            "colorscale": [
             [
              0,
              "#0d0887"
             ],
             [
              0.1111111111111111,
              "#46039f"
             ],
             [
              0.2222222222222222,
              "#7201a8"
             ],
             [
              0.3333333333333333,
              "#9c179e"
             ],
             [
              0.4444444444444444,
              "#bd3786"
             ],
             [
              0.5555555555555556,
              "#d8576b"
             ],
             [
              0.6666666666666666,
              "#ed7953"
             ],
             [
              0.7777777777777778,
              "#fb9f3a"
             ],
             [
              0.8888888888888888,
              "#fdca26"
             ],
             [
              1,
              "#f0f921"
             ]
            ],
            "type": "histogram2dcontour"
           }
          ],
          "mesh3d": [
           {
            "colorbar": {
             "outlinewidth": 0,
             "ticks": ""
            },
            "type": "mesh3d"
           }
          ],
          "parcoords": [
           {
            "line": {
             "colorbar": {
              "outlinewidth": 0,
              "ticks": ""
             }
            },
            "type": "parcoords"
           }
          ],
          "pie": [
           {
            "automargin": true,
            "type": "pie"
           }
          ],
          "scatter": [
           {
            "fillpattern": {
             "fillmode": "overlay",
             "size": 10,
             "solidity": 0.2
            },
            "type": "scatter"
           }
          ],
          "scatter3d": [
           {
            "line": {
             "colorbar": {
              "outlinewidth": 0,
              "ticks": ""
             }
            },
            "marker": {
             "colorbar": {
              "outlinewidth": 0,
              "ticks": ""
             }
            },
            "type": "scatter3d"
           }
          ],
          "scattercarpet": [
           {
            "marker": {
             "colorbar": {
              "outlinewidth": 0,
              "ticks": ""
             }
            },
            "type": "scattercarpet"
           }
          ],
          "scattergeo": [
           {
            "marker": {
             "colorbar": {
              "outlinewidth": 0,
              "ticks": ""
             }
            },
            "type": "scattergeo"
           }
          ],
          "scattergl": [
           {
            "marker": {
             "colorbar": {
              "outlinewidth": 0,
              "ticks": ""
             }
            },
            "type": "scattergl"
           }
          ],
          "scattermapbox": [
           {
            "marker": {
             "colorbar": {
              "outlinewidth": 0,
              "ticks": ""
             }
            },
            "type": "scattermapbox"
           }
          ],
          "scatterpolar": [
           {
            "marker": {
             "colorbar": {
              "outlinewidth": 0,
              "ticks": ""
             }
            },
            "type": "scatterpolar"
           }
          ],
          "scatterpolargl": [
           {
            "marker": {
             "colorbar": {
              "outlinewidth": 0,
              "ticks": ""
             }
            },
            "type": "scatterpolargl"
           }
          ],
          "scatterternary": [
           {
            "marker": {
             "colorbar": {
              "outlinewidth": 0,
              "ticks": ""
             }
            },
            "type": "scatterternary"
           }
          ],
          "surface": [
           {
            "colorbar": {
             "outlinewidth": 0,
             "ticks": ""
            },
            "colorscale": [
             [
              0,
              "#0d0887"
             ],
             [
              0.1111111111111111,
              "#46039f"
             ],
             [
              0.2222222222222222,
              "#7201a8"
             ],
             [
              0.3333333333333333,
              "#9c179e"
             ],
             [
              0.4444444444444444,
              "#bd3786"
             ],
             [
              0.5555555555555556,
              "#d8576b"
             ],
             [
              0.6666666666666666,
              "#ed7953"
             ],
             [
              0.7777777777777778,
              "#fb9f3a"
             ],
             [
              0.8888888888888888,
              "#fdca26"
             ],
             [
              1,
              "#f0f921"
             ]
            ],
            "type": "surface"
           }
          ],
          "table": [
           {
            "cells": {
             "fill": {
              "color": "#EBF0F8"
             },
             "line": {
              "color": "white"
             }
            },
            "header": {
             "fill": {
              "color": "#C8D4E3"
             },
             "line": {
              "color": "white"
             }
            },
            "type": "table"
           }
          ]
         },
         "layout": {
          "annotationdefaults": {
           "arrowcolor": "#2a3f5f",
           "arrowhead": 0,
           "arrowwidth": 1
          },
          "autotypenumbers": "strict",
          "coloraxis": {
           "colorbar": {
            "outlinewidth": 0,
            "ticks": ""
           }
          },
          "colorscale": {
           "diverging": [
            [
             0,
             "#8e0152"
            ],
            [
             0.1,
             "#c51b7d"
            ],
            [
             0.2,
             "#de77ae"
            ],
            [
             0.3,
             "#f1b6da"
            ],
            [
             0.4,
             "#fde0ef"
            ],
            [
             0.5,
             "#f7f7f7"
            ],
            [
             0.6,
             "#e6f5d0"
            ],
            [
             0.7,
             "#b8e186"
            ],
            [
             0.8,
             "#7fbc41"
            ],
            [
             0.9,
             "#4d9221"
            ],
            [
             1,
             "#276419"
            ]
           ],
           "sequential": [
            [
             0,
             "#0d0887"
            ],
            [
             0.1111111111111111,
             "#46039f"
            ],
            [
             0.2222222222222222,
             "#7201a8"
            ],
            [
             0.3333333333333333,
             "#9c179e"
            ],
            [
             0.4444444444444444,
             "#bd3786"
            ],
            [
             0.5555555555555556,
             "#d8576b"
            ],
            [
             0.6666666666666666,
             "#ed7953"
            ],
            [
             0.7777777777777778,
             "#fb9f3a"
            ],
            [
             0.8888888888888888,
             "#fdca26"
            ],
            [
             1,
             "#f0f921"
            ]
           ],
           "sequentialminus": [
            [
             0,
             "#0d0887"
            ],
            [
             0.1111111111111111,
             "#46039f"
            ],
            [
             0.2222222222222222,
             "#7201a8"
            ],
            [
             0.3333333333333333,
             "#9c179e"
            ],
            [
             0.4444444444444444,
             "#bd3786"
            ],
            [
             0.5555555555555556,
             "#d8576b"
            ],
            [
             0.6666666666666666,
             "#ed7953"
            ],
            [
             0.7777777777777778,
             "#fb9f3a"
            ],
            [
             0.8888888888888888,
             "#fdca26"
            ],
            [
             1,
             "#f0f921"
            ]
           ]
          },
          "colorway": [
           "#636efa",
           "#EF553B",
           "#00cc96",
           "#ab63fa",
           "#FFA15A",
           "#19d3f3",
           "#FF6692",
           "#B6E880",
           "#FF97FF",
           "#FECB52"
          ],
          "font": {
           "color": "#2a3f5f"
          },
          "geo": {
           "bgcolor": "white",
           "lakecolor": "white",
           "landcolor": "#E5ECF6",
           "showlakes": true,
           "showland": true,
           "subunitcolor": "white"
          },
          "hoverlabel": {
           "align": "left"
          },
          "hovermode": "closest",
          "mapbox": {
           "style": "light"
          },
          "paper_bgcolor": "white",
          "plot_bgcolor": "#E5ECF6",
          "polar": {
           "angularaxis": {
            "gridcolor": "white",
            "linecolor": "white",
            "ticks": ""
           },
           "bgcolor": "#E5ECF6",
           "radialaxis": {
            "gridcolor": "white",
            "linecolor": "white",
            "ticks": ""
           }
          },
          "scene": {
           "xaxis": {
            "backgroundcolor": "#E5ECF6",
            "gridcolor": "white",
            "gridwidth": 2,
            "linecolor": "white",
            "showbackground": true,
            "ticks": "",
            "zerolinecolor": "white"
           },
           "yaxis": {
            "backgroundcolor": "#E5ECF6",
            "gridcolor": "white",
            "gridwidth": 2,
            "linecolor": "white",
            "showbackground": true,
            "ticks": "",
            "zerolinecolor": "white"
           },
           "zaxis": {
            "backgroundcolor": "#E5ECF6",
            "gridcolor": "white",
            "gridwidth": 2,
            "linecolor": "white",
            "showbackground": true,
            "ticks": "",
            "zerolinecolor": "white"
           }
          },
          "shapedefaults": {
           "line": {
            "color": "#2a3f5f"
           }
          },
          "ternary": {
           "aaxis": {
            "gridcolor": "white",
            "linecolor": "white",
            "ticks": ""
           },
           "baxis": {
            "gridcolor": "white",
            "linecolor": "white",
            "ticks": ""
           },
           "bgcolor": "#E5ECF6",
           "caxis": {
            "gridcolor": "white",
            "linecolor": "white",
            "ticks": ""
           }
          },
          "title": {
           "x": 0.05
          },
          "xaxis": {
           "automargin": true,
           "gridcolor": "white",
           "linecolor": "white",
           "ticks": "",
           "title": {
            "standoff": 15
           },
           "zerolinecolor": "white",
           "zerolinewidth": 2
          },
          "yaxis": {
           "automargin": true,
           "gridcolor": "white",
           "linecolor": "white",
           "ticks": "",
           "title": {
            "standoff": 15
           },
           "zerolinecolor": "white",
           "zerolinewidth": 2
          }
         }
        },
        "xaxis": {
         "anchor": "y",
         "domain": [
          0,
          1
         ],
         "title": {
          "text": "rc"
         }
        },
        "yaxis": {
         "anchor": "x",
         "domain": [
          0,
          1
         ],
         "title": {
          "text": "hemo"
         }
        }
       }
      }
     },
     "metadata": {},
     "output_type": "display_data"
    }
   ],
   "source": [
    "scatters('rc','hemo')"
   ]
  },
  {
   "cell_type": "code",
   "execution_count": 207,
   "id": "e3bf51de",
   "metadata": {},
   "outputs": [
    {
     "data": {
      "application/vnd.plotly.v1+json": {
       "config": {
        "plotlyServerURL": "https://plot.ly"
       },
       "data": [
        {
         "hovertemplate": "classification=ckd<br>pcv=%{x}<br>hemo=%{y}<extra></extra>",
         "legendgroup": "ckd",
         "marker": {
          "color": "#636efa",
          "symbol": "circle"
         },
         "mode": "markers",
         "name": "ckd",
         "orientation": "v",
         "showlegend": true,
         "type": "scatter",
         "x": [
          44,
          38,
          31,
          32,
          35,
          39,
          36,
          44,
          33,
          29,
          28,
          32,
          28,
          null,
          16,
          24,
          null,
          null,
          37,
          30,
          24,
          32,
          32,
          null,
          39,
          29,
          35,
          37,
          null,
          38,
          null,
          30,
          34,
          29,
          null,
          36,
          32,
          28,
          null,
          40,
          32,
          null,
          33,
          24,
          28,
          null,
          37,
          45,
          29,
          29,
          28,
          33,
          34,
          40,
          40,
          28,
          30,
          null,
          33,
          null,
          null,
          null,
          33,
          27,
          null,
          48,
          null,
          null,
          37,
          52,
          44,
          28,
          null,
          14,
          29,
          null,
          36,
          34,
          30,
          40,
          31,
          29,
          null,
          null,
          22,
          null,
          null,
          32,
          null,
          null,
          40,
          52,
          33,
          30,
          36,
          null,
          36,
          32,
          18,
          32,
          null,
          33,
          52,
          36,
          null,
          42,
          17,
          34,
          37,
          null,
          34,
          32,
          33,
          null,
          null,
          44,
          null,
          37,
          null,
          null,
          null,
          46,
          null,
          42,
          28,
          null,
          37,
          35,
          23,
          null,
          22,
          36,
          24,
          37,
          33,
          39,
          null,
          29,
          null,
          33,
          null,
          19,
          null,
          null,
          33,
          24,
          null,
          25,
          null,
          32,
          41,
          30,
          32,
          22,
          26,
          36,
          null,
          39,
          31,
          35,
          35,
          42,
          37,
          27,
          40,
          null,
          null,
          42,
          39,
          27,
          33,
          26,
          34,
          41,
          35,
          null,
          23,
          41,
          34,
          39,
          28,
          30,
          35,
          null,
          31,
          34,
          null,
          34,
          38,
          29,
          30,
          26,
          null,
          15,
          null,
          null,
          24,
          null,
          30,
          25,
          37,
          21,
          24,
          null,
          31,
          43,
          41,
          41,
          41,
          null,
          20,
          null,
          31,
          34,
          43,
          null,
          38,
          36,
          34,
          28,
          36,
          null,
          null,
          38,
          null,
          35,
          26,
          36,
          null,
          31,
          null,
          35,
          null,
          null,
          44,
          26,
          25,
          40,
          28,
          39,
          36,
          31,
          28,
          47,
          40,
          19,
          26,
          null,
          37,
          9
         ],
         "xaxis": "x",
         "y": [
          15.4,
          11.3,
          9.6,
          11.2,
          11.6,
          12.2,
          12.4,
          12.4,
          10.8,
          9.5,
          9.4,
          10.8,
          9.7,
          9.8,
          5.6,
          7.6,
          12.6,
          12.1,
          12.7,
          10.3,
          7.7,
          10.9,
          9.8,
          null,
          11.1,
          9.9,
          11.6,
          12.5,
          null,
          12.9,
          null,
          10.1,
          11.3,
          10.1,
          null,
          12,
          10.3,
          9.7,
          12.5,
          13,
          11.1,
          null,
          9.7,
          7.9,
          9.7,
          9.3,
          12.4,
          15,
          10,
          9.7,
          8.6,
          10.3,
          10.9,
          13.6,
          13,
          9.5,
          10.2,
          null,
          10.5,
          6.6,
          null,
          null,
          11,
          7.5,
          9.8,
          15,
          null,
          null,
          10.9,
          15.6,
          15.2,
          9.8,
          10.3,
          4.8,
          9.1,
          8.1,
          10.3,
          11.9,
          10.1,
          13.5,
          10.8,
          8.3,
          null,
          null,
          7.1,
          9.9,
          null,
          11.1,
          null,
          null,
          13,
          16.1,
          10.4,
          9.2,
          11.6,
          null,
          11.2,
          10,
          6.2,
          11.2,
          null,
          11.3,
          13.9,
          10.2,
          null,
          14.1,
          6,
          11.2,
          11.8,
          11.7,
          11.7,
          10,
          10.8,
          null,
          12.1,
          12.4,
          null,
          12.5,
          11.4,
          null,
          12.6,
          15,
          6,
          14,
          9.1,
          null,
          12,
          11.4,
          8.1,
          11.1,
          8.2,
          11.8,
          8.6,
          12,
          10.8,
          13.2,
          9.3,
          10,
          null,
          11.1,
          null,
          6.1,
          null,
          null,
          11.1,
          8,
          null,
          7.9,
          null,
          10.5,
          12.3,
          9.6,
          10.9,
          8.3,
          8.4,
          11.1,
          null,
          12.6,
          10.9,
          10.4,
          10.9,
          14.3,
          9.8,
          9,
          14.3,
          null,
          null,
          12.7,
          11,
          8.7,
          12.5,
          8.7,
          10.6,
          13.1,
          11,
          null,
          8.3,
          13.2,
          9.8,
          11.9,
          10.3,
          10,
          11.3,
          null,
          11.3,
          12,
          null,
          10.7,
          12.2,
          9.5,
          9.9,
          9.1,
          null,
          5.5,
          null,
          5.8,
          8.1,
          6.8,
          11.2,
          8.8,
          12,
          7.9,
          8,
          8.5,
          8.8,
          12.6,
          13.8,
          12,
          12.3,
          11.5,
          7.3,
          null,
          10.9,
          10.9,
          13.7,
          null,
          12.8,
          12.2,
          11.8,
          9.8,
          11.9,
          null,
          null,
          13,
          null,
          11.5,
          7.9,
          11.3,
          null,
          9.6,
          null,
          11.5,
          null,
          null,
          15,
          7.9,
          9.1,
          12.7,
          9.4,
          11.9,
          11.4,
          10.4,
          9.4,
          13.4,
          12.2,
          6.3,
          8.6,
          null,
          12.6,
          3.1
         ],
         "yaxis": "y"
        },
        {
         "hovertemplate": "classification=notckd<br>pcv=%{x}<br>hemo=%{y}<extra></extra>",
         "legendgroup": "notckd",
         "marker": {
          "color": "#EF553B",
          "symbol": "circle"
         },
         "mode": "markers",
         "name": "notckd",
         "orientation": "v",
         "showlegend": true,
         "type": "scatter",
         "x": [
          48,
          52,
          46,
          42,
          49,
          52,
          41,
          46,
          44,
          45,
          45,
          41,
          43,
          45,
          50,
          48,
          41,
          48,
          53,
          48,
          41,
          42,
          42,
          null,
          44,
          43,
          41,
          50,
          44,
          48,
          52,
          41,
          44,
          43,
          52,
          41,
          44,
          43,
          50,
          43,
          52,
          41,
          52,
          48,
          40,
          50,
          41,
          45,
          48,
          52,
          43,
          41,
          48,
          50,
          45,
          41,
          52,
          44,
          48,
          40,
          44,
          45,
          48,
          52,
          41,
          48,
          48,
          40,
          52,
          null,
          44,
          48,
          43,
          45,
          null,
          50,
          41,
          44,
          45,
          48,
          42,
          46,
          44,
          46,
          43,
          48,
          40,
          52,
          44,
          48,
          43,
          41,
          50,
          50,
          42,
          42,
          52,
          43,
          44,
          52,
          43,
          40,
          48,
          51,
          41,
          52,
          47,
          42,
          45,
          53,
          43,
          54,
          40,
          44,
          45,
          null,
          46,
          50,
          45,
          46,
          50,
          51,
          52,
          47,
          40,
          48,
          53,
          49,
          42,
          50,
          54,
          40,
          51,
          49,
          42,
          52,
          43,
          50,
          46,
          52,
          52,
          44,
          46,
          54,
          45,
          47,
          54,
          49,
          51,
          53
         ],
         "xaxis": "x",
         "y": [
          15,
          17,
          15.9,
          15.4,
          13,
          13.6,
          14.5,
          14,
          13.9,
          16.1,
          14.1,
          17,
          15.5,
          16.2,
          14.4,
          14.2,
          13.2,
          13.9,
          16.3,
          15,
          14.3,
          13.8,
          14.8,
          null,
          14.4,
          16.5,
          14,
          15.7,
          14.5,
          16.3,
          13.3,
          15.5,
          14.6,
          16.4,
          16.9,
          16,
          14.7,
          13.4,
          15.9,
          16.6,
          14.8,
          14.9,
          16.7,
          14.9,
          14.3,
          15,
          16.8,
          15.8,
          13.5,
          15.1,
          15,
          16.9,
          14.8,
          17,
          13.1,
          17.1,
          15.2,
          13.6,
          13.9,
          17.2,
          13.2,
          13.7,
          15.3,
          17.3,
          15.6,
          13.8,
          15.4,
          15,
          17.4,
          null,
          15.7,
          13.9,
          16,
          15.9,
          null,
          14,
          15.8,
          13.4,
          null,
          14.1,
          null,
          13.5,
          15.3,
          17.7,
          15.4,
          14.2,
          15.2,
          14,
          17.8,
          13.3,
          14.3,
          13.4,
          15,
          16.2,
          14.4,
          13.5,
          15.5,
          17.8,
          13.6,
          14.5,
          16.1,
          17.5,
          15,
          13.6,
          14.6,
          15,
          17.1,
          13.6,
          13,
          17.2,
          14.7,
          13.7,
          15,
          17.8,
          14.8,
          null,
          15,
          17.4,
          14.9,
          13.6,
          16.2,
          17.6,
          15,
          13.7,
          16.3,
          15.1,
          16.4,
          13.8,
          15.2,
          16.1,
          15.3,
          16.6,
          16.8,
          13.9,
          15.4,
          16.5,
          16.4,
          16.7,
          15.5,
          17,
          15,
          15.6,
          14.8,
          13,
          14.1,
          15.7,
          16.5,
          15.8,
          14.2,
          15.8
         ],
         "yaxis": "y"
        }
       ],
       "layout": {
        "legend": {
         "title": {
          "text": "classification"
         },
         "tracegroupgap": 0
        },
        "margin": {
         "t": 60
        },
        "template": {
         "data": {
          "bar": [
           {
            "error_x": {
             "color": "#2a3f5f"
            },
            "error_y": {
             "color": "#2a3f5f"
            },
            "marker": {
             "line": {
              "color": "#E5ECF6",
              "width": 0.5
             },
             "pattern": {
              "fillmode": "overlay",
              "size": 10,
              "solidity": 0.2
             }
            },
            "type": "bar"
           }
          ],
          "barpolar": [
           {
            "marker": {
             "line": {
              "color": "#E5ECF6",
              "width": 0.5
             },
             "pattern": {
              "fillmode": "overlay",
              "size": 10,
              "solidity": 0.2
             }
            },
            "type": "barpolar"
           }
          ],
          "carpet": [
           {
            "aaxis": {
             "endlinecolor": "#2a3f5f",
             "gridcolor": "white",
             "linecolor": "white",
             "minorgridcolor": "white",
             "startlinecolor": "#2a3f5f"
            },
            "baxis": {
             "endlinecolor": "#2a3f5f",
             "gridcolor": "white",
             "linecolor": "white",
             "minorgridcolor": "white",
             "startlinecolor": "#2a3f5f"
            },
            "type": "carpet"
           }
          ],
          "choropleth": [
           {
            "colorbar": {
             "outlinewidth": 0,
             "ticks": ""
            },
            "type": "choropleth"
           }
          ],
          "contour": [
           {
            "colorbar": {
             "outlinewidth": 0,
             "ticks": ""
            },
            "colorscale": [
             [
              0,
              "#0d0887"
             ],
             [
              0.1111111111111111,
              "#46039f"
             ],
             [
              0.2222222222222222,
              "#7201a8"
             ],
             [
              0.3333333333333333,
              "#9c179e"
             ],
             [
              0.4444444444444444,
              "#bd3786"
             ],
             [
              0.5555555555555556,
              "#d8576b"
             ],
             [
              0.6666666666666666,
              "#ed7953"
             ],
             [
              0.7777777777777778,
              "#fb9f3a"
             ],
             [
              0.8888888888888888,
              "#fdca26"
             ],
             [
              1,
              "#f0f921"
             ]
            ],
            "type": "contour"
           }
          ],
          "contourcarpet": [
           {
            "colorbar": {
             "outlinewidth": 0,
             "ticks": ""
            },
            "type": "contourcarpet"
           }
          ],
          "heatmap": [
           {
            "colorbar": {
             "outlinewidth": 0,
             "ticks": ""
            },
            "colorscale": [
             [
              0,
              "#0d0887"
             ],
             [
              0.1111111111111111,
              "#46039f"
             ],
             [
              0.2222222222222222,
              "#7201a8"
             ],
             [
              0.3333333333333333,
              "#9c179e"
             ],
             [
              0.4444444444444444,
              "#bd3786"
             ],
             [
              0.5555555555555556,
              "#d8576b"
             ],
             [
              0.6666666666666666,
              "#ed7953"
             ],
             [
              0.7777777777777778,
              "#fb9f3a"
             ],
             [
              0.8888888888888888,
              "#fdca26"
             ],
             [
              1,
              "#f0f921"
             ]
            ],
            "type": "heatmap"
           }
          ],
          "heatmapgl": [
           {
            "colorbar": {
             "outlinewidth": 0,
             "ticks": ""
            },
            "colorscale": [
             [
              0,
              "#0d0887"
             ],
             [
              0.1111111111111111,
              "#46039f"
             ],
             [
              0.2222222222222222,
              "#7201a8"
             ],
             [
              0.3333333333333333,
              "#9c179e"
             ],
             [
              0.4444444444444444,
              "#bd3786"
             ],
             [
              0.5555555555555556,
              "#d8576b"
             ],
             [
              0.6666666666666666,
              "#ed7953"
             ],
             [
              0.7777777777777778,
              "#fb9f3a"
             ],
             [
              0.8888888888888888,
              "#fdca26"
             ],
             [
              1,
              "#f0f921"
             ]
            ],
            "type": "heatmapgl"
           }
          ],
          "histogram": [
           {
            "marker": {
             "pattern": {
              "fillmode": "overlay",
              "size": 10,
              "solidity": 0.2
             }
            },
            "type": "histogram"
           }
          ],
          "histogram2d": [
           {
            "colorbar": {
             "outlinewidth": 0,
             "ticks": ""
            },
            "colorscale": [
             [
              0,
              "#0d0887"
             ],
             [
              0.1111111111111111,
              "#46039f"
             ],
             [
              0.2222222222222222,
              "#7201a8"
             ],
             [
              0.3333333333333333,
              "#9c179e"
             ],
             [
              0.4444444444444444,
              "#bd3786"
             ],
             [
              0.5555555555555556,
              "#d8576b"
             ],
             [
              0.6666666666666666,
              "#ed7953"
             ],
             [
              0.7777777777777778,
              "#fb9f3a"
             ],
             [
              0.8888888888888888,
              "#fdca26"
             ],
             [
              1,
              "#f0f921"
             ]
            ],
            "type": "histogram2d"
           }
          ],
          "histogram2dcontour": [
           {
            "colorbar": {
             "outlinewidth": 0,
             "ticks": ""
            },
            "colorscale": [
             [
              0,
              "#0d0887"
             ],
             [
              0.1111111111111111,
              "#46039f"
             ],
             [
              0.2222222222222222,
              "#7201a8"
             ],
             [
              0.3333333333333333,
              "#9c179e"
             ],
             [
              0.4444444444444444,
              "#bd3786"
             ],
             [
              0.5555555555555556,
              "#d8576b"
             ],
             [
              0.6666666666666666,
              "#ed7953"
             ],
             [
              0.7777777777777778,
              "#fb9f3a"
             ],
             [
              0.8888888888888888,
              "#fdca26"
             ],
             [
              1,
              "#f0f921"
             ]
            ],
            "type": "histogram2dcontour"
           }
          ],
          "mesh3d": [
           {
            "colorbar": {
             "outlinewidth": 0,
             "ticks": ""
            },
            "type": "mesh3d"
           }
          ],
          "parcoords": [
           {
            "line": {
             "colorbar": {
              "outlinewidth": 0,
              "ticks": ""
             }
            },
            "type": "parcoords"
           }
          ],
          "pie": [
           {
            "automargin": true,
            "type": "pie"
           }
          ],
          "scatter": [
           {
            "fillpattern": {
             "fillmode": "overlay",
             "size": 10,
             "solidity": 0.2
            },
            "type": "scatter"
           }
          ],
          "scatter3d": [
           {
            "line": {
             "colorbar": {
              "outlinewidth": 0,
              "ticks": ""
             }
            },
            "marker": {
             "colorbar": {
              "outlinewidth": 0,
              "ticks": ""
             }
            },
            "type": "scatter3d"
           }
          ],
          "scattercarpet": [
           {
            "marker": {
             "colorbar": {
              "outlinewidth": 0,
              "ticks": ""
             }
            },
            "type": "scattercarpet"
           }
          ],
          "scattergeo": [
           {
            "marker": {
             "colorbar": {
              "outlinewidth": 0,
              "ticks": ""
             }
            },
            "type": "scattergeo"
           }
          ],
          "scattergl": [
           {
            "marker": {
             "colorbar": {
              "outlinewidth": 0,
              "ticks": ""
             }
            },
            "type": "scattergl"
           }
          ],
          "scattermapbox": [
           {
            "marker": {
             "colorbar": {
              "outlinewidth": 0,
              "ticks": ""
             }
            },
            "type": "scattermapbox"
           }
          ],
          "scatterpolar": [
           {
            "marker": {
             "colorbar": {
              "outlinewidth": 0,
              "ticks": ""
             }
            },
            "type": "scatterpolar"
           }
          ],
          "scatterpolargl": [
           {
            "marker": {
             "colorbar": {
              "outlinewidth": 0,
              "ticks": ""
             }
            },
            "type": "scatterpolargl"
           }
          ],
          "scatterternary": [
           {
            "marker": {
             "colorbar": {
              "outlinewidth": 0,
              "ticks": ""
             }
            },
            "type": "scatterternary"
           }
          ],
          "surface": [
           {
            "colorbar": {
             "outlinewidth": 0,
             "ticks": ""
            },
            "colorscale": [
             [
              0,
              "#0d0887"
             ],
             [
              0.1111111111111111,
              "#46039f"
             ],
             [
              0.2222222222222222,
              "#7201a8"
             ],
             [
              0.3333333333333333,
              "#9c179e"
             ],
             [
              0.4444444444444444,
              "#bd3786"
             ],
             [
              0.5555555555555556,
              "#d8576b"
             ],
             [
              0.6666666666666666,
              "#ed7953"
             ],
             [
              0.7777777777777778,
              "#fb9f3a"
             ],
             [
              0.8888888888888888,
              "#fdca26"
             ],
             [
              1,
              "#f0f921"
             ]
            ],
            "type": "surface"
           }
          ],
          "table": [
           {
            "cells": {
             "fill": {
              "color": "#EBF0F8"
             },
             "line": {
              "color": "white"
             }
            },
            "header": {
             "fill": {
              "color": "#C8D4E3"
             },
             "line": {
              "color": "white"
             }
            },
            "type": "table"
           }
          ]
         },
         "layout": {
          "annotationdefaults": {
           "arrowcolor": "#2a3f5f",
           "arrowhead": 0,
           "arrowwidth": 1
          },
          "autotypenumbers": "strict",
          "coloraxis": {
           "colorbar": {
            "outlinewidth": 0,
            "ticks": ""
           }
          },
          "colorscale": {
           "diverging": [
            [
             0,
             "#8e0152"
            ],
            [
             0.1,
             "#c51b7d"
            ],
            [
             0.2,
             "#de77ae"
            ],
            [
             0.3,
             "#f1b6da"
            ],
            [
             0.4,
             "#fde0ef"
            ],
            [
             0.5,
             "#f7f7f7"
            ],
            [
             0.6,
             "#e6f5d0"
            ],
            [
             0.7,
             "#b8e186"
            ],
            [
             0.8,
             "#7fbc41"
            ],
            [
             0.9,
             "#4d9221"
            ],
            [
             1,
             "#276419"
            ]
           ],
           "sequential": [
            [
             0,
             "#0d0887"
            ],
            [
             0.1111111111111111,
             "#46039f"
            ],
            [
             0.2222222222222222,
             "#7201a8"
            ],
            [
             0.3333333333333333,
             "#9c179e"
            ],
            [
             0.4444444444444444,
             "#bd3786"
            ],
            [
             0.5555555555555556,
             "#d8576b"
            ],
            [
             0.6666666666666666,
             "#ed7953"
            ],
            [
             0.7777777777777778,
             "#fb9f3a"
            ],
            [
             0.8888888888888888,
             "#fdca26"
            ],
            [
             1,
             "#f0f921"
            ]
           ],
           "sequentialminus": [
            [
             0,
             "#0d0887"
            ],
            [
             0.1111111111111111,
             "#46039f"
            ],
            [
             0.2222222222222222,
             "#7201a8"
            ],
            [
             0.3333333333333333,
             "#9c179e"
            ],
            [
             0.4444444444444444,
             "#bd3786"
            ],
            [
             0.5555555555555556,
             "#d8576b"
            ],
            [
             0.6666666666666666,
             "#ed7953"
            ],
            [
             0.7777777777777778,
             "#fb9f3a"
            ],
            [
             0.8888888888888888,
             "#fdca26"
            ],
            [
             1,
             "#f0f921"
            ]
           ]
          },
          "colorway": [
           "#636efa",
           "#EF553B",
           "#00cc96",
           "#ab63fa",
           "#FFA15A",
           "#19d3f3",
           "#FF6692",
           "#B6E880",
           "#FF97FF",
           "#FECB52"
          ],
          "font": {
           "color": "#2a3f5f"
          },
          "geo": {
           "bgcolor": "white",
           "lakecolor": "white",
           "landcolor": "#E5ECF6",
           "showlakes": true,
           "showland": true,
           "subunitcolor": "white"
          },
          "hoverlabel": {
           "align": "left"
          },
          "hovermode": "closest",
          "mapbox": {
           "style": "light"
          },
          "paper_bgcolor": "white",
          "plot_bgcolor": "#E5ECF6",
          "polar": {
           "angularaxis": {
            "gridcolor": "white",
            "linecolor": "white",
            "ticks": ""
           },
           "bgcolor": "#E5ECF6",
           "radialaxis": {
            "gridcolor": "white",
            "linecolor": "white",
            "ticks": ""
           }
          },
          "scene": {
           "xaxis": {
            "backgroundcolor": "#E5ECF6",
            "gridcolor": "white",
            "gridwidth": 2,
            "linecolor": "white",
            "showbackground": true,
            "ticks": "",
            "zerolinecolor": "white"
           },
           "yaxis": {
            "backgroundcolor": "#E5ECF6",
            "gridcolor": "white",
            "gridwidth": 2,
            "linecolor": "white",
            "showbackground": true,
            "ticks": "",
            "zerolinecolor": "white"
           },
           "zaxis": {
            "backgroundcolor": "#E5ECF6",
            "gridcolor": "white",
            "gridwidth": 2,
            "linecolor": "white",
            "showbackground": true,
            "ticks": "",
            "zerolinecolor": "white"
           }
          },
          "shapedefaults": {
           "line": {
            "color": "#2a3f5f"
           }
          },
          "ternary": {
           "aaxis": {
            "gridcolor": "white",
            "linecolor": "white",
            "ticks": ""
           },
           "baxis": {
            "gridcolor": "white",
            "linecolor": "white",
            "ticks": ""
           },
           "bgcolor": "#E5ECF6",
           "caxis": {
            "gridcolor": "white",
            "linecolor": "white",
            "ticks": ""
           }
          },
          "title": {
           "x": 0.05
          },
          "xaxis": {
           "automargin": true,
           "gridcolor": "white",
           "linecolor": "white",
           "ticks": "",
           "title": {
            "standoff": 15
           },
           "zerolinecolor": "white",
           "zerolinewidth": 2
          },
          "yaxis": {
           "automargin": true,
           "gridcolor": "white",
           "linecolor": "white",
           "ticks": "",
           "title": {
            "standoff": 15
           },
           "zerolinecolor": "white",
           "zerolinewidth": 2
          }
         }
        },
        "xaxis": {
         "anchor": "y",
         "domain": [
          0,
          1
         ],
         "title": {
          "text": "pcv"
         }
        },
        "yaxis": {
         "anchor": "x",
         "domain": [
          0,
          1
         ],
         "title": {
          "text": "hemo"
         }
        }
       }
      }
     },
     "metadata": {},
     "output_type": "display_data"
    }
   ],
   "source": [
    "scatters('pcv','hemo')"
   ]
  },
  {
   "cell_type": "code",
   "execution_count": 208,
   "id": "1b6ee021",
   "metadata": {},
   "outputs": [
    {
     "data": {
      "application/vnd.plotly.v1+json": {
       "config": {
        "plotlyServerURL": "https://plot.ly"
       },
       "data": [
        {
         "alignmentgroup": "True",
         "box": {
          "visible": true
         },
         "hovertemplate": "classification=%{x}<br>rc=%{y}<extra></extra>",
         "legendgroup": "ckd",
         "marker": {
          "color": "#636efa"
         },
         "name": "ckd",
         "offsetgroup": "ckd",
         "orientation": "v",
         "scalegroup": "True",
         "showlegend": true,
         "type": "violin",
         "x": [
          "ckd",
          "ckd",
          "ckd",
          "ckd",
          "ckd",
          "ckd",
          "ckd",
          "ckd",
          "ckd",
          "ckd",
          "ckd",
          "ckd",
          "ckd",
          "ckd",
          "ckd",
          "ckd",
          "ckd",
          "ckd",
          "ckd",
          "ckd",
          "ckd",
          "ckd",
          "ckd",
          "ckd",
          "ckd",
          "ckd",
          "ckd",
          "ckd",
          "ckd",
          "ckd",
          "ckd",
          "ckd",
          "ckd",
          "ckd",
          "ckd",
          "ckd",
          "ckd",
          "ckd",
          "ckd",
          "ckd",
          "ckd",
          "ckd",
          "ckd",
          "ckd",
          "ckd",
          "ckd",
          "ckd",
          "ckd",
          "ckd",
          "ckd",
          "ckd",
          "ckd",
          "ckd",
          "ckd",
          "ckd",
          "ckd",
          "ckd",
          "ckd",
          "ckd",
          "ckd",
          "ckd",
          "ckd",
          "ckd",
          "ckd",
          "ckd",
          "ckd",
          "ckd",
          "ckd",
          "ckd",
          "ckd",
          "ckd",
          "ckd",
          "ckd",
          "ckd",
          "ckd",
          "ckd",
          "ckd",
          "ckd",
          "ckd",
          "ckd",
          "ckd",
          "ckd",
          "ckd",
          "ckd",
          "ckd",
          "ckd",
          "ckd",
          "ckd",
          "ckd",
          "ckd",
          "ckd",
          "ckd",
          "ckd",
          "ckd",
          "ckd",
          "ckd",
          "ckd",
          "ckd",
          "ckd",
          "ckd",
          "ckd",
          "ckd",
          "ckd",
          "ckd",
          "ckd",
          "ckd",
          "ckd",
          "ckd",
          "ckd",
          "ckd",
          "ckd",
          "ckd",
          "ckd",
          "ckd",
          "ckd",
          "ckd",
          "ckd",
          "ckd",
          "ckd",
          "ckd",
          "ckd",
          "ckd",
          "ckd",
          "ckd",
          "ckd",
          "ckd",
          "ckd",
          "ckd",
          "ckd",
          "ckd",
          "ckd",
          "ckd",
          "ckd",
          "ckd",
          "ckd",
          "ckd",
          "ckd",
          "ckd",
          "ckd",
          "ckd",
          "ckd",
          "ckd",
          "ckd",
          "ckd",
          "ckd",
          "ckd",
          "ckd",
          "ckd",
          "ckd",
          "ckd",
          "ckd",
          "ckd",
          "ckd",
          "ckd",
          "ckd",
          "ckd",
          "ckd",
          "ckd",
          "ckd",
          "ckd",
          "ckd",
          "ckd",
          "ckd",
          "ckd",
          "ckd",
          "ckd",
          "ckd",
          "ckd",
          "ckd",
          "ckd",
          "ckd",
          "ckd",
          "ckd",
          "ckd",
          "ckd",
          "ckd",
          "ckd",
          "ckd",
          "ckd",
          "ckd",
          "ckd",
          "ckd",
          "ckd",
          "ckd",
          "ckd",
          "ckd",
          "ckd",
          "ckd",
          "ckd",
          "ckd",
          "ckd",
          "ckd",
          "ckd",
          "ckd",
          "ckd",
          "ckd",
          "ckd",
          "ckd",
          "ckd",
          "ckd",
          "ckd",
          "ckd",
          "ckd",
          "ckd",
          "ckd",
          "ckd",
          "ckd",
          "ckd",
          "ckd",
          "ckd",
          "ckd",
          "ckd",
          "ckd",
          "ckd",
          "ckd",
          "ckd",
          "ckd",
          "ckd",
          "ckd",
          "ckd",
          "ckd",
          "ckd",
          "ckd",
          "ckd",
          "ckd",
          "ckd",
          "ckd",
          "ckd",
          "ckd",
          "ckd",
          "ckd",
          "ckd",
          "ckd",
          "ckd",
          "ckd",
          "ckd",
          "ckd",
          "ckd",
          "ckd",
          "ckd",
          "ckd",
          "ckd",
          "ckd",
          "ckd",
          "ckd",
          "ckd",
          "ckd",
          "ckd",
          "ckd",
          "ckd"
         ],
         "x0": " ",
         "xaxis": "x",
         "y": [
          5.2,
          null,
          null,
          3.9,
          4.6,
          4.4,
          null,
          5,
          4,
          3.7,
          null,
          3.8,
          3.4,
          null,
          2.6,
          2.8,
          null,
          null,
          4.3,
          3.7,
          3.2,
          3.6,
          3.4,
          null,
          4.6,
          3.7,
          4,
          4.1,
          null,
          null,
          null,
          4,
          4,
          null,
          null,
          4.9,
          null,
          2.5,
          null,
          4.2,
          4.1,
          null,
          4.5,
          3.1,
          null,
          null,
          4.7,
          null,
          3.5,
          3.5,
          3.8,
          null,
          3.7,
          4.7,
          4.2,
          null,
          3.4,
          null,
          4.3,
          null,
          null,
          null,
          3.8,
          null,
          null,
          null,
          null,
          null,
          null,
          6,
          5.2,
          3.2,
          null,
          null,
          3.4,
          null,
          4,
          3.7,
          null,
          5,
          3.8,
          3.7,
          null,
          null,
          2.1,
          null,
          null,
          5,
          4.7,
          null,
          4.2,
          5.6,
          3.6,
          3.2,
          3.9,
          null,
          null,
          4,
          2.3,
          4.2,
          null,
          3.9,
          null,
          4.2,
          null,
          5.2,
          null,
          4.4,
          4.2,
          null,
          4.7,
          3.9,
          null,
          null,
          null,
          4.3,
          null,
          4.4,
          null,
          null,
          null,
          null,
          null,
          null,
          3.6,
          null,
          4.5,
          4.3,
          2.9,
          null,
          2.7,
          null,
          2.7,
          8,
          3.8,
          null,
          null,
          null,
          null,
          null,
          null,
          null,
          null,
          null,
          4.1,
          3.3,
          null,
          3,
          null,
          null,
          null,
          null,
          null,
          2.9,
          3,
          null,
          null,
          3.9,
          null,
          4.3,
          2.4,
          4.8,
          null,
          3.2,
          5.4,
          null,
          null,
          null,
          null,
          null,
          4.4,
          3.1,
          4.9,
          null,
          4.6,
          3.4,
          3.9,
          null,
          null,
          null,
          null,
          3.7,
          null,
          null,
          3.6,
          null,
          null,
          null,
          null,
          3.4,
          4.8,
          3.4,
          null,
          2.8,
          null,
          null,
          3.5,
          3,
          3.9,
          3.2,
          3.9,
          null,
          null,
          null,
          null,
          null,
          null,
          4.6,
          4.9,
          null,
          3.9,
          null,
          3.4,
          3.7,
          5.2,
          null,
          null,
          4.3,
          null,
          3.3,
          null,
          null,
          null,
          4.6,
          null,
          4.5,
          3.4,
          3.8,
          null,
          3.8,
          null,
          null,
          null,
          null,
          5.2,
          null,
          null,
          null,
          null,
          null,
          4.1,
          3.9,
          3.3,
          6.1,
          4.6,
          2.6,
          2.5,
          null,
          4.1,
          2.1
         ],
         "y0": " ",
         "yaxis": "y"
        },
        {
         "alignmentgroup": "True",
         "box": {
          "visible": true
         },
         "hovertemplate": "classification=%{x}<br>rc=%{y}<extra></extra>",
         "legendgroup": "notckd",
         "marker": {
          "color": "#EF553B"
         },
         "name": "notckd",
         "offsetgroup": "notckd",
         "orientation": "v",
         "scalegroup": "True",
         "showlegend": true,
         "type": "violin",
         "x": [
          "notckd",
          "notckd",
          "notckd",
          "notckd",
          "notckd",
          "notckd",
          "notckd",
          "notckd",
          "notckd",
          "notckd",
          "notckd",
          "notckd",
          "notckd",
          "notckd",
          "notckd",
          "notckd",
          "notckd",
          "notckd",
          "notckd",
          "notckd",
          "notckd",
          "notckd",
          "notckd",
          "notckd",
          "notckd",
          "notckd",
          "notckd",
          "notckd",
          "notckd",
          "notckd",
          "notckd",
          "notckd",
          "notckd",
          "notckd",
          "notckd",
          "notckd",
          "notckd",
          "notckd",
          "notckd",
          "notckd",
          "notckd",
          "notckd",
          "notckd",
          "notckd",
          "notckd",
          "notckd",
          "notckd",
          "notckd",
          "notckd",
          "notckd",
          "notckd",
          "notckd",
          "notckd",
          "notckd",
          "notckd",
          "notckd",
          "notckd",
          "notckd",
          "notckd",
          "notckd",
          "notckd",
          "notckd",
          "notckd",
          "notckd",
          "notckd",
          "notckd",
          "notckd",
          "notckd",
          "notckd",
          "notckd",
          "notckd",
          "notckd",
          "notckd",
          "notckd",
          "notckd",
          "notckd",
          "notckd",
          "notckd",
          "notckd",
          "notckd",
          "notckd",
          "notckd",
          "notckd",
          "notckd",
          "notckd",
          "notckd",
          "notckd",
          "notckd",
          "notckd",
          "notckd",
          "notckd",
          "notckd",
          "notckd",
          "notckd",
          "notckd",
          "notckd",
          "notckd",
          "notckd",
          "notckd",
          "notckd",
          "notckd",
          "notckd",
          "notckd",
          "notckd",
          "notckd",
          "notckd",
          "notckd",
          "notckd",
          "notckd",
          "notckd",
          "notckd",
          "notckd",
          "notckd",
          "notckd",
          "notckd",
          "notckd",
          "notckd",
          "notckd",
          "notckd",
          "notckd",
          "notckd",
          "notckd",
          "notckd",
          "notckd",
          "notckd",
          "notckd",
          "notckd",
          "notckd",
          "notckd",
          "notckd",
          "notckd",
          "notckd",
          "notckd",
          "notckd",
          "notckd",
          "notckd",
          "notckd",
          "notckd",
          "notckd",
          "notckd",
          "notckd",
          "notckd",
          "notckd",
          "notckd",
          "notckd",
          "notckd",
          "notckd",
          "notckd",
          "notckd",
          "notckd"
         ],
         "x0": " ",
         "xaxis": "x",
         "y": [
          4.5,
          5,
          4.7,
          6.2,
          5.2,
          6.3,
          5.1,
          5.8,
          5.5,
          5.2,
          5.3,
          4.9,
          5.4,
          5.2,
          4.5,
          5,
          5.3,
          4.8,
          4.9,
          5.3,
          5,
          4.5,
          5.5,
          null,
          null,
          4.6,
          5.5,
          4.8,
          6.4,
          5.6,
          5.2,
          6,
          4.8,
          5.7,
          6,
          5.9,
          6,
          null,
          5.1,
          5.3,
          5.9,
          5.7,
          5,
          5.4,
          5.8,
          6.5,
          5.9,
          5.2,
          4.9,
          4.7,
          5.8,
          5,
          null,
          6.1,
          4.5,
          5.2,
          5.7,
          4.5,
          4.9,
          5.9,
          5.4,
          5.6,
          6.1,
          4.8,
          4.7,
          4.4,
          5.2,
          4.9,
          5.3,
          null,
          6.2,
          4.8,
          4.9,
          4.5,
          null,
          6.5,
          5.2,
          5.8,
          6.5,
          5.1,
          null,
          4.5,
          6.1,
          5.5,
          4.5,
          5.6,
          5.2,
          6.2,
          4.5,
          4.9,
          5.9,
          4.7,
          6.3,
          5.7,
          4.7,
          6.4,
          5.8,
          5.5,
          6.4,
          6.1,
          4.5,
          4.7,
          5.2,
          4.5,
          5.1,
          4.6,
          6.1,
          4.9,
          5.6,
          4.5,
          6.2,
          5.8,
          4.8,
          5.2,
          4.7,
          6.3,
          5.3,
          6.1,
          5.9,
          4.8,
          5.4,
          5,
          5.5,
          4.9,
          6.4,
          5.6,
          5.2,
          4.8,
          5.5,
          5.7,
          4.9,
          5.9,
          6.5,
          5,
          4.5,
          5.1,
          6.5,
          5.2,
          6.4,
          5.8,
          5.3,
          6.3,
          5.5,
          5.4,
          4.6,
          4.9,
          6.2,
          5.4,
          5.9,
          6.1
         ],
         "y0": " ",
         "yaxis": "y"
        }
       ],
       "layout": {
        "legend": {
         "title": {
          "text": "classification"
         },
         "tracegroupgap": 0
        },
        "margin": {
         "t": 60
        },
        "template": {
         "data": {
          "bar": [
           {
            "error_x": {
             "color": "#2a3f5f"
            },
            "error_y": {
             "color": "#2a3f5f"
            },
            "marker": {
             "line": {
              "color": "#E5ECF6",
              "width": 0.5
             },
             "pattern": {
              "fillmode": "overlay",
              "size": 10,
              "solidity": 0.2
             }
            },
            "type": "bar"
           }
          ],
          "barpolar": [
           {
            "marker": {
             "line": {
              "color": "#E5ECF6",
              "width": 0.5
             },
             "pattern": {
              "fillmode": "overlay",
              "size": 10,
              "solidity": 0.2
             }
            },
            "type": "barpolar"
           }
          ],
          "carpet": [
           {
            "aaxis": {
             "endlinecolor": "#2a3f5f",
             "gridcolor": "white",
             "linecolor": "white",
             "minorgridcolor": "white",
             "startlinecolor": "#2a3f5f"
            },
            "baxis": {
             "endlinecolor": "#2a3f5f",
             "gridcolor": "white",
             "linecolor": "white",
             "minorgridcolor": "white",
             "startlinecolor": "#2a3f5f"
            },
            "type": "carpet"
           }
          ],
          "choropleth": [
           {
            "colorbar": {
             "outlinewidth": 0,
             "ticks": ""
            },
            "type": "choropleth"
           }
          ],
          "contour": [
           {
            "colorbar": {
             "outlinewidth": 0,
             "ticks": ""
            },
            "colorscale": [
             [
              0,
              "#0d0887"
             ],
             [
              0.1111111111111111,
              "#46039f"
             ],
             [
              0.2222222222222222,
              "#7201a8"
             ],
             [
              0.3333333333333333,
              "#9c179e"
             ],
             [
              0.4444444444444444,
              "#bd3786"
             ],
             [
              0.5555555555555556,
              "#d8576b"
             ],
             [
              0.6666666666666666,
              "#ed7953"
             ],
             [
              0.7777777777777778,
              "#fb9f3a"
             ],
             [
              0.8888888888888888,
              "#fdca26"
             ],
             [
              1,
              "#f0f921"
             ]
            ],
            "type": "contour"
           }
          ],
          "contourcarpet": [
           {
            "colorbar": {
             "outlinewidth": 0,
             "ticks": ""
            },
            "type": "contourcarpet"
           }
          ],
          "heatmap": [
           {
            "colorbar": {
             "outlinewidth": 0,
             "ticks": ""
            },
            "colorscale": [
             [
              0,
              "#0d0887"
             ],
             [
              0.1111111111111111,
              "#46039f"
             ],
             [
              0.2222222222222222,
              "#7201a8"
             ],
             [
              0.3333333333333333,
              "#9c179e"
             ],
             [
              0.4444444444444444,
              "#bd3786"
             ],
             [
              0.5555555555555556,
              "#d8576b"
             ],
             [
              0.6666666666666666,
              "#ed7953"
             ],
             [
              0.7777777777777778,
              "#fb9f3a"
             ],
             [
              0.8888888888888888,
              "#fdca26"
             ],
             [
              1,
              "#f0f921"
             ]
            ],
            "type": "heatmap"
           }
          ],
          "heatmapgl": [
           {
            "colorbar": {
             "outlinewidth": 0,
             "ticks": ""
            },
            "colorscale": [
             [
              0,
              "#0d0887"
             ],
             [
              0.1111111111111111,
              "#46039f"
             ],
             [
              0.2222222222222222,
              "#7201a8"
             ],
             [
              0.3333333333333333,
              "#9c179e"
             ],
             [
              0.4444444444444444,
              "#bd3786"
             ],
             [
              0.5555555555555556,
              "#d8576b"
             ],
             [
              0.6666666666666666,
              "#ed7953"
             ],
             [
              0.7777777777777778,
              "#fb9f3a"
             ],
             [
              0.8888888888888888,
              "#fdca26"
             ],
             [
              1,
              "#f0f921"
             ]
            ],
            "type": "heatmapgl"
           }
          ],
          "histogram": [
           {
            "marker": {
             "pattern": {
              "fillmode": "overlay",
              "size": 10,
              "solidity": 0.2
             }
            },
            "type": "histogram"
           }
          ],
          "histogram2d": [
           {
            "colorbar": {
             "outlinewidth": 0,
             "ticks": ""
            },
            "colorscale": [
             [
              0,
              "#0d0887"
             ],
             [
              0.1111111111111111,
              "#46039f"
             ],
             [
              0.2222222222222222,
              "#7201a8"
             ],
             [
              0.3333333333333333,
              "#9c179e"
             ],
             [
              0.4444444444444444,
              "#bd3786"
             ],
             [
              0.5555555555555556,
              "#d8576b"
             ],
             [
              0.6666666666666666,
              "#ed7953"
             ],
             [
              0.7777777777777778,
              "#fb9f3a"
             ],
             [
              0.8888888888888888,
              "#fdca26"
             ],
             [
              1,
              "#f0f921"
             ]
            ],
            "type": "histogram2d"
           }
          ],
          "histogram2dcontour": [
           {
            "colorbar": {
             "outlinewidth": 0,
             "ticks": ""
            },
            "colorscale": [
             [
              0,
              "#0d0887"
             ],
             [
              0.1111111111111111,
              "#46039f"
             ],
             [
              0.2222222222222222,
              "#7201a8"
             ],
             [
              0.3333333333333333,
              "#9c179e"
             ],
             [
              0.4444444444444444,
              "#bd3786"
             ],
             [
              0.5555555555555556,
              "#d8576b"
             ],
             [
              0.6666666666666666,
              "#ed7953"
             ],
             [
              0.7777777777777778,
              "#fb9f3a"
             ],
             [
              0.8888888888888888,
              "#fdca26"
             ],
             [
              1,
              "#f0f921"
             ]
            ],
            "type": "histogram2dcontour"
           }
          ],
          "mesh3d": [
           {
            "colorbar": {
             "outlinewidth": 0,
             "ticks": ""
            },
            "type": "mesh3d"
           }
          ],
          "parcoords": [
           {
            "line": {
             "colorbar": {
              "outlinewidth": 0,
              "ticks": ""
             }
            },
            "type": "parcoords"
           }
          ],
          "pie": [
           {
            "automargin": true,
            "type": "pie"
           }
          ],
          "scatter": [
           {
            "fillpattern": {
             "fillmode": "overlay",
             "size": 10,
             "solidity": 0.2
            },
            "type": "scatter"
           }
          ],
          "scatter3d": [
           {
            "line": {
             "colorbar": {
              "outlinewidth": 0,
              "ticks": ""
             }
            },
            "marker": {
             "colorbar": {
              "outlinewidth": 0,
              "ticks": ""
             }
            },
            "type": "scatter3d"
           }
          ],
          "scattercarpet": [
           {
            "marker": {
             "colorbar": {
              "outlinewidth": 0,
              "ticks": ""
             }
            },
            "type": "scattercarpet"
           }
          ],
          "scattergeo": [
           {
            "marker": {
             "colorbar": {
              "outlinewidth": 0,
              "ticks": ""
             }
            },
            "type": "scattergeo"
           }
          ],
          "scattergl": [
           {
            "marker": {
             "colorbar": {
              "outlinewidth": 0,
              "ticks": ""
             }
            },
            "type": "scattergl"
           }
          ],
          "scattermapbox": [
           {
            "marker": {
             "colorbar": {
              "outlinewidth": 0,
              "ticks": ""
             }
            },
            "type": "scattermapbox"
           }
          ],
          "scatterpolar": [
           {
            "marker": {
             "colorbar": {
              "outlinewidth": 0,
              "ticks": ""
             }
            },
            "type": "scatterpolar"
           }
          ],
          "scatterpolargl": [
           {
            "marker": {
             "colorbar": {
              "outlinewidth": 0,
              "ticks": ""
             }
            },
            "type": "scatterpolargl"
           }
          ],
          "scatterternary": [
           {
            "marker": {
             "colorbar": {
              "outlinewidth": 0,
              "ticks": ""
             }
            },
            "type": "scatterternary"
           }
          ],
          "surface": [
           {
            "colorbar": {
             "outlinewidth": 0,
             "ticks": ""
            },
            "colorscale": [
             [
              0,
              "#0d0887"
             ],
             [
              0.1111111111111111,
              "#46039f"
             ],
             [
              0.2222222222222222,
              "#7201a8"
             ],
             [
              0.3333333333333333,
              "#9c179e"
             ],
             [
              0.4444444444444444,
              "#bd3786"
             ],
             [
              0.5555555555555556,
              "#d8576b"
             ],
             [
              0.6666666666666666,
              "#ed7953"
             ],
             [
              0.7777777777777778,
              "#fb9f3a"
             ],
             [
              0.8888888888888888,
              "#fdca26"
             ],
             [
              1,
              "#f0f921"
             ]
            ],
            "type": "surface"
           }
          ],
          "table": [
           {
            "cells": {
             "fill": {
              "color": "#EBF0F8"
             },
             "line": {
              "color": "white"
             }
            },
            "header": {
             "fill": {
              "color": "#C8D4E3"
             },
             "line": {
              "color": "white"
             }
            },
            "type": "table"
           }
          ]
         },
         "layout": {
          "annotationdefaults": {
           "arrowcolor": "#2a3f5f",
           "arrowhead": 0,
           "arrowwidth": 1
          },
          "autotypenumbers": "strict",
          "coloraxis": {
           "colorbar": {
            "outlinewidth": 0,
            "ticks": ""
           }
          },
          "colorscale": {
           "diverging": [
            [
             0,
             "#8e0152"
            ],
            [
             0.1,
             "#c51b7d"
            ],
            [
             0.2,
             "#de77ae"
            ],
            [
             0.3,
             "#f1b6da"
            ],
            [
             0.4,
             "#fde0ef"
            ],
            [
             0.5,
             "#f7f7f7"
            ],
            [
             0.6,
             "#e6f5d0"
            ],
            [
             0.7,
             "#b8e186"
            ],
            [
             0.8,
             "#7fbc41"
            ],
            [
             0.9,
             "#4d9221"
            ],
            [
             1,
             "#276419"
            ]
           ],
           "sequential": [
            [
             0,
             "#0d0887"
            ],
            [
             0.1111111111111111,
             "#46039f"
            ],
            [
             0.2222222222222222,
             "#7201a8"
            ],
            [
             0.3333333333333333,
             "#9c179e"
            ],
            [
             0.4444444444444444,
             "#bd3786"
            ],
            [
             0.5555555555555556,
             "#d8576b"
            ],
            [
             0.6666666666666666,
             "#ed7953"
            ],
            [
             0.7777777777777778,
             "#fb9f3a"
            ],
            [
             0.8888888888888888,
             "#fdca26"
            ],
            [
             1,
             "#f0f921"
            ]
           ],
           "sequentialminus": [
            [
             0,
             "#0d0887"
            ],
            [
             0.1111111111111111,
             "#46039f"
            ],
            [
             0.2222222222222222,
             "#7201a8"
            ],
            [
             0.3333333333333333,
             "#9c179e"
            ],
            [
             0.4444444444444444,
             "#bd3786"
            ],
            [
             0.5555555555555556,
             "#d8576b"
            ],
            [
             0.6666666666666666,
             "#ed7953"
            ],
            [
             0.7777777777777778,
             "#fb9f3a"
            ],
            [
             0.8888888888888888,
             "#fdca26"
            ],
            [
             1,
             "#f0f921"
            ]
           ]
          },
          "colorway": [
           "#636efa",
           "#EF553B",
           "#00cc96",
           "#ab63fa",
           "#FFA15A",
           "#19d3f3",
           "#FF6692",
           "#B6E880",
           "#FF97FF",
           "#FECB52"
          ],
          "font": {
           "color": "#2a3f5f"
          },
          "geo": {
           "bgcolor": "white",
           "lakecolor": "white",
           "landcolor": "#E5ECF6",
           "showlakes": true,
           "showland": true,
           "subunitcolor": "white"
          },
          "hoverlabel": {
           "align": "left"
          },
          "hovermode": "closest",
          "mapbox": {
           "style": "light"
          },
          "paper_bgcolor": "white",
          "plot_bgcolor": "#E5ECF6",
          "polar": {
           "angularaxis": {
            "gridcolor": "white",
            "linecolor": "white",
            "ticks": ""
           },
           "bgcolor": "#E5ECF6",
           "radialaxis": {
            "gridcolor": "white",
            "linecolor": "white",
            "ticks": ""
           }
          },
          "scene": {
           "xaxis": {
            "backgroundcolor": "#E5ECF6",
            "gridcolor": "white",
            "gridwidth": 2,
            "linecolor": "white",
            "showbackground": true,
            "ticks": "",
            "zerolinecolor": "white"
           },
           "yaxis": {
            "backgroundcolor": "#E5ECF6",
            "gridcolor": "white",
            "gridwidth": 2,
            "linecolor": "white",
            "showbackground": true,
            "ticks": "",
            "zerolinecolor": "white"
           },
           "zaxis": {
            "backgroundcolor": "#E5ECF6",
            "gridcolor": "white",
            "gridwidth": 2,
            "linecolor": "white",
            "showbackground": true,
            "ticks": "",
            "zerolinecolor": "white"
           }
          },
          "shapedefaults": {
           "line": {
            "color": "#2a3f5f"
           }
          },
          "ternary": {
           "aaxis": {
            "gridcolor": "white",
            "linecolor": "white",
            "ticks": ""
           },
           "baxis": {
            "gridcolor": "white",
            "linecolor": "white",
            "ticks": ""
           },
           "bgcolor": "#E5ECF6",
           "caxis": {
            "gridcolor": "white",
            "linecolor": "white",
            "ticks": ""
           }
          },
          "title": {
           "x": 0.05
          },
          "xaxis": {
           "automargin": true,
           "gridcolor": "white",
           "linecolor": "white",
           "ticks": "",
           "title": {
            "standoff": 15
           },
           "zerolinecolor": "white",
           "zerolinewidth": 2
          },
          "yaxis": {
           "automargin": true,
           "gridcolor": "white",
           "linecolor": "white",
           "ticks": "",
           "title": {
            "standoff": 15
           },
           "zerolinecolor": "white",
           "zerolinewidth": 2
          }
         }
        },
        "violinmode": "overlay",
        "xaxis": {
         "anchor": "y",
         "categoryarray": [
          "ckd",
          "notckd"
         ],
         "categoryorder": "array",
         "domain": [
          0,
          1
         ],
         "title": {
          "text": "classification"
         }
        },
        "yaxis": {
         "anchor": "x",
         "domain": [
          0,
          1
         ],
         "title": {
          "text": "rc"
         }
        }
       }
      }
     },
     "metadata": {},
     "output_type": "display_data"
    }
   ],
   "source": [
    "violin('rc')"
   ]
  },
  {
   "cell_type": "code",
   "execution_count": 209,
   "id": "032de78a",
   "metadata": {},
   "outputs": [
    {
     "data": {
      "application/vnd.plotly.v1+json": {
       "config": {
        "plotlyServerURL": "https://plot.ly"
       },
       "data": [
        {
         "alignmentgroup": "True",
         "box": {
          "visible": true
         },
         "hovertemplate": "classification=%{x}<br>pcv=%{y}<extra></extra>",
         "legendgroup": "ckd",
         "marker": {
          "color": "#636efa"
         },
         "name": "ckd",
         "offsetgroup": "ckd",
         "orientation": "v",
         "scalegroup": "True",
         "showlegend": true,
         "type": "violin",
         "x": [
          "ckd",
          "ckd",
          "ckd",
          "ckd",
          "ckd",
          "ckd",
          "ckd",
          "ckd",
          "ckd",
          "ckd",
          "ckd",
          "ckd",
          "ckd",
          "ckd",
          "ckd",
          "ckd",
          "ckd",
          "ckd",
          "ckd",
          "ckd",
          "ckd",
          "ckd",
          "ckd",
          "ckd",
          "ckd",
          "ckd",
          "ckd",
          "ckd",
          "ckd",
          "ckd",
          "ckd",
          "ckd",
          "ckd",
          "ckd",
          "ckd",
          "ckd",
          "ckd",
          "ckd",
          "ckd",
          "ckd",
          "ckd",
          "ckd",
          "ckd",
          "ckd",
          "ckd",
          "ckd",
          "ckd",
          "ckd",
          "ckd",
          "ckd",
          "ckd",
          "ckd",
          "ckd",
          "ckd",
          "ckd",
          "ckd",
          "ckd",
          "ckd",
          "ckd",
          "ckd",
          "ckd",
          "ckd",
          "ckd",
          "ckd",
          "ckd",
          "ckd",
          "ckd",
          "ckd",
          "ckd",
          "ckd",
          "ckd",
          "ckd",
          "ckd",
          "ckd",
          "ckd",
          "ckd",
          "ckd",
          "ckd",
          "ckd",
          "ckd",
          "ckd",
          "ckd",
          "ckd",
          "ckd",
          "ckd",
          "ckd",
          "ckd",
          "ckd",
          "ckd",
          "ckd",
          "ckd",
          "ckd",
          "ckd",
          "ckd",
          "ckd",
          "ckd",
          "ckd",
          "ckd",
          "ckd",
          "ckd",
          "ckd",
          "ckd",
          "ckd",
          "ckd",
          "ckd",
          "ckd",
          "ckd",
          "ckd",
          "ckd",
          "ckd",
          "ckd",
          "ckd",
          "ckd",
          "ckd",
          "ckd",
          "ckd",
          "ckd",
          "ckd",
          "ckd",
          "ckd",
          "ckd",
          "ckd",
          "ckd",
          "ckd",
          "ckd",
          "ckd",
          "ckd",
          "ckd",
          "ckd",
          "ckd",
          "ckd",
          "ckd",
          "ckd",
          "ckd",
          "ckd",
          "ckd",
          "ckd",
          "ckd",
          "ckd",
          "ckd",
          "ckd",
          "ckd",
          "ckd",
          "ckd",
          "ckd",
          "ckd",
          "ckd",
          "ckd",
          "ckd",
          "ckd",
          "ckd",
          "ckd",
          "ckd",
          "ckd",
          "ckd",
          "ckd",
          "ckd",
          "ckd",
          "ckd",
          "ckd",
          "ckd",
          "ckd",
          "ckd",
          "ckd",
          "ckd",
          "ckd",
          "ckd",
          "ckd",
          "ckd",
          "ckd",
          "ckd",
          "ckd",
          "ckd",
          "ckd",
          "ckd",
          "ckd",
          "ckd",
          "ckd",
          "ckd",
          "ckd",
          "ckd",
          "ckd",
          "ckd",
          "ckd",
          "ckd",
          "ckd",
          "ckd",
          "ckd",
          "ckd",
          "ckd",
          "ckd",
          "ckd",
          "ckd",
          "ckd",
          "ckd",
          "ckd",
          "ckd",
          "ckd",
          "ckd",
          "ckd",
          "ckd",
          "ckd",
          "ckd",
          "ckd",
          "ckd",
          "ckd",
          "ckd",
          "ckd",
          "ckd",
          "ckd",
          "ckd",
          "ckd",
          "ckd",
          "ckd",
          "ckd",
          "ckd",
          "ckd",
          "ckd",
          "ckd",
          "ckd",
          "ckd",
          "ckd",
          "ckd",
          "ckd",
          "ckd",
          "ckd",
          "ckd",
          "ckd",
          "ckd",
          "ckd",
          "ckd",
          "ckd",
          "ckd",
          "ckd",
          "ckd",
          "ckd",
          "ckd",
          "ckd",
          "ckd",
          "ckd",
          "ckd",
          "ckd",
          "ckd",
          "ckd",
          "ckd",
          "ckd",
          "ckd",
          "ckd",
          "ckd",
          "ckd"
         ],
         "x0": " ",
         "xaxis": "x",
         "y": [
          44,
          38,
          31,
          32,
          35,
          39,
          36,
          44,
          33,
          29,
          28,
          32,
          28,
          null,
          16,
          24,
          null,
          null,
          37,
          30,
          24,
          32,
          32,
          null,
          39,
          29,
          35,
          37,
          null,
          38,
          null,
          30,
          34,
          29,
          null,
          36,
          32,
          28,
          null,
          40,
          32,
          null,
          33,
          24,
          28,
          null,
          37,
          45,
          29,
          29,
          28,
          33,
          34,
          40,
          40,
          28,
          30,
          null,
          33,
          null,
          null,
          null,
          33,
          27,
          null,
          48,
          null,
          null,
          37,
          52,
          44,
          28,
          null,
          14,
          29,
          null,
          36,
          34,
          30,
          40,
          31,
          29,
          null,
          null,
          22,
          null,
          null,
          32,
          null,
          null,
          40,
          52,
          33,
          30,
          36,
          null,
          36,
          32,
          18,
          32,
          null,
          33,
          52,
          36,
          null,
          42,
          17,
          34,
          37,
          null,
          34,
          32,
          33,
          null,
          null,
          44,
          null,
          37,
          null,
          null,
          null,
          46,
          null,
          42,
          28,
          null,
          37,
          35,
          23,
          null,
          22,
          36,
          24,
          37,
          33,
          39,
          null,
          29,
          null,
          33,
          null,
          19,
          null,
          null,
          33,
          24,
          null,
          25,
          null,
          32,
          41,
          30,
          32,
          22,
          26,
          36,
          null,
          39,
          31,
          35,
          35,
          42,
          37,
          27,
          40,
          null,
          null,
          42,
          39,
          27,
          33,
          26,
          34,
          41,
          35,
          null,
          23,
          41,
          34,
          39,
          28,
          30,
          35,
          null,
          31,
          34,
          null,
          34,
          38,
          29,
          30,
          26,
          null,
          15,
          null,
          null,
          24,
          null,
          30,
          25,
          37,
          21,
          24,
          null,
          31,
          43,
          41,
          41,
          41,
          null,
          20,
          null,
          31,
          34,
          43,
          null,
          38,
          36,
          34,
          28,
          36,
          null,
          null,
          38,
          null,
          35,
          26,
          36,
          null,
          31,
          null,
          35,
          null,
          null,
          44,
          26,
          25,
          40,
          28,
          39,
          36,
          31,
          28,
          47,
          40,
          19,
          26,
          null,
          37,
          9
         ],
         "y0": " ",
         "yaxis": "y"
        },
        {
         "alignmentgroup": "True",
         "box": {
          "visible": true
         },
         "hovertemplate": "classification=%{x}<br>pcv=%{y}<extra></extra>",
         "legendgroup": "notckd",
         "marker": {
          "color": "#EF553B"
         },
         "name": "notckd",
         "offsetgroup": "notckd",
         "orientation": "v",
         "scalegroup": "True",
         "showlegend": true,
         "type": "violin",
         "x": [
          "notckd",
          "notckd",
          "notckd",
          "notckd",
          "notckd",
          "notckd",
          "notckd",
          "notckd",
          "notckd",
          "notckd",
          "notckd",
          "notckd",
          "notckd",
          "notckd",
          "notckd",
          "notckd",
          "notckd",
          "notckd",
          "notckd",
          "notckd",
          "notckd",
          "notckd",
          "notckd",
          "notckd",
          "notckd",
          "notckd",
          "notckd",
          "notckd",
          "notckd",
          "notckd",
          "notckd",
          "notckd",
          "notckd",
          "notckd",
          "notckd",
          "notckd",
          "notckd",
          "notckd",
          "notckd",
          "notckd",
          "notckd",
          "notckd",
          "notckd",
          "notckd",
          "notckd",
          "notckd",
          "notckd",
          "notckd",
          "notckd",
          "notckd",
          "notckd",
          "notckd",
          "notckd",
          "notckd",
          "notckd",
          "notckd",
          "notckd",
          "notckd",
          "notckd",
          "notckd",
          "notckd",
          "notckd",
          "notckd",
          "notckd",
          "notckd",
          "notckd",
          "notckd",
          "notckd",
          "notckd",
          "notckd",
          "notckd",
          "notckd",
          "notckd",
          "notckd",
          "notckd",
          "notckd",
          "notckd",
          "notckd",
          "notckd",
          "notckd",
          "notckd",
          "notckd",
          "notckd",
          "notckd",
          "notckd",
          "notckd",
          "notckd",
          "notckd",
          "notckd",
          "notckd",
          "notckd",
          "notckd",
          "notckd",
          "notckd",
          "notckd",
          "notckd",
          "notckd",
          "notckd",
          "notckd",
          "notckd",
          "notckd",
          "notckd",
          "notckd",
          "notckd",
          "notckd",
          "notckd",
          "notckd",
          "notckd",
          "notckd",
          "notckd",
          "notckd",
          "notckd",
          "notckd",
          "notckd",
          "notckd",
          "notckd",
          "notckd",
          "notckd",
          "notckd",
          "notckd",
          "notckd",
          "notckd",
          "notckd",
          "notckd",
          "notckd",
          "notckd",
          "notckd",
          "notckd",
          "notckd",
          "notckd",
          "notckd",
          "notckd",
          "notckd",
          "notckd",
          "notckd",
          "notckd",
          "notckd",
          "notckd",
          "notckd",
          "notckd",
          "notckd",
          "notckd",
          "notckd",
          "notckd",
          "notckd",
          "notckd",
          "notckd",
          "notckd",
          "notckd",
          "notckd"
         ],
         "x0": " ",
         "xaxis": "x",
         "y": [
          48,
          52,
          46,
          42,
          49,
          52,
          41,
          46,
          44,
          45,
          45,
          41,
          43,
          45,
          50,
          48,
          41,
          48,
          53,
          48,
          41,
          42,
          42,
          null,
          44,
          43,
          41,
          50,
          44,
          48,
          52,
          41,
          44,
          43,
          52,
          41,
          44,
          43,
          50,
          43,
          52,
          41,
          52,
          48,
          40,
          50,
          41,
          45,
          48,
          52,
          43,
          41,
          48,
          50,
          45,
          41,
          52,
          44,
          48,
          40,
          44,
          45,
          48,
          52,
          41,
          48,
          48,
          40,
          52,
          null,
          44,
          48,
          43,
          45,
          null,
          50,
          41,
          44,
          45,
          48,
          42,
          46,
          44,
          46,
          43,
          48,
          40,
          52,
          44,
          48,
          43,
          41,
          50,
          50,
          42,
          42,
          52,
          43,
          44,
          52,
          43,
          40,
          48,
          51,
          41,
          52,
          47,
          42,
          45,
          53,
          43,
          54,
          40,
          44,
          45,
          null,
          46,
          50,
          45,
          46,
          50,
          51,
          52,
          47,
          40,
          48,
          53,
          49,
          42,
          50,
          54,
          40,
          51,
          49,
          42,
          52,
          43,
          50,
          46,
          52,
          52,
          44,
          46,
          54,
          45,
          47,
          54,
          49,
          51,
          53
         ],
         "y0": " ",
         "yaxis": "y"
        }
       ],
       "layout": {
        "legend": {
         "title": {
          "text": "classification"
         },
         "tracegroupgap": 0
        },
        "margin": {
         "t": 60
        },
        "template": {
         "data": {
          "bar": [
           {
            "error_x": {
             "color": "#2a3f5f"
            },
            "error_y": {
             "color": "#2a3f5f"
            },
            "marker": {
             "line": {
              "color": "#E5ECF6",
              "width": 0.5
             },
             "pattern": {
              "fillmode": "overlay",
              "size": 10,
              "solidity": 0.2
             }
            },
            "type": "bar"
           }
          ],
          "barpolar": [
           {
            "marker": {
             "line": {
              "color": "#E5ECF6",
              "width": 0.5
             },
             "pattern": {
              "fillmode": "overlay",
              "size": 10,
              "solidity": 0.2
             }
            },
            "type": "barpolar"
           }
          ],
          "carpet": [
           {
            "aaxis": {
             "endlinecolor": "#2a3f5f",
             "gridcolor": "white",
             "linecolor": "white",
             "minorgridcolor": "white",
             "startlinecolor": "#2a3f5f"
            },
            "baxis": {
             "endlinecolor": "#2a3f5f",
             "gridcolor": "white",
             "linecolor": "white",
             "minorgridcolor": "white",
             "startlinecolor": "#2a3f5f"
            },
            "type": "carpet"
           }
          ],
          "choropleth": [
           {
            "colorbar": {
             "outlinewidth": 0,
             "ticks": ""
            },
            "type": "choropleth"
           }
          ],
          "contour": [
           {
            "colorbar": {
             "outlinewidth": 0,
             "ticks": ""
            },
            "colorscale": [
             [
              0,
              "#0d0887"
             ],
             [
              0.1111111111111111,
              "#46039f"
             ],
             [
              0.2222222222222222,
              "#7201a8"
             ],
             [
              0.3333333333333333,
              "#9c179e"
             ],
             [
              0.4444444444444444,
              "#bd3786"
             ],
             [
              0.5555555555555556,
              "#d8576b"
             ],
             [
              0.6666666666666666,
              "#ed7953"
             ],
             [
              0.7777777777777778,
              "#fb9f3a"
             ],
             [
              0.8888888888888888,
              "#fdca26"
             ],
             [
              1,
              "#f0f921"
             ]
            ],
            "type": "contour"
           }
          ],
          "contourcarpet": [
           {
            "colorbar": {
             "outlinewidth": 0,
             "ticks": ""
            },
            "type": "contourcarpet"
           }
          ],
          "heatmap": [
           {
            "colorbar": {
             "outlinewidth": 0,
             "ticks": ""
            },
            "colorscale": [
             [
              0,
              "#0d0887"
             ],
             [
              0.1111111111111111,
              "#46039f"
             ],
             [
              0.2222222222222222,
              "#7201a8"
             ],
             [
              0.3333333333333333,
              "#9c179e"
             ],
             [
              0.4444444444444444,
              "#bd3786"
             ],
             [
              0.5555555555555556,
              "#d8576b"
             ],
             [
              0.6666666666666666,
              "#ed7953"
             ],
             [
              0.7777777777777778,
              "#fb9f3a"
             ],
             [
              0.8888888888888888,
              "#fdca26"
             ],
             [
              1,
              "#f0f921"
             ]
            ],
            "type": "heatmap"
           }
          ],
          "heatmapgl": [
           {
            "colorbar": {
             "outlinewidth": 0,
             "ticks": ""
            },
            "colorscale": [
             [
              0,
              "#0d0887"
             ],
             [
              0.1111111111111111,
              "#46039f"
             ],
             [
              0.2222222222222222,
              "#7201a8"
             ],
             [
              0.3333333333333333,
              "#9c179e"
             ],
             [
              0.4444444444444444,
              "#bd3786"
             ],
             [
              0.5555555555555556,
              "#d8576b"
             ],
             [
              0.6666666666666666,
              "#ed7953"
             ],
             [
              0.7777777777777778,
              "#fb9f3a"
             ],
             [
              0.8888888888888888,
              "#fdca26"
             ],
             [
              1,
              "#f0f921"
             ]
            ],
            "type": "heatmapgl"
           }
          ],
          "histogram": [
           {
            "marker": {
             "pattern": {
              "fillmode": "overlay",
              "size": 10,
              "solidity": 0.2
             }
            },
            "type": "histogram"
           }
          ],
          "histogram2d": [
           {
            "colorbar": {
             "outlinewidth": 0,
             "ticks": ""
            },
            "colorscale": [
             [
              0,
              "#0d0887"
             ],
             [
              0.1111111111111111,
              "#46039f"
             ],
             [
              0.2222222222222222,
              "#7201a8"
             ],
             [
              0.3333333333333333,
              "#9c179e"
             ],
             [
              0.4444444444444444,
              "#bd3786"
             ],
             [
              0.5555555555555556,
              "#d8576b"
             ],
             [
              0.6666666666666666,
              "#ed7953"
             ],
             [
              0.7777777777777778,
              "#fb9f3a"
             ],
             [
              0.8888888888888888,
              "#fdca26"
             ],
             [
              1,
              "#f0f921"
             ]
            ],
            "type": "histogram2d"
           }
          ],
          "histogram2dcontour": [
           {
            "colorbar": {
             "outlinewidth": 0,
             "ticks": ""
            },
            "colorscale": [
             [
              0,
              "#0d0887"
             ],
             [
              0.1111111111111111,
              "#46039f"
             ],
             [
              0.2222222222222222,
              "#7201a8"
             ],
             [
              0.3333333333333333,
              "#9c179e"
             ],
             [
              0.4444444444444444,
              "#bd3786"
             ],
             [
              0.5555555555555556,
              "#d8576b"
             ],
             [
              0.6666666666666666,
              "#ed7953"
             ],
             [
              0.7777777777777778,
              "#fb9f3a"
             ],
             [
              0.8888888888888888,
              "#fdca26"
             ],
             [
              1,
              "#f0f921"
             ]
            ],
            "type": "histogram2dcontour"
           }
          ],
          "mesh3d": [
           {
            "colorbar": {
             "outlinewidth": 0,
             "ticks": ""
            },
            "type": "mesh3d"
           }
          ],
          "parcoords": [
           {
            "line": {
             "colorbar": {
              "outlinewidth": 0,
              "ticks": ""
             }
            },
            "type": "parcoords"
           }
          ],
          "pie": [
           {
            "automargin": true,
            "type": "pie"
           }
          ],
          "scatter": [
           {
            "fillpattern": {
             "fillmode": "overlay",
             "size": 10,
             "solidity": 0.2
            },
            "type": "scatter"
           }
          ],
          "scatter3d": [
           {
            "line": {
             "colorbar": {
              "outlinewidth": 0,
              "ticks": ""
             }
            },
            "marker": {
             "colorbar": {
              "outlinewidth": 0,
              "ticks": ""
             }
            },
            "type": "scatter3d"
           }
          ],
          "scattercarpet": [
           {
            "marker": {
             "colorbar": {
              "outlinewidth": 0,
              "ticks": ""
             }
            },
            "type": "scattercarpet"
           }
          ],
          "scattergeo": [
           {
            "marker": {
             "colorbar": {
              "outlinewidth": 0,
              "ticks": ""
             }
            },
            "type": "scattergeo"
           }
          ],
          "scattergl": [
           {
            "marker": {
             "colorbar": {
              "outlinewidth": 0,
              "ticks": ""
             }
            },
            "type": "scattergl"
           }
          ],
          "scattermapbox": [
           {
            "marker": {
             "colorbar": {
              "outlinewidth": 0,
              "ticks": ""
             }
            },
            "type": "scattermapbox"
           }
          ],
          "scatterpolar": [
           {
            "marker": {
             "colorbar": {
              "outlinewidth": 0,
              "ticks": ""
             }
            },
            "type": "scatterpolar"
           }
          ],
          "scatterpolargl": [
           {
            "marker": {
             "colorbar": {
              "outlinewidth": 0,
              "ticks": ""
             }
            },
            "type": "scatterpolargl"
           }
          ],
          "scatterternary": [
           {
            "marker": {
             "colorbar": {
              "outlinewidth": 0,
              "ticks": ""
             }
            },
            "type": "scatterternary"
           }
          ],
          "surface": [
           {
            "colorbar": {
             "outlinewidth": 0,
             "ticks": ""
            },
            "colorscale": [
             [
              0,
              "#0d0887"
             ],
             [
              0.1111111111111111,
              "#46039f"
             ],
             [
              0.2222222222222222,
              "#7201a8"
             ],
             [
              0.3333333333333333,
              "#9c179e"
             ],
             [
              0.4444444444444444,
              "#bd3786"
             ],
             [
              0.5555555555555556,
              "#d8576b"
             ],
             [
              0.6666666666666666,
              "#ed7953"
             ],
             [
              0.7777777777777778,
              "#fb9f3a"
             ],
             [
              0.8888888888888888,
              "#fdca26"
             ],
             [
              1,
              "#f0f921"
             ]
            ],
            "type": "surface"
           }
          ],
          "table": [
           {
            "cells": {
             "fill": {
              "color": "#EBF0F8"
             },
             "line": {
              "color": "white"
             }
            },
            "header": {
             "fill": {
              "color": "#C8D4E3"
             },
             "line": {
              "color": "white"
             }
            },
            "type": "table"
           }
          ]
         },
         "layout": {
          "annotationdefaults": {
           "arrowcolor": "#2a3f5f",
           "arrowhead": 0,
           "arrowwidth": 1
          },
          "autotypenumbers": "strict",
          "coloraxis": {
           "colorbar": {
            "outlinewidth": 0,
            "ticks": ""
           }
          },
          "colorscale": {
           "diverging": [
            [
             0,
             "#8e0152"
            ],
            [
             0.1,
             "#c51b7d"
            ],
            [
             0.2,
             "#de77ae"
            ],
            [
             0.3,
             "#f1b6da"
            ],
            [
             0.4,
             "#fde0ef"
            ],
            [
             0.5,
             "#f7f7f7"
            ],
            [
             0.6,
             "#e6f5d0"
            ],
            [
             0.7,
             "#b8e186"
            ],
            [
             0.8,
             "#7fbc41"
            ],
            [
             0.9,
             "#4d9221"
            ],
            [
             1,
             "#276419"
            ]
           ],
           "sequential": [
            [
             0,
             "#0d0887"
            ],
            [
             0.1111111111111111,
             "#46039f"
            ],
            [
             0.2222222222222222,
             "#7201a8"
            ],
            [
             0.3333333333333333,
             "#9c179e"
            ],
            [
             0.4444444444444444,
             "#bd3786"
            ],
            [
             0.5555555555555556,
             "#d8576b"
            ],
            [
             0.6666666666666666,
             "#ed7953"
            ],
            [
             0.7777777777777778,
             "#fb9f3a"
            ],
            [
             0.8888888888888888,
             "#fdca26"
            ],
            [
             1,
             "#f0f921"
            ]
           ],
           "sequentialminus": [
            [
             0,
             "#0d0887"
            ],
            [
             0.1111111111111111,
             "#46039f"
            ],
            [
             0.2222222222222222,
             "#7201a8"
            ],
            [
             0.3333333333333333,
             "#9c179e"
            ],
            [
             0.4444444444444444,
             "#bd3786"
            ],
            [
             0.5555555555555556,
             "#d8576b"
            ],
            [
             0.6666666666666666,
             "#ed7953"
            ],
            [
             0.7777777777777778,
             "#fb9f3a"
            ],
            [
             0.8888888888888888,
             "#fdca26"
            ],
            [
             1,
             "#f0f921"
            ]
           ]
          },
          "colorway": [
           "#636efa",
           "#EF553B",
           "#00cc96",
           "#ab63fa",
           "#FFA15A",
           "#19d3f3",
           "#FF6692",
           "#B6E880",
           "#FF97FF",
           "#FECB52"
          ],
          "font": {
           "color": "#2a3f5f"
          },
          "geo": {
           "bgcolor": "white",
           "lakecolor": "white",
           "landcolor": "#E5ECF6",
           "showlakes": true,
           "showland": true,
           "subunitcolor": "white"
          },
          "hoverlabel": {
           "align": "left"
          },
          "hovermode": "closest",
          "mapbox": {
           "style": "light"
          },
          "paper_bgcolor": "white",
          "plot_bgcolor": "#E5ECF6",
          "polar": {
           "angularaxis": {
            "gridcolor": "white",
            "linecolor": "white",
            "ticks": ""
           },
           "bgcolor": "#E5ECF6",
           "radialaxis": {
            "gridcolor": "white",
            "linecolor": "white",
            "ticks": ""
           }
          },
          "scene": {
           "xaxis": {
            "backgroundcolor": "#E5ECF6",
            "gridcolor": "white",
            "gridwidth": 2,
            "linecolor": "white",
            "showbackground": true,
            "ticks": "",
            "zerolinecolor": "white"
           },
           "yaxis": {
            "backgroundcolor": "#E5ECF6",
            "gridcolor": "white",
            "gridwidth": 2,
            "linecolor": "white",
            "showbackground": true,
            "ticks": "",
            "zerolinecolor": "white"
           },
           "zaxis": {
            "backgroundcolor": "#E5ECF6",
            "gridcolor": "white",
            "gridwidth": 2,
            "linecolor": "white",
            "showbackground": true,
            "ticks": "",
            "zerolinecolor": "white"
           }
          },
          "shapedefaults": {
           "line": {
            "color": "#2a3f5f"
           }
          },
          "ternary": {
           "aaxis": {
            "gridcolor": "white",
            "linecolor": "white",
            "ticks": ""
           },
           "baxis": {
            "gridcolor": "white",
            "linecolor": "white",
            "ticks": ""
           },
           "bgcolor": "#E5ECF6",
           "caxis": {
            "gridcolor": "white",
            "linecolor": "white",
            "ticks": ""
           }
          },
          "title": {
           "x": 0.05
          },
          "xaxis": {
           "automargin": true,
           "gridcolor": "white",
           "linecolor": "white",
           "ticks": "",
           "title": {
            "standoff": 15
           },
           "zerolinecolor": "white",
           "zerolinewidth": 2
          },
          "yaxis": {
           "automargin": true,
           "gridcolor": "white",
           "linecolor": "white",
           "ticks": "",
           "title": {
            "standoff": 15
           },
           "zerolinecolor": "white",
           "zerolinewidth": 2
          }
         }
        },
        "violinmode": "overlay",
        "xaxis": {
         "anchor": "y",
         "categoryarray": [
          "ckd",
          "notckd"
         ],
         "categoryorder": "array",
         "domain": [
          0,
          1
         ],
         "title": {
          "text": "classification"
         }
        },
        "yaxis": {
         "anchor": "x",
         "domain": [
          0,
          1
         ],
         "title": {
          "text": "pcv"
         }
        }
       }
      }
     },
     "metadata": {},
     "output_type": "display_data"
    }
   ],
   "source": [
    "violin('pcv')"
   ]
  },
  {
   "cell_type": "code",
   "execution_count": 210,
   "id": "c11d645e",
   "metadata": {},
   "outputs": [
    {
     "data": {
      "application/vnd.plotly.v1+json": {
       "config": {
        "plotlyServerURL": "https://plot.ly"
       },
       "data": [
        {
         "hovertemplate": "classification=ckd<br>rc=%{x}<br>al=%{y}<extra></extra>",
         "legendgroup": "ckd",
         "marker": {
          "color": "#636efa",
          "symbol": "circle"
         },
         "mode": "markers",
         "name": "ckd",
         "orientation": "v",
         "showlegend": true,
         "type": "scatter",
         "x": [
          5.2,
          null,
          null,
          3.9,
          4.6,
          4.4,
          null,
          5,
          4,
          3.7,
          null,
          3.8,
          3.4,
          null,
          2.6,
          2.8,
          null,
          null,
          4.3,
          3.7,
          3.2,
          3.6,
          3.4,
          null,
          4.6,
          3.7,
          4,
          4.1,
          null,
          null,
          null,
          4,
          4,
          null,
          null,
          4.9,
          null,
          2.5,
          null,
          4.2,
          4.1,
          null,
          4.5,
          3.1,
          null,
          null,
          4.7,
          null,
          3.5,
          3.5,
          3.8,
          null,
          3.7,
          4.7,
          4.2,
          null,
          3.4,
          null,
          4.3,
          null,
          null,
          null,
          3.8,
          null,
          null,
          null,
          null,
          null,
          null,
          6,
          5.2,
          3.2,
          null,
          null,
          3.4,
          null,
          4,
          3.7,
          null,
          5,
          3.8,
          3.7,
          null,
          null,
          2.1,
          null,
          null,
          5,
          4.7,
          null,
          4.2,
          5.6,
          3.6,
          3.2,
          3.9,
          null,
          null,
          4,
          2.3,
          4.2,
          null,
          3.9,
          null,
          4.2,
          null,
          5.2,
          null,
          4.4,
          4.2,
          null,
          4.7,
          3.9,
          null,
          null,
          null,
          4.3,
          null,
          4.4,
          null,
          null,
          null,
          null,
          null,
          null,
          3.6,
          null,
          4.5,
          4.3,
          2.9,
          null,
          2.7,
          null,
          2.7,
          8,
          3.8,
          null,
          null,
          null,
          null,
          null,
          null,
          null,
          null,
          null,
          4.1,
          3.3,
          null,
          3,
          null,
          null,
          null,
          null,
          null,
          2.9,
          3,
          null,
          null,
          3.9,
          null,
          4.3,
          2.4,
          4.8,
          null,
          3.2,
          5.4,
          null,
          null,
          null,
          null,
          null,
          4.4,
          3.1,
          4.9,
          null,
          4.6,
          3.4,
          3.9,
          null,
          null,
          null,
          null,
          3.7,
          null,
          null,
          3.6,
          null,
          null,
          null,
          null,
          3.4,
          4.8,
          3.4,
          null,
          2.8,
          null,
          null,
          3.5,
          3,
          3.9,
          3.2,
          3.9,
          null,
          null,
          null,
          null,
          null,
          null,
          4.6,
          4.9,
          null,
          3.9,
          null,
          3.4,
          3.7,
          5.2,
          null,
          null,
          4.3,
          null,
          3.3,
          null,
          null,
          null,
          4.6,
          null,
          4.5,
          3.4,
          3.8,
          null,
          3.8,
          null,
          null,
          null,
          null,
          5.2,
          null,
          null,
          null,
          null,
          null,
          4.1,
          3.9,
          3.3,
          6.1,
          4.6,
          2.6,
          2.5,
          null,
          4.1,
          2.1
         ],
         "xaxis": "x",
         "y": [
          1,
          4,
          2,
          4,
          2,
          3,
          0,
          2,
          3,
          2,
          2,
          3,
          3,
          null,
          3,
          3,
          2,
          null,
          0,
          1,
          2,
          null,
          4,
          0,
          4,
          0,
          0,
          3,
          1,
          1,
          null,
          3,
          1,
          2,
          1,
          2,
          1,
          null,
          3,
          2,
          2,
          0,
          0,
          1,
          3,
          3,
          0,
          3,
          0,
          2,
          null,
          3,
          0,
          0,
          2,
          3,
          3,
          null,
          2,
          null,
          1,
          1,
          3,
          1,
          0,
          1,
          2,
          3,
          2,
          0,
          0,
          1,
          3,
          2,
          2,
          1,
          4,
          1,
          null,
          1,
          0,
          null,
          null,
          1,
          3,
          2,
          null,
          1,
          4,
          0,
          2,
          4,
          3,
          3,
          0,
          1,
          1,
          1,
          null,
          0,
          4,
          2,
          0,
          2,
          null,
          0,
          null,
          1,
          0,
          null,
          0,
          3,
          3,
          0,
          3,
          0,
          4,
          0,
          3,
          0,
          1,
          3,
          null,
          2,
          0,
          null,
          0,
          4,
          4,
          1,
          2,
          0,
          null,
          4,
          null,
          0,
          null,
          2,
          1,
          2,
          0,
          1,
          null,
          1,
          2,
          5,
          1,
          3,
          null,
          1,
          3,
          null,
          0,
          2,
          4,
          3,
          2,
          3,
          3,
          1,
          null,
          3,
          null,
          0,
          0,
          0,
          null,
          0,
          4,
          0,
          2,
          3,
          1,
          1,
          null,
          0,
          4,
          2,
          2,
          2,
          1,
          2,
          0,
          0,
          3,
          1,
          4,
          2,
          null,
          4,
          4,
          3,
          0,
          1,
          2,
          2,
          3,
          null,
          4,
          0,
          1,
          null,
          null,
          null,
          4,
          null,
          1,
          0,
          null,
          0,
          4,
          0,
          3,
          3,
          0,
          3,
          0,
          1,
          0,
          0,
          0,
          1,
          null,
          0,
          0,
          3,
          4,
          0,
          null,
          3,
          2,
          null,
          1,
          2,
          0,
          2,
          null,
          2,
          null,
          2,
          1,
          1,
          4,
          2,
          3,
          null,
          3,
          1,
          1,
          4
         ],
         "yaxis": "y"
        },
        {
         "hovertemplate": "classification=notckd<br>rc=%{x}<br>al=%{y}<extra></extra>",
         "legendgroup": "notckd",
         "marker": {
          "color": "#EF553B",
          "symbol": "circle"
         },
         "mode": "markers",
         "name": "notckd",
         "orientation": "v",
         "showlegend": true,
         "type": "scatter",
         "x": [
          4.5,
          5,
          4.7,
          6.2,
          5.2,
          6.3,
          5.1,
          5.8,
          5.5,
          5.2,
          5.3,
          4.9,
          5.4,
          5.2,
          4.5,
          5,
          5.3,
          4.8,
          4.9,
          5.3,
          5,
          4.5,
          5.5,
          null,
          null,
          4.6,
          5.5,
          4.8,
          6.4,
          5.6,
          5.2,
          6,
          4.8,
          5.7,
          6,
          5.9,
          6,
          null,
          5.1,
          5.3,
          5.9,
          5.7,
          5,
          5.4,
          5.8,
          6.5,
          5.9,
          5.2,
          4.9,
          4.7,
          5.8,
          5,
          null,
          6.1,
          4.5,
          5.2,
          5.7,
          4.5,
          4.9,
          5.9,
          5.4,
          5.6,
          6.1,
          4.8,
          4.7,
          4.4,
          5.2,
          4.9,
          5.3,
          null,
          6.2,
          4.8,
          4.9,
          4.5,
          null,
          6.5,
          5.2,
          5.8,
          6.5,
          5.1,
          null,
          4.5,
          6.1,
          5.5,
          4.5,
          5.6,
          5.2,
          6.2,
          4.5,
          4.9,
          5.9,
          4.7,
          6.3,
          5.7,
          4.7,
          6.4,
          5.8,
          5.5,
          6.4,
          6.1,
          4.5,
          4.7,
          5.2,
          4.5,
          5.1,
          4.6,
          6.1,
          4.9,
          5.6,
          4.5,
          6.2,
          5.8,
          4.8,
          5.2,
          4.7,
          6.3,
          5.3,
          6.1,
          5.9,
          4.8,
          5.4,
          5,
          5.5,
          4.9,
          6.4,
          5.6,
          5.2,
          4.8,
          5.5,
          5.7,
          4.9,
          5.9,
          6.5,
          5,
          4.5,
          5.1,
          6.5,
          5.2,
          6.4,
          5.8,
          5.3,
          6.3,
          5.5,
          5.4,
          4.6,
          4.9,
          6.2,
          5.4,
          5.9,
          6.1
         ],
         "xaxis": "x",
         "y": [
          0,
          0,
          0,
          0,
          0,
          0,
          0,
          0,
          0,
          0,
          0,
          0,
          0,
          0,
          0,
          0,
          0,
          0,
          null,
          0,
          0,
          0,
          0,
          0,
          0,
          0,
          0,
          0,
          0,
          0,
          null,
          0,
          0,
          0,
          0,
          0,
          0,
          0,
          0,
          0,
          0,
          0,
          0,
          0,
          0,
          null,
          0,
          0,
          0,
          0,
          0,
          0,
          0,
          0,
          0,
          0,
          0,
          0,
          0,
          0,
          0,
          0,
          0,
          0,
          0,
          0,
          0,
          0,
          0,
          0,
          0,
          0,
          null,
          0,
          0,
          0,
          0,
          0,
          0,
          0,
          0,
          0,
          0,
          0,
          0,
          0,
          0,
          0,
          0,
          0,
          0,
          0,
          0,
          0,
          0,
          0,
          null,
          0,
          0,
          0,
          0,
          0,
          0,
          0,
          0,
          0,
          0,
          0,
          0,
          0,
          0,
          0,
          0,
          0,
          0,
          0,
          0,
          0,
          0,
          0,
          0,
          0,
          0,
          0,
          0,
          0,
          0,
          0,
          0,
          0,
          0,
          0,
          0,
          0,
          0,
          0,
          0,
          0,
          0,
          0,
          0,
          0,
          0,
          0,
          0,
          0,
          0,
          0,
          0,
          0
         ],
         "yaxis": "y"
        }
       ],
       "layout": {
        "legend": {
         "title": {
          "text": "classification"
         },
         "tracegroupgap": 0
        },
        "margin": {
         "t": 60
        },
        "template": {
         "data": {
          "bar": [
           {
            "error_x": {
             "color": "#2a3f5f"
            },
            "error_y": {
             "color": "#2a3f5f"
            },
            "marker": {
             "line": {
              "color": "#E5ECF6",
              "width": 0.5
             },
             "pattern": {
              "fillmode": "overlay",
              "size": 10,
              "solidity": 0.2
             }
            },
            "type": "bar"
           }
          ],
          "barpolar": [
           {
            "marker": {
             "line": {
              "color": "#E5ECF6",
              "width": 0.5
             },
             "pattern": {
              "fillmode": "overlay",
              "size": 10,
              "solidity": 0.2
             }
            },
            "type": "barpolar"
           }
          ],
          "carpet": [
           {
            "aaxis": {
             "endlinecolor": "#2a3f5f",
             "gridcolor": "white",
             "linecolor": "white",
             "minorgridcolor": "white",
             "startlinecolor": "#2a3f5f"
            },
            "baxis": {
             "endlinecolor": "#2a3f5f",
             "gridcolor": "white",
             "linecolor": "white",
             "minorgridcolor": "white",
             "startlinecolor": "#2a3f5f"
            },
            "type": "carpet"
           }
          ],
          "choropleth": [
           {
            "colorbar": {
             "outlinewidth": 0,
             "ticks": ""
            },
            "type": "choropleth"
           }
          ],
          "contour": [
           {
            "colorbar": {
             "outlinewidth": 0,
             "ticks": ""
            },
            "colorscale": [
             [
              0,
              "#0d0887"
             ],
             [
              0.1111111111111111,
              "#46039f"
             ],
             [
              0.2222222222222222,
              "#7201a8"
             ],
             [
              0.3333333333333333,
              "#9c179e"
             ],
             [
              0.4444444444444444,
              "#bd3786"
             ],
             [
              0.5555555555555556,
              "#d8576b"
             ],
             [
              0.6666666666666666,
              "#ed7953"
             ],
             [
              0.7777777777777778,
              "#fb9f3a"
             ],
             [
              0.8888888888888888,
              "#fdca26"
             ],
             [
              1,
              "#f0f921"
             ]
            ],
            "type": "contour"
           }
          ],
          "contourcarpet": [
           {
            "colorbar": {
             "outlinewidth": 0,
             "ticks": ""
            },
            "type": "contourcarpet"
           }
          ],
          "heatmap": [
           {
            "colorbar": {
             "outlinewidth": 0,
             "ticks": ""
            },
            "colorscale": [
             [
              0,
              "#0d0887"
             ],
             [
              0.1111111111111111,
              "#46039f"
             ],
             [
              0.2222222222222222,
              "#7201a8"
             ],
             [
              0.3333333333333333,
              "#9c179e"
             ],
             [
              0.4444444444444444,
              "#bd3786"
             ],
             [
              0.5555555555555556,
              "#d8576b"
             ],
             [
              0.6666666666666666,
              "#ed7953"
             ],
             [
              0.7777777777777778,
              "#fb9f3a"
             ],
             [
              0.8888888888888888,
              "#fdca26"
             ],
             [
              1,
              "#f0f921"
             ]
            ],
            "type": "heatmap"
           }
          ],
          "heatmapgl": [
           {
            "colorbar": {
             "outlinewidth": 0,
             "ticks": ""
            },
            "colorscale": [
             [
              0,
              "#0d0887"
             ],
             [
              0.1111111111111111,
              "#46039f"
             ],
             [
              0.2222222222222222,
              "#7201a8"
             ],
             [
              0.3333333333333333,
              "#9c179e"
             ],
             [
              0.4444444444444444,
              "#bd3786"
             ],
             [
              0.5555555555555556,
              "#d8576b"
             ],
             [
              0.6666666666666666,
              "#ed7953"
             ],
             [
              0.7777777777777778,
              "#fb9f3a"
             ],
             [
              0.8888888888888888,
              "#fdca26"
             ],
             [
              1,
              "#f0f921"
             ]
            ],
            "type": "heatmapgl"
           }
          ],
          "histogram": [
           {
            "marker": {
             "pattern": {
              "fillmode": "overlay",
              "size": 10,
              "solidity": 0.2
             }
            },
            "type": "histogram"
           }
          ],
          "histogram2d": [
           {
            "colorbar": {
             "outlinewidth": 0,
             "ticks": ""
            },
            "colorscale": [
             [
              0,
              "#0d0887"
             ],
             [
              0.1111111111111111,
              "#46039f"
             ],
             [
              0.2222222222222222,
              "#7201a8"
             ],
             [
              0.3333333333333333,
              "#9c179e"
             ],
             [
              0.4444444444444444,
              "#bd3786"
             ],
             [
              0.5555555555555556,
              "#d8576b"
             ],
             [
              0.6666666666666666,
              "#ed7953"
             ],
             [
              0.7777777777777778,
              "#fb9f3a"
             ],
             [
              0.8888888888888888,
              "#fdca26"
             ],
             [
              1,
              "#f0f921"
             ]
            ],
            "type": "histogram2d"
           }
          ],
          "histogram2dcontour": [
           {
            "colorbar": {
             "outlinewidth": 0,
             "ticks": ""
            },
            "colorscale": [
             [
              0,
              "#0d0887"
             ],
             [
              0.1111111111111111,
              "#46039f"
             ],
             [
              0.2222222222222222,
              "#7201a8"
             ],
             [
              0.3333333333333333,
              "#9c179e"
             ],
             [
              0.4444444444444444,
              "#bd3786"
             ],
             [
              0.5555555555555556,
              "#d8576b"
             ],
             [
              0.6666666666666666,
              "#ed7953"
             ],
             [
              0.7777777777777778,
              "#fb9f3a"
             ],
             [
              0.8888888888888888,
              "#fdca26"
             ],
             [
              1,
              "#f0f921"
             ]
            ],
            "type": "histogram2dcontour"
           }
          ],
          "mesh3d": [
           {
            "colorbar": {
             "outlinewidth": 0,
             "ticks": ""
            },
            "type": "mesh3d"
           }
          ],
          "parcoords": [
           {
            "line": {
             "colorbar": {
              "outlinewidth": 0,
              "ticks": ""
             }
            },
            "type": "parcoords"
           }
          ],
          "pie": [
           {
            "automargin": true,
            "type": "pie"
           }
          ],
          "scatter": [
           {
            "fillpattern": {
             "fillmode": "overlay",
             "size": 10,
             "solidity": 0.2
            },
            "type": "scatter"
           }
          ],
          "scatter3d": [
           {
            "line": {
             "colorbar": {
              "outlinewidth": 0,
              "ticks": ""
             }
            },
            "marker": {
             "colorbar": {
              "outlinewidth": 0,
              "ticks": ""
             }
            },
            "type": "scatter3d"
           }
          ],
          "scattercarpet": [
           {
            "marker": {
             "colorbar": {
              "outlinewidth": 0,
              "ticks": ""
             }
            },
            "type": "scattercarpet"
           }
          ],
          "scattergeo": [
           {
            "marker": {
             "colorbar": {
              "outlinewidth": 0,
              "ticks": ""
             }
            },
            "type": "scattergeo"
           }
          ],
          "scattergl": [
           {
            "marker": {
             "colorbar": {
              "outlinewidth": 0,
              "ticks": ""
             }
            },
            "type": "scattergl"
           }
          ],
          "scattermapbox": [
           {
            "marker": {
             "colorbar": {
              "outlinewidth": 0,
              "ticks": ""
             }
            },
            "type": "scattermapbox"
           }
          ],
          "scatterpolar": [
           {
            "marker": {
             "colorbar": {
              "outlinewidth": 0,
              "ticks": ""
             }
            },
            "type": "scatterpolar"
           }
          ],
          "scatterpolargl": [
           {
            "marker": {
             "colorbar": {
              "outlinewidth": 0,
              "ticks": ""
             }
            },
            "type": "scatterpolargl"
           }
          ],
          "scatterternary": [
           {
            "marker": {
             "colorbar": {
              "outlinewidth": 0,
              "ticks": ""
             }
            },
            "type": "scatterternary"
           }
          ],
          "surface": [
           {
            "colorbar": {
             "outlinewidth": 0,
             "ticks": ""
            },
            "colorscale": [
             [
              0,
              "#0d0887"
             ],
             [
              0.1111111111111111,
              "#46039f"
             ],
             [
              0.2222222222222222,
              "#7201a8"
             ],
             [
              0.3333333333333333,
              "#9c179e"
             ],
             [
              0.4444444444444444,
              "#bd3786"
             ],
             [
              0.5555555555555556,
              "#d8576b"
             ],
             [
              0.6666666666666666,
              "#ed7953"
             ],
             [
              0.7777777777777778,
              "#fb9f3a"
             ],
             [
              0.8888888888888888,
              "#fdca26"
             ],
             [
              1,
              "#f0f921"
             ]
            ],
            "type": "surface"
           }
          ],
          "table": [
           {
            "cells": {
             "fill": {
              "color": "#EBF0F8"
             },
             "line": {
              "color": "white"
             }
            },
            "header": {
             "fill": {
              "color": "#C8D4E3"
             },
             "line": {
              "color": "white"
             }
            },
            "type": "table"
           }
          ]
         },
         "layout": {
          "annotationdefaults": {
           "arrowcolor": "#2a3f5f",
           "arrowhead": 0,
           "arrowwidth": 1
          },
          "autotypenumbers": "strict",
          "coloraxis": {
           "colorbar": {
            "outlinewidth": 0,
            "ticks": ""
           }
          },
          "colorscale": {
           "diverging": [
            [
             0,
             "#8e0152"
            ],
            [
             0.1,
             "#c51b7d"
            ],
            [
             0.2,
             "#de77ae"
            ],
            [
             0.3,
             "#f1b6da"
            ],
            [
             0.4,
             "#fde0ef"
            ],
            [
             0.5,
             "#f7f7f7"
            ],
            [
             0.6,
             "#e6f5d0"
            ],
            [
             0.7,
             "#b8e186"
            ],
            [
             0.8,
             "#7fbc41"
            ],
            [
             0.9,
             "#4d9221"
            ],
            [
             1,
             "#276419"
            ]
           ],
           "sequential": [
            [
             0,
             "#0d0887"
            ],
            [
             0.1111111111111111,
             "#46039f"
            ],
            [
             0.2222222222222222,
             "#7201a8"
            ],
            [
             0.3333333333333333,
             "#9c179e"
            ],
            [
             0.4444444444444444,
             "#bd3786"
            ],
            [
             0.5555555555555556,
             "#d8576b"
            ],
            [
             0.6666666666666666,
             "#ed7953"
            ],
            [
             0.7777777777777778,
             "#fb9f3a"
            ],
            [
             0.8888888888888888,
             "#fdca26"
            ],
            [
             1,
             "#f0f921"
            ]
           ],
           "sequentialminus": [
            [
             0,
             "#0d0887"
            ],
            [
             0.1111111111111111,
             "#46039f"
            ],
            [
             0.2222222222222222,
             "#7201a8"
            ],
            [
             0.3333333333333333,
             "#9c179e"
            ],
            [
             0.4444444444444444,
             "#bd3786"
            ],
            [
             0.5555555555555556,
             "#d8576b"
            ],
            [
             0.6666666666666666,
             "#ed7953"
            ],
            [
             0.7777777777777778,
             "#fb9f3a"
            ],
            [
             0.8888888888888888,
             "#fdca26"
            ],
            [
             1,
             "#f0f921"
            ]
           ]
          },
          "colorway": [
           "#636efa",
           "#EF553B",
           "#00cc96",
           "#ab63fa",
           "#FFA15A",
           "#19d3f3",
           "#FF6692",
           "#B6E880",
           "#FF97FF",
           "#FECB52"
          ],
          "font": {
           "color": "#2a3f5f"
          },
          "geo": {
           "bgcolor": "white",
           "lakecolor": "white",
           "landcolor": "#E5ECF6",
           "showlakes": true,
           "showland": true,
           "subunitcolor": "white"
          },
          "hoverlabel": {
           "align": "left"
          },
          "hovermode": "closest",
          "mapbox": {
           "style": "light"
          },
          "paper_bgcolor": "white",
          "plot_bgcolor": "#E5ECF6",
          "polar": {
           "angularaxis": {
            "gridcolor": "white",
            "linecolor": "white",
            "ticks": ""
           },
           "bgcolor": "#E5ECF6",
           "radialaxis": {
            "gridcolor": "white",
            "linecolor": "white",
            "ticks": ""
           }
          },
          "scene": {
           "xaxis": {
            "backgroundcolor": "#E5ECF6",
            "gridcolor": "white",
            "gridwidth": 2,
            "linecolor": "white",
            "showbackground": true,
            "ticks": "",
            "zerolinecolor": "white"
           },
           "yaxis": {
            "backgroundcolor": "#E5ECF6",
            "gridcolor": "white",
            "gridwidth": 2,
            "linecolor": "white",
            "showbackground": true,
            "ticks": "",
            "zerolinecolor": "white"
           },
           "zaxis": {
            "backgroundcolor": "#E5ECF6",
            "gridcolor": "white",
            "gridwidth": 2,
            "linecolor": "white",
            "showbackground": true,
            "ticks": "",
            "zerolinecolor": "white"
           }
          },
          "shapedefaults": {
           "line": {
            "color": "#2a3f5f"
           }
          },
          "ternary": {
           "aaxis": {
            "gridcolor": "white",
            "linecolor": "white",
            "ticks": ""
           },
           "baxis": {
            "gridcolor": "white",
            "linecolor": "white",
            "ticks": ""
           },
           "bgcolor": "#E5ECF6",
           "caxis": {
            "gridcolor": "white",
            "linecolor": "white",
            "ticks": ""
           }
          },
          "title": {
           "x": 0.05
          },
          "xaxis": {
           "automargin": true,
           "gridcolor": "white",
           "linecolor": "white",
           "ticks": "",
           "title": {
            "standoff": 15
           },
           "zerolinecolor": "white",
           "zerolinewidth": 2
          },
          "yaxis": {
           "automargin": true,
           "gridcolor": "white",
           "linecolor": "white",
           "ticks": "",
           "title": {
            "standoff": 15
           },
           "zerolinecolor": "white",
           "zerolinewidth": 2
          }
         }
        },
        "xaxis": {
         "anchor": "y",
         "domain": [
          0,
          1
         ],
         "title": {
          "text": "rc"
         }
        },
        "yaxis": {
         "anchor": "x",
         "domain": [
          0,
          1
         ],
         "title": {
          "text": "al"
         }
        }
       }
      }
     },
     "metadata": {},
     "output_type": "display_data"
    }
   ],
   "source": [
    "scatters('rc','al')"
   ]
  },
  {
   "cell_type": "code",
   "execution_count": 211,
   "id": "cca9d13d",
   "metadata": {},
   "outputs": [],
   "source": [
    "# How to come accross with missing values in the data "
   ]
  },
  {
   "cell_type": "code",
   "execution_count": 212,
   "id": "b238718d",
   "metadata": {},
   "outputs": [
    {
     "data": {
      "text/plain": [
       "rbc               152\n",
       "rc                131\n",
       "wc                106\n",
       "pot                88\n",
       "sod                87\n",
       "pcv                71\n",
       "pc                 65\n",
       "hemo               52\n",
       "su                 49\n",
       "sg                 47\n",
       "al                 46\n",
       "bgr                44\n",
       "bu                 19\n",
       "sc                 17\n",
       "bp                 12\n",
       "age                 9\n",
       "ba                  4\n",
       "pcc                 4\n",
       "htn                 2\n",
       "dm                  2\n",
       "cad                 2\n",
       "appet               1\n",
       "pe                  1\n",
       "ane                 1\n",
       "classification      0\n",
       "dtype: int64"
      ]
     },
     "execution_count": 212,
     "metadata": {},
     "output_type": "execute_result"
    }
   ],
   "source": [
    "df.isna().sum().sort_values(ascending = False)"
   ]
  },
  {
   "cell_type": "code",
   "execution_count": 213,
   "id": "71894597",
   "metadata": {},
   "outputs": [],
   "source": [
    "# 1000,8000- If data is large then don't consider mean to fill mv\n",
    "# normal distribution of data is most suitable for ml model."
   ]
  },
  {
   "cell_type": "code",
   "execution_count": 214,
   "id": "f650d781",
   "metadata": {},
   "outputs": [],
   "source": [
    "## Baby approach - Fill missing values with mean,median,std dev"
   ]
  },
  {
   "cell_type": "code",
   "execution_count": 215,
   "id": "6af7a79f",
   "metadata": {},
   "outputs": [],
   "source": [
    "# Smarter approach-Replace mv with some random values"
   ]
  },
  {
   "cell_type": "code",
   "execution_count": 216,
   "id": "c00276cc",
   "metadata": {},
   "outputs": [
    {
     "name": "stderr",
     "output_type": "stream",
     "text": [
      "c:\\ProgramData\\Anaconda3\\lib\\site-packages\\seaborn\\_decorators.py:36: FutureWarning:\n",
      "\n",
      "Pass the following variable as a keyword arg: x. From version 0.12, the only valid positional argument will be `data`, and passing other arguments without an explicit keyword will result in an error or misinterpretation.\n",
      "\n"
     ]
    },
    {
     "data": {
      "text/plain": [
       "<AxesSubplot:xlabel='rbc', ylabel='count'>"
      ]
     },
     "execution_count": 216,
     "metadata": {},
     "output_type": "execute_result"
    },
    {
     "data": {
      "image/png": "[encoded data removed]",
      "text/plain": [
       "<Figure size 432x288 with 1 Axes>"
      ]
     },
     "metadata": {
      "needs_background": "light"
     },
     "output_type": "display_data"
    }
   ],
   "source": [
    "sns.countplot(df['rbc'])"
   ]
  },
  {
   "cell_type": "code",
   "execution_count": 217,
   "id": "e2b2bb52",
   "metadata": {},
   "outputs": [],
   "source": [
    "data = df.copy()"
   ]
  },
  {
   "cell_type": "code",
   "execution_count": 218,
   "id": "9cd869d5",
   "metadata": {},
   "outputs": [
    {
     "data": {
      "text/html": [
       "<div>\n",
       "<style scoped>\n",
       "    .dataframe tbody tr th:only-of-type {\n",
       "        vertical-align: middle;\n",
       "    }\n",
       "\n",
       "    .dataframe tbody tr th {\n",
       "        vertical-align: top;\n",
       "    }\n",
       "\n",
       "    .dataframe thead th {\n",
       "        text-align: right;\n",
       "    }\n",
       "</style>\n",
       "<table border=\"1\" class=\"dataframe\">\n",
       "  <thead>\n",
       "    <tr style=\"text-align: right;\">\n",
       "      <th></th>\n",
       "      <th>age</th>\n",
       "      <th>bp</th>\n",
       "      <th>sg</th>\n",
       "      <th>al</th>\n",
       "      <th>su</th>\n",
       "      <th>rbc</th>\n",
       "      <th>pc</th>\n",
       "      <th>pcc</th>\n",
       "      <th>ba</th>\n",
       "      <th>bgr</th>\n",
       "      <th>...</th>\n",
       "      <th>pcv</th>\n",
       "      <th>wc</th>\n",
       "      <th>rc</th>\n",
       "      <th>htn</th>\n",
       "      <th>dm</th>\n",
       "      <th>cad</th>\n",
       "      <th>appet</th>\n",
       "      <th>pe</th>\n",
       "      <th>ane</th>\n",
       "      <th>classification</th>\n",
       "    </tr>\n",
       "  </thead>\n",
       "  <tbody>\n",
       "    <tr>\n",
       "      <th>0</th>\n",
       "      <td>48.0</td>\n",
       "      <td>80.0</td>\n",
       "      <td>1.020</td>\n",
       "      <td>1.0</td>\n",
       "      <td>0.0</td>\n",
       "      <td>NaN</td>\n",
       "      <td>normal</td>\n",
       "      <td>notpresent</td>\n",
       "      <td>notpresent</td>\n",
       "      <td>121.0</td>\n",
       "      <td>...</td>\n",
       "      <td>44.0</td>\n",
       "      <td>7800.0</td>\n",
       "      <td>5.2</td>\n",
       "      <td>yes</td>\n",
       "      <td>yes</td>\n",
       "      <td>no</td>\n",
       "      <td>good</td>\n",
       "      <td>no</td>\n",
       "      <td>no</td>\n",
       "      <td>ckd</td>\n",
       "    </tr>\n",
       "    <tr>\n",
       "      <th>1</th>\n",
       "      <td>7.0</td>\n",
       "      <td>50.0</td>\n",
       "      <td>1.020</td>\n",
       "      <td>4.0</td>\n",
       "      <td>0.0</td>\n",
       "      <td>NaN</td>\n",
       "      <td>normal</td>\n",
       "      <td>notpresent</td>\n",
       "      <td>notpresent</td>\n",
       "      <td>NaN</td>\n",
       "      <td>...</td>\n",
       "      <td>38.0</td>\n",
       "      <td>6000.0</td>\n",
       "      <td>NaN</td>\n",
       "      <td>no</td>\n",
       "      <td>no</td>\n",
       "      <td>no</td>\n",
       "      <td>good</td>\n",
       "      <td>no</td>\n",
       "      <td>no</td>\n",
       "      <td>ckd</td>\n",
       "    </tr>\n",
       "    <tr>\n",
       "      <th>2</th>\n",
       "      <td>62.0</td>\n",
       "      <td>80.0</td>\n",
       "      <td>1.010</td>\n",
       "      <td>2.0</td>\n",
       "      <td>3.0</td>\n",
       "      <td>normal</td>\n",
       "      <td>normal</td>\n",
       "      <td>notpresent</td>\n",
       "      <td>notpresent</td>\n",
       "      <td>423.0</td>\n",
       "      <td>...</td>\n",
       "      <td>31.0</td>\n",
       "      <td>7500.0</td>\n",
       "      <td>NaN</td>\n",
       "      <td>no</td>\n",
       "      <td>yes</td>\n",
       "      <td>no</td>\n",
       "      <td>poor</td>\n",
       "      <td>no</td>\n",
       "      <td>yes</td>\n",
       "      <td>ckd</td>\n",
       "    </tr>\n",
       "    <tr>\n",
       "      <th>3</th>\n",
       "      <td>48.0</td>\n",
       "      <td>70.0</td>\n",
       "      <td>1.005</td>\n",
       "      <td>4.0</td>\n",
       "      <td>0.0</td>\n",
       "      <td>normal</td>\n",
       "      <td>abnormal</td>\n",
       "      <td>present</td>\n",
       "      <td>notpresent</td>\n",
       "      <td>117.0</td>\n",
       "      <td>...</td>\n",
       "      <td>32.0</td>\n",
       "      <td>6700.0</td>\n",
       "      <td>3.9</td>\n",
       "      <td>yes</td>\n",
       "      <td>no</td>\n",
       "      <td>no</td>\n",
       "      <td>poor</td>\n",
       "      <td>yes</td>\n",
       "      <td>yes</td>\n",
       "      <td>ckd</td>\n",
       "    </tr>\n",
       "    <tr>\n",
       "      <th>4</th>\n",
       "      <td>51.0</td>\n",
       "      <td>80.0</td>\n",
       "      <td>1.010</td>\n",
       "      <td>2.0</td>\n",
       "      <td>0.0</td>\n",
       "      <td>normal</td>\n",
       "      <td>normal</td>\n",
       "      <td>notpresent</td>\n",
       "      <td>notpresent</td>\n",
       "      <td>106.0</td>\n",
       "      <td>...</td>\n",
       "      <td>35.0</td>\n",
       "      <td>7300.0</td>\n",
       "      <td>4.6</td>\n",
       "      <td>no</td>\n",
       "      <td>no</td>\n",
       "      <td>no</td>\n",
       "      <td>good</td>\n",
       "      <td>no</td>\n",
       "      <td>no</td>\n",
       "      <td>ckd</td>\n",
       "    </tr>\n",
       "  </tbody>\n",
       "</table>\n",
       "<p>5 rows × 25 columns</p>\n",
       "</div>"
      ],
      "text/plain": [
       "    age    bp     sg   al   su     rbc        pc         pcc          ba  \\\n",
       "0  48.0  80.0  1.020  1.0  0.0     NaN    normal  notpresent  notpresent   \n",
       "1   7.0  50.0  1.020  4.0  0.0     NaN    normal  notpresent  notpresent   \n",
       "2  62.0  80.0  1.010  2.0  3.0  normal    normal  notpresent  notpresent   \n",
       "3  48.0  70.0  1.005  4.0  0.0  normal  abnormal     present  notpresent   \n",
       "4  51.0  80.0  1.010  2.0  0.0  normal    normal  notpresent  notpresent   \n",
       "\n",
       "     bgr  ...   pcv      wc   rc  htn   dm  cad  appet   pe  ane  \\\n",
       "0  121.0  ...  44.0  7800.0  5.2  yes  yes   no   good   no   no   \n",
       "1    NaN  ...  38.0  6000.0  NaN   no   no   no   good   no   no   \n",
       "2  423.0  ...  31.0  7500.0  NaN   no  yes   no   poor   no  yes   \n",
       "3  117.0  ...  32.0  6700.0  3.9  yes   no   no   poor  yes  yes   \n",
       "4  106.0  ...  35.0  7300.0  4.6   no   no   no   good   no   no   \n",
       "\n",
       "  classification  \n",
       "0            ckd  \n",
       "1            ckd  \n",
       "2            ckd  \n",
       "3            ckd  \n",
       "4            ckd  \n",
       "\n",
       "[5 rows x 25 columns]"
      ]
     },
     "execution_count": 218,
     "metadata": {},
     "output_type": "execute_result"
    }
   ],
   "source": [
    "data.head()"
   ]
  },
  {
   "cell_type": "code",
   "execution_count": 219,
   "id": "1eec0a21",
   "metadata": {},
   "outputs": [
    {
     "data": {
      "text/plain": [
       "348    normal\n",
       "Name: rbc, dtype: object"
      ]
     },
     "execution_count": 219,
     "metadata": {},
     "output_type": "execute_result"
    }
   ],
   "source": [
    "data['rbc'].dropna().sample()"
   ]
  },
  {
   "cell_type": "code",
   "execution_count": 220,
   "id": "a1b0e1d1",
   "metadata": {},
   "outputs": [
    {
     "data": {
      "text/plain": [
       "152"
      ]
     },
     "execution_count": 220,
     "metadata": {},
     "output_type": "execute_result"
    }
   ],
   "source": [
    "data['rbc'].isnull().sum()"
   ]
  },
  {
   "cell_type": "code",
   "execution_count": 221,
   "id": "95e0ff57",
   "metadata": {},
   "outputs": [
    {
     "data": {
      "text/plain": [
       "303    normal\n",
       "147    normal\n",
       "87     normal\n",
       "321    normal\n",
       "294    normal\n",
       "        ...  \n",
       "373    normal\n",
       "137    normal\n",
       "262    normal\n",
       "176    normal\n",
       "272    normal\n",
       "Name: rbc, Length: 152, dtype: object"
      ]
     },
     "execution_count": 221,
     "metadata": {},
     "output_type": "execute_result"
    }
   ],
   "source": [
    "random_sample = data['rbc'].dropna().sample(data['rbc'].isnull().sum())\n",
    "random_sample"
   ]
  },
  {
   "cell_type": "code",
   "execution_count": 222,
   "id": "3d1856d5",
   "metadata": {},
   "outputs": [
    {
     "data": {
      "text/plain": [
       "Int64Index([  0,   1,   5,   6,  10,  12,  13,  15,  16,  17,\n",
       "            ...\n",
       "            245, 268, 280, 290, 295, 309, 322, 349, 350, 381],\n",
       "           dtype='int64', length=152)"
      ]
     },
     "execution_count": 222,
     "metadata": {},
     "output_type": "execute_result"
    }
   ],
   "source": [
    "data[data['rbc'].isnull()].index"
   ]
  },
  {
   "cell_type": "code",
   "execution_count": 223,
   "id": "e57b1d91",
   "metadata": {},
   "outputs": [
    {
     "data": {
      "text/plain": [
       "Int64Index([303, 147,  87, 321, 294, 133, 186, 341, 312, 257,\n",
       "            ...\n",
       "            366,   3,  66, 258, 271, 373, 137, 262, 176, 272],\n",
       "           dtype='int64', length=152)"
      ]
     },
     "execution_count": 223,
     "metadata": {},
     "output_type": "execute_result"
    }
   ],
   "source": [
    "random_sample.index"
   ]
  },
  {
   "cell_type": "code",
   "execution_count": 224,
   "id": "7405517a",
   "metadata": {},
   "outputs": [],
   "source": [
    "random_sample.index = data[data['rbc'].isnull()].index"
   ]
  },
  {
   "cell_type": "code",
   "execution_count": 225,
   "id": "35c57bd4",
   "metadata": {},
   "outputs": [
    {
     "data": {
      "text/plain": [
       "Int64Index([  0,   1,   5,   6,  10,  12,  13,  15,  16,  17,\n",
       "            ...\n",
       "            245, 268, 280, 290, 295, 309, 322, 349, 350, 381],\n",
       "           dtype='int64', length=152)"
      ]
     },
     "execution_count": 225,
     "metadata": {},
     "output_type": "execute_result"
    }
   ],
   "source": [
    "random_sample.index"
   ]
  },
  {
   "cell_type": "code",
   "execution_count": 226,
   "id": "bbd3555c",
   "metadata": {},
   "outputs": [
    {
     "data": {
      "text/plain": [
       "0      normal\n",
       "1      normal\n",
       "5      normal\n",
       "6      normal\n",
       "10     normal\n",
       "        ...  \n",
       "309    normal\n",
       "322    normal\n",
       "349    normal\n",
       "350    normal\n",
       "381    normal\n",
       "Name: rbc, Length: 152, dtype: object"
      ]
     },
     "execution_count": 226,
     "metadata": {},
     "output_type": "execute_result"
    }
   ],
   "source": [
    "random_sample"
   ]
  },
  {
   "cell_type": "code",
   "execution_count": 227,
   "id": "eab44b87",
   "metadata": {},
   "outputs": [],
   "source": [
    "data.loc[data['rbc'].isnull(),'rbc']= random_sample"
   ]
  },
  {
   "cell_type": "code",
   "execution_count": 228,
   "id": "77f763f0",
   "metadata": {},
   "outputs": [
    {
     "data": {
      "text/plain": [
       "0"
      ]
     },
     "execution_count": 228,
     "metadata": {},
     "output_type": "execute_result"
    }
   ],
   "source": [
    "data['rbc'].isnull().sum()"
   ]
  },
  {
   "cell_type": "code",
   "execution_count": 229,
   "id": "c9647b11",
   "metadata": {},
   "outputs": [
    {
     "name": "stderr",
     "output_type": "stream",
     "text": [
      "c:\\ProgramData\\Anaconda3\\lib\\site-packages\\seaborn\\_decorators.py:36: FutureWarning:\n",
      "\n",
      "Pass the following variable as a keyword arg: x. From version 0.12, the only valid positional argument will be `data`, and passing other arguments without an explicit keyword will result in an error or misinterpretation.\n",
      "\n"
     ]
    },
    {
     "data": {
      "text/plain": [
       "<AxesSubplot:xlabel='rbc', ylabel='count'>"
      ]
     },
     "execution_count": 229,
     "metadata": {},
     "output_type": "execute_result"
    },
    {
     "data": {
      "image/png": "[encoded data removed]",
      "text/plain": [
       "<Figure size 432x288 with 1 Axes>"
      ]
     },
     "metadata": {
      "needs_background": "light"
     },
     "output_type": "display_data"
    }
   ],
   "source": [
    "sns.countplot(data['rbc'])"
   ]
  },
  {
   "cell_type": "code",
   "execution_count": 230,
   "id": "d951134a",
   "metadata": {},
   "outputs": [],
   "source": [
    "def Random_value_imputation(feature):\n",
    "    random_sample=data[feature].dropna().sample(data[feature].isnull().sum())\n",
    "    random_sample.index = data[data[feature].isnull()].index\n",
    "    data.loc[data[feature].isnull(), feature] = random_sample"
   ]
  },
  {
   "cell_type": "code",
   "execution_count": 231,
   "id": "55662994",
   "metadata": {},
   "outputs": [],
   "source": [
    "# Check missing Values in numerical and cateogrical features and fill them"
   ]
  },
  {
   "cell_type": "code",
   "execution_count": 232,
   "id": "184330a2",
   "metadata": {},
   "outputs": [
    {
     "data": {
      "text/plain": [
       "rc      131\n",
       "wc      106\n",
       "pot      88\n",
       "sod      87\n",
       "pcv      71\n",
       "hemo     52\n",
       "su       49\n",
       "sg       47\n",
       "al       46\n",
       "bgr      44\n",
       "bu       19\n",
       "sc       17\n",
       "bp       12\n",
       "age       9\n",
       "dtype: int64"
      ]
     },
     "execution_count": 232,
     "metadata": {},
     "output_type": "execute_result"
    }
   ],
   "source": [
    "data[num_col].isnull().sum().sort_values(ascending = False)"
   ]
  },
  {
   "cell_type": "code",
   "execution_count": 233,
   "id": "086cf06b",
   "metadata": {},
   "outputs": [],
   "source": [
    "for col in num_col:\n",
    "    Random_value_imputation(col)"
   ]
  },
  {
   "cell_type": "code",
   "execution_count": 234,
   "id": "27646fd3",
   "metadata": {},
   "outputs": [
    {
     "data": {
      "text/plain": [
       "age     0\n",
       "bp      0\n",
       "sg      0\n",
       "al      0\n",
       "su      0\n",
       "bgr     0\n",
       "bu      0\n",
       "sc      0\n",
       "sod     0\n",
       "pot     0\n",
       "hemo    0\n",
       "pcv     0\n",
       "wc      0\n",
       "rc      0\n",
       "dtype: int64"
      ]
     },
     "execution_count": 234,
     "metadata": {},
     "output_type": "execute_result"
    }
   ],
   "source": [
    "data[num_col].isnull().sum().sort_values(ascending = False)"
   ]
  },
  {
   "cell_type": "code",
   "execution_count": 235,
   "id": "282b2ea5",
   "metadata": {},
   "outputs": [
    {
     "data": {
      "text/plain": [
       "pc                65\n",
       "pcc                4\n",
       "ba                 4\n",
       "htn                2\n",
       "dm                 2\n",
       "cad                2\n",
       "appet              1\n",
       "pe                 1\n",
       "ane                1\n",
       "rbc                0\n",
       "classification     0\n",
       "dtype: int64"
      ]
     },
     "execution_count": 235,
     "metadata": {},
     "output_type": "execute_result"
    }
   ],
   "source": [
    "data[cat_col].isnull().sum().sort_values(ascending=False)"
   ]
  },
  {
   "cell_type": "code",
   "execution_count": 236,
   "id": "3416ae17",
   "metadata": {},
   "outputs": [],
   "source": [
    "for col in cat_col:\n",
    "    Random_value_imputation(col)"
   ]
  },
  {
   "cell_type": "code",
   "execution_count": 237,
   "id": "e1f407da",
   "metadata": {},
   "outputs": [
    {
     "data": {
      "text/plain": [
       "rbc               0\n",
       "pc                0\n",
       "pcc               0\n",
       "ba                0\n",
       "htn               0\n",
       "dm                0\n",
       "cad               0\n",
       "appet             0\n",
       "pe                0\n",
       "ane               0\n",
       "classification    0\n",
       "dtype: int64"
      ]
     },
     "execution_count": 237,
     "metadata": {},
     "output_type": "execute_result"
    }
   ],
   "source": [
    "data[cat_col].isnull().sum().sort_values(ascending=False)"
   ]
  },
  {
   "cell_type": "code",
   "execution_count": 238,
   "id": "f85bf49c",
   "metadata": {},
   "outputs": [
    {
     "data": {
      "text/plain": [
       "'notpresent'"
      ]
     },
     "execution_count": 238,
     "metadata": {},
     "output_type": "execute_result"
    }
   ],
   "source": [
    "data['pcc'].mode()[0]"
   ]
  },
  {
   "cell_type": "code",
   "execution_count": 239,
   "id": "22f30317",
   "metadata": {},
   "outputs": [],
   "source": [
    "def impute_mode(feature):\n",
    "    mode = data[feature].mode()[0]\n",
    "    data[feature] = data[feature].fillna(mode)"
   ]
  },
  {
   "cell_type": "code",
   "execution_count": 240,
   "id": "c5bf6637",
   "metadata": {},
   "outputs": [],
   "source": [
    "for col in cat_col:\n",
    "    impute_mode(col)"
   ]
  },
  {
   "cell_type": "code",
   "execution_count": 241,
   "id": "d9317793",
   "metadata": {},
   "outputs": [
    {
     "data": {
      "text/plain": [
       "rbc               0\n",
       "pc                0\n",
       "pcc               0\n",
       "ba                0\n",
       "htn               0\n",
       "dm                0\n",
       "cad               0\n",
       "appet             0\n",
       "pe                0\n",
       "ane               0\n",
       "classification    0\n",
       "dtype: int64"
      ]
     },
     "execution_count": 241,
     "metadata": {},
     "output_type": "execute_result"
    }
   ],
   "source": [
    "data[cat_col].isna().sum()"
   ]
  },
  {
   "cell_type": "code",
   "execution_count": 242,
   "id": "d816899d",
   "metadata": {},
   "outputs": [],
   "source": [
    "# Appliying Feature encoding tecchnique on data"
   ]
  },
  {
   "cell_type": "code",
   "execution_count": 243,
   "id": "a42cac60",
   "metadata": {},
   "outputs": [
    {
     "data": {
      "text/html": [
       "<div>\n",
       "<style scoped>\n",
       "    .dataframe tbody tr th:only-of-type {\n",
       "        vertical-align: middle;\n",
       "    }\n",
       "\n",
       "    .dataframe tbody tr th {\n",
       "        vertical-align: top;\n",
       "    }\n",
       "\n",
       "    .dataframe thead th {\n",
       "        text-align: right;\n",
       "    }\n",
       "</style>\n",
       "<table border=\"1\" class=\"dataframe\">\n",
       "  <thead>\n",
       "    <tr style=\"text-align: right;\">\n",
       "      <th></th>\n",
       "      <th>age</th>\n",
       "      <th>bp</th>\n",
       "      <th>sg</th>\n",
       "      <th>al</th>\n",
       "      <th>su</th>\n",
       "      <th>rbc</th>\n",
       "      <th>pc</th>\n",
       "      <th>pcc</th>\n",
       "      <th>ba</th>\n",
       "      <th>bgr</th>\n",
       "      <th>...</th>\n",
       "      <th>pcv</th>\n",
       "      <th>wc</th>\n",
       "      <th>rc</th>\n",
       "      <th>htn</th>\n",
       "      <th>dm</th>\n",
       "      <th>cad</th>\n",
       "      <th>appet</th>\n",
       "      <th>pe</th>\n",
       "      <th>ane</th>\n",
       "      <th>classification</th>\n",
       "    </tr>\n",
       "  </thead>\n",
       "  <tbody>\n",
       "    <tr>\n",
       "      <th>0</th>\n",
       "      <td>48.0</td>\n",
       "      <td>80.0</td>\n",
       "      <td>1.020</td>\n",
       "      <td>1.0</td>\n",
       "      <td>0.0</td>\n",
       "      <td>normal</td>\n",
       "      <td>normal</td>\n",
       "      <td>notpresent</td>\n",
       "      <td>notpresent</td>\n",
       "      <td>121.0</td>\n",
       "      <td>...</td>\n",
       "      <td>44.0</td>\n",
       "      <td>7800.0</td>\n",
       "      <td>5.2</td>\n",
       "      <td>yes</td>\n",
       "      <td>yes</td>\n",
       "      <td>no</td>\n",
       "      <td>good</td>\n",
       "      <td>no</td>\n",
       "      <td>no</td>\n",
       "      <td>ckd</td>\n",
       "    </tr>\n",
       "    <tr>\n",
       "      <th>1</th>\n",
       "      <td>7.0</td>\n",
       "      <td>50.0</td>\n",
       "      <td>1.020</td>\n",
       "      <td>4.0</td>\n",
       "      <td>0.0</td>\n",
       "      <td>normal</td>\n",
       "      <td>normal</td>\n",
       "      <td>notpresent</td>\n",
       "      <td>notpresent</td>\n",
       "      <td>123.0</td>\n",
       "      <td>...</td>\n",
       "      <td>38.0</td>\n",
       "      <td>6000.0</td>\n",
       "      <td>3.8</td>\n",
       "      <td>no</td>\n",
       "      <td>no</td>\n",
       "      <td>no</td>\n",
       "      <td>good</td>\n",
       "      <td>no</td>\n",
       "      <td>no</td>\n",
       "      <td>ckd</td>\n",
       "    </tr>\n",
       "    <tr>\n",
       "      <th>2</th>\n",
       "      <td>62.0</td>\n",
       "      <td>80.0</td>\n",
       "      <td>1.010</td>\n",
       "      <td>2.0</td>\n",
       "      <td>3.0</td>\n",
       "      <td>normal</td>\n",
       "      <td>normal</td>\n",
       "      <td>notpresent</td>\n",
       "      <td>notpresent</td>\n",
       "      <td>423.0</td>\n",
       "      <td>...</td>\n",
       "      <td>31.0</td>\n",
       "      <td>7500.0</td>\n",
       "      <td>6.5</td>\n",
       "      <td>no</td>\n",
       "      <td>yes</td>\n",
       "      <td>no</td>\n",
       "      <td>poor</td>\n",
       "      <td>no</td>\n",
       "      <td>yes</td>\n",
       "      <td>ckd</td>\n",
       "    </tr>\n",
       "    <tr>\n",
       "      <th>3</th>\n",
       "      <td>48.0</td>\n",
       "      <td>70.0</td>\n",
       "      <td>1.005</td>\n",
       "      <td>4.0</td>\n",
       "      <td>0.0</td>\n",
       "      <td>normal</td>\n",
       "      <td>abnormal</td>\n",
       "      <td>present</td>\n",
       "      <td>notpresent</td>\n",
       "      <td>117.0</td>\n",
       "      <td>...</td>\n",
       "      <td>32.0</td>\n",
       "      <td>6700.0</td>\n",
       "      <td>3.9</td>\n",
       "      <td>yes</td>\n",
       "      <td>no</td>\n",
       "      <td>no</td>\n",
       "      <td>poor</td>\n",
       "      <td>yes</td>\n",
       "      <td>yes</td>\n",
       "      <td>ckd</td>\n",
       "    </tr>\n",
       "    <tr>\n",
       "      <th>4</th>\n",
       "      <td>51.0</td>\n",
       "      <td>80.0</td>\n",
       "      <td>1.010</td>\n",
       "      <td>2.0</td>\n",
       "      <td>0.0</td>\n",
       "      <td>normal</td>\n",
       "      <td>normal</td>\n",
       "      <td>notpresent</td>\n",
       "      <td>notpresent</td>\n",
       "      <td>106.0</td>\n",
       "      <td>...</td>\n",
       "      <td>35.0</td>\n",
       "      <td>7300.0</td>\n",
       "      <td>4.6</td>\n",
       "      <td>no</td>\n",
       "      <td>no</td>\n",
       "      <td>no</td>\n",
       "      <td>good</td>\n",
       "      <td>no</td>\n",
       "      <td>no</td>\n",
       "      <td>ckd</td>\n",
       "    </tr>\n",
       "  </tbody>\n",
       "</table>\n",
       "<p>5 rows × 25 columns</p>\n",
       "</div>"
      ],
      "text/plain": [
       "    age    bp     sg   al   su     rbc        pc         pcc          ba  \\\n",
       "0  48.0  80.0  1.020  1.0  0.0  normal    normal  notpresent  notpresent   \n",
       "1   7.0  50.0  1.020  4.0  0.0  normal    normal  notpresent  notpresent   \n",
       "2  62.0  80.0  1.010  2.0  3.0  normal    normal  notpresent  notpresent   \n",
       "3  48.0  70.0  1.005  4.0  0.0  normal  abnormal     present  notpresent   \n",
       "4  51.0  80.0  1.010  2.0  0.0  normal    normal  notpresent  notpresent   \n",
       "\n",
       "     bgr  ...   pcv      wc   rc  htn   dm  cad  appet   pe  ane  \\\n",
       "0  121.0  ...  44.0  7800.0  5.2  yes  yes   no   good   no   no   \n",
       "1  123.0  ...  38.0  6000.0  3.8   no   no   no   good   no   no   \n",
       "2  423.0  ...  31.0  7500.0  6.5   no  yes   no   poor   no  yes   \n",
       "3  117.0  ...  32.0  6700.0  3.9  yes   no   no   poor  yes  yes   \n",
       "4  106.0  ...  35.0  7300.0  4.6   no   no   no   good   no   no   \n",
       "\n",
       "  classification  \n",
       "0            ckd  \n",
       "1            ckd  \n",
       "2            ckd  \n",
       "3            ckd  \n",
       "4            ckd  \n",
       "\n",
       "[5 rows x 25 columns]"
      ]
     },
     "execution_count": 243,
     "metadata": {},
     "output_type": "execute_result"
    }
   ],
   "source": [
    "data.head()"
   ]
  },
  {
   "cell_type": "code",
   "execution_count": 244,
   "id": "f0e91418",
   "metadata": {},
   "outputs": [
    {
     "name": "stdout",
     "output_type": "stream",
     "text": [
      "rbc has 2 unique categories\n",
      "pc has 2 unique categories\n",
      "pcc has 2 unique categories\n",
      "ba has 2 unique categories\n",
      "htn has 2 unique categories\n",
      "dm has 3 unique categories\n",
      "cad has 2 unique categories\n",
      "appet has 2 unique categories\n",
      "pe has 2 unique categories\n",
      "ane has 2 unique categories\n",
      "classification has 2 unique categories\n"
     ]
    }
   ],
   "source": [
    "for col in cat_col:\n",
    "    print('{} has {} unique categories'.format(col,data[col].nunique()))"
   ]
  },
  {
   "cell_type": "code",
   "execution_count": 245,
   "id": "d2dfac98",
   "metadata": {},
   "outputs": [],
   "source": [
    "## Label Encoding\n",
    "\n",
    "## normal-- 0\n",
    "## abnormal--1"
   ]
  },
  {
   "cell_type": "code",
   "execution_count": 246,
   "id": "63de3791",
   "metadata": {},
   "outputs": [],
   "source": [
    "from sklearn.preprocessing import LabelEncoder"
   ]
  },
  {
   "cell_type": "code",
   "execution_count": 247,
   "id": "05e82f1a",
   "metadata": {},
   "outputs": [],
   "source": [
    "le = LabelEncoder()"
   ]
  },
  {
   "cell_type": "code",
   "execution_count": 248,
   "id": "afdda284",
   "metadata": {},
   "outputs": [],
   "source": [
    "for col in cat_col:\n",
    "    data[col]=le.fit_transform(data[col])"
   ]
  },
  {
   "cell_type": "code",
   "execution_count": 249,
   "id": "f8cbfe15",
   "metadata": {},
   "outputs": [
    {
     "data": {
      "text/html": [
       "<div>\n",
       "<style scoped>\n",
       "    .dataframe tbody tr th:only-of-type {\n",
       "        vertical-align: middle;\n",
       "    }\n",
       "\n",
       "    .dataframe tbody tr th {\n",
       "        vertical-align: top;\n",
       "    }\n",
       "\n",
       "    .dataframe thead th {\n",
       "        text-align: right;\n",
       "    }\n",
       "</style>\n",
       "<table border=\"1\" class=\"dataframe\">\n",
       "  <thead>\n",
       "    <tr style=\"text-align: right;\">\n",
       "      <th></th>\n",
       "      <th>age</th>\n",
       "      <th>bp</th>\n",
       "      <th>sg</th>\n",
       "      <th>al</th>\n",
       "      <th>su</th>\n",
       "      <th>rbc</th>\n",
       "      <th>pc</th>\n",
       "      <th>pcc</th>\n",
       "      <th>ba</th>\n",
       "      <th>bgr</th>\n",
       "      <th>...</th>\n",
       "      <th>pcv</th>\n",
       "      <th>wc</th>\n",
       "      <th>rc</th>\n",
       "      <th>htn</th>\n",
       "      <th>dm</th>\n",
       "      <th>cad</th>\n",
       "      <th>appet</th>\n",
       "      <th>pe</th>\n",
       "      <th>ane</th>\n",
       "      <th>classification</th>\n",
       "    </tr>\n",
       "  </thead>\n",
       "  <tbody>\n",
       "    <tr>\n",
       "      <th>0</th>\n",
       "      <td>48.0</td>\n",
       "      <td>80.0</td>\n",
       "      <td>1.020</td>\n",
       "      <td>1.0</td>\n",
       "      <td>0.0</td>\n",
       "      <td>1</td>\n",
       "      <td>1</td>\n",
       "      <td>0</td>\n",
       "      <td>0</td>\n",
       "      <td>121.0</td>\n",
       "      <td>...</td>\n",
       "      <td>44.0</td>\n",
       "      <td>7800.0</td>\n",
       "      <td>5.2</td>\n",
       "      <td>1</td>\n",
       "      <td>2</td>\n",
       "      <td>0</td>\n",
       "      <td>0</td>\n",
       "      <td>0</td>\n",
       "      <td>0</td>\n",
       "      <td>0</td>\n",
       "    </tr>\n",
       "    <tr>\n",
       "      <th>1</th>\n",
       "      <td>7.0</td>\n",
       "      <td>50.0</td>\n",
       "      <td>1.020</td>\n",
       "      <td>4.0</td>\n",
       "      <td>0.0</td>\n",
       "      <td>1</td>\n",
       "      <td>1</td>\n",
       "      <td>0</td>\n",
       "      <td>0</td>\n",
       "      <td>123.0</td>\n",
       "      <td>...</td>\n",
       "      <td>38.0</td>\n",
       "      <td>6000.0</td>\n",
       "      <td>3.8</td>\n",
       "      <td>0</td>\n",
       "      <td>1</td>\n",
       "      <td>0</td>\n",
       "      <td>0</td>\n",
       "      <td>0</td>\n",
       "      <td>0</td>\n",
       "      <td>0</td>\n",
       "    </tr>\n",
       "    <tr>\n",
       "      <th>2</th>\n",
       "      <td>62.0</td>\n",
       "      <td>80.0</td>\n",
       "      <td>1.010</td>\n",
       "      <td>2.0</td>\n",
       "      <td>3.0</td>\n",
       "      <td>1</td>\n",
       "      <td>1</td>\n",
       "      <td>0</td>\n",
       "      <td>0</td>\n",
       "      <td>423.0</td>\n",
       "      <td>...</td>\n",
       "      <td>31.0</td>\n",
       "      <td>7500.0</td>\n",
       "      <td>6.5</td>\n",
       "      <td>0</td>\n",
       "      <td>2</td>\n",
       "      <td>0</td>\n",
       "      <td>1</td>\n",
       "      <td>0</td>\n",
       "      <td>1</td>\n",
       "      <td>0</td>\n",
       "    </tr>\n",
       "    <tr>\n",
       "      <th>3</th>\n",
       "      <td>48.0</td>\n",
       "      <td>70.0</td>\n",
       "      <td>1.005</td>\n",
       "      <td>4.0</td>\n",
       "      <td>0.0</td>\n",
       "      <td>1</td>\n",
       "      <td>0</td>\n",
       "      <td>1</td>\n",
       "      <td>0</td>\n",
       "      <td>117.0</td>\n",
       "      <td>...</td>\n",
       "      <td>32.0</td>\n",
       "      <td>6700.0</td>\n",
       "      <td>3.9</td>\n",
       "      <td>1</td>\n",
       "      <td>1</td>\n",
       "      <td>0</td>\n",
       "      <td>1</td>\n",
       "      <td>1</td>\n",
       "      <td>1</td>\n",
       "      <td>0</td>\n",
       "    </tr>\n",
       "    <tr>\n",
       "      <th>4</th>\n",
       "      <td>51.0</td>\n",
       "      <td>80.0</td>\n",
       "      <td>1.010</td>\n",
       "      <td>2.0</td>\n",
       "      <td>0.0</td>\n",
       "      <td>1</td>\n",
       "      <td>1</td>\n",
       "      <td>0</td>\n",
       "      <td>0</td>\n",
       "      <td>106.0</td>\n",
       "      <td>...</td>\n",
       "      <td>35.0</td>\n",
       "      <td>7300.0</td>\n",
       "      <td>4.6</td>\n",
       "      <td>0</td>\n",
       "      <td>1</td>\n",
       "      <td>0</td>\n",
       "      <td>0</td>\n",
       "      <td>0</td>\n",
       "      <td>0</td>\n",
       "      <td>0</td>\n",
       "    </tr>\n",
       "  </tbody>\n",
       "</table>\n",
       "<p>5 rows × 25 columns</p>\n",
       "</div>"
      ],
      "text/plain": [
       "    age    bp     sg   al   su  rbc  pc  pcc  ba    bgr  ...   pcv      wc  \\\n",
       "0  48.0  80.0  1.020  1.0  0.0    1   1    0   0  121.0  ...  44.0  7800.0   \n",
       "1   7.0  50.0  1.020  4.0  0.0    1   1    0   0  123.0  ...  38.0  6000.0   \n",
       "2  62.0  80.0  1.010  2.0  3.0    1   1    0   0  423.0  ...  31.0  7500.0   \n",
       "3  48.0  70.0  1.005  4.0  0.0    1   0    1   0  117.0  ...  32.0  6700.0   \n",
       "4  51.0  80.0  1.010  2.0  0.0    1   1    0   0  106.0  ...  35.0  7300.0   \n",
       "\n",
       "    rc  htn  dm  cad  appet  pe  ane  classification  \n",
       "0  5.2    1   2    0      0   0    0               0  \n",
       "1  3.8    0   1    0      0   0    0               0  \n",
       "2  6.5    0   2    0      1   0    1               0  \n",
       "3  3.9    1   1    0      1   1    1               0  \n",
       "4  4.6    0   1    0      0   0    0               0  \n",
       "\n",
       "[5 rows x 25 columns]"
      ]
     },
     "execution_count": 249,
     "metadata": {},
     "output_type": "execute_result"
    }
   ],
   "source": [
    "data.head()"
   ]
  },
  {
   "cell_type": "code",
   "execution_count": 250,
   "id": "ba34d757",
   "metadata": {},
   "outputs": [],
   "source": [
    "## use case --100 categories\n",
    "## we use some threshold values and eliminate some n no. of use cases"
   ]
  },
  {
   "cell_type": "code",
   "execution_count": 251,
   "id": "f69a2305",
   "metadata": {},
   "outputs": [],
   "source": [
    "## Select best features of your model using suitable feature importance technique"
   ]
  },
  {
   "cell_type": "code",
   "execution_count": 252,
   "id": "fb2d5f41",
   "metadata": {},
   "outputs": [],
   "source": [
    "from sklearn.feature_selection import SelectKBest\n",
    "\n",
    "from sklearn.feature_selection import chi2"
   ]
  },
  {
   "cell_type": "code",
   "execution_count": 253,
   "id": "91915527",
   "metadata": {},
   "outputs": [],
   "source": [
    "in_col= [col for col in data.columns if col!='classification']"
   ]
  },
  {
   "cell_type": "code",
   "execution_count": 254,
   "id": "1716ae2b",
   "metadata": {},
   "outputs": [
    {
     "data": {
      "text/plain": [
       "['age',\n",
       " 'bp',\n",
       " 'sg',\n",
       " 'al',\n",
       " 'su',\n",
       " 'rbc',\n",
       " 'pc',\n",
       " 'pcc',\n",
       " 'ba',\n",
       " 'bgr',\n",
       " 'bu',\n",
       " 'sc',\n",
       " 'sod',\n",
       " 'pot',\n",
       " 'hemo',\n",
       " 'pcv',\n",
       " 'wc',\n",
       " 'rc',\n",
       " 'htn',\n",
       " 'dm',\n",
       " 'cad',\n",
       " 'appet',\n",
       " 'pe',\n",
       " 'ane']"
      ]
     },
     "execution_count": 254,
     "metadata": {},
     "output_type": "execute_result"
    }
   ],
   "source": [
    "in_col"
   ]
  },
  {
   "cell_type": "code",
   "execution_count": 255,
   "id": "7748a1a7",
   "metadata": {},
   "outputs": [],
   "source": [
    "dep_col = 'classification'"
   ]
  },
  {
   "cell_type": "code",
   "execution_count": 256,
   "id": "c14f3339",
   "metadata": {},
   "outputs": [],
   "source": [
    "x=data[in_col]\n",
    "y=data[dep_col]"
   ]
  },
  {
   "cell_type": "code",
   "execution_count": 257,
   "id": "ea2753ed",
   "metadata": {},
   "outputs": [
    {
     "data": {
      "text/html": [
       "<div>\n",
       "<style scoped>\n",
       "    .dataframe tbody tr th:only-of-type {\n",
       "        vertical-align: middle;\n",
       "    }\n",
       "\n",
       "    .dataframe tbody tr th {\n",
       "        vertical-align: top;\n",
       "    }\n",
       "\n",
       "    .dataframe thead th {\n",
       "        text-align: right;\n",
       "    }\n",
       "</style>\n",
       "<table border=\"1\" class=\"dataframe\">\n",
       "  <thead>\n",
       "    <tr style=\"text-align: right;\">\n",
       "      <th></th>\n",
       "      <th>age</th>\n",
       "      <th>bp</th>\n",
       "      <th>sg</th>\n",
       "      <th>al</th>\n",
       "      <th>su</th>\n",
       "      <th>rbc</th>\n",
       "      <th>pc</th>\n",
       "      <th>pcc</th>\n",
       "      <th>ba</th>\n",
       "      <th>bgr</th>\n",
       "      <th>...</th>\n",
       "      <th>hemo</th>\n",
       "      <th>pcv</th>\n",
       "      <th>wc</th>\n",
       "      <th>rc</th>\n",
       "      <th>htn</th>\n",
       "      <th>dm</th>\n",
       "      <th>cad</th>\n",
       "      <th>appet</th>\n",
       "      <th>pe</th>\n",
       "      <th>ane</th>\n",
       "    </tr>\n",
       "  </thead>\n",
       "  <tbody>\n",
       "    <tr>\n",
       "      <th>0</th>\n",
       "      <td>48.0</td>\n",
       "      <td>80.0</td>\n",
       "      <td>1.020</td>\n",
       "      <td>1.0</td>\n",
       "      <td>0.0</td>\n",
       "      <td>1</td>\n",
       "      <td>1</td>\n",
       "      <td>0</td>\n",
       "      <td>0</td>\n",
       "      <td>121.0</td>\n",
       "      <td>...</td>\n",
       "      <td>15.4</td>\n",
       "      <td>44.0</td>\n",
       "      <td>7800.0</td>\n",
       "      <td>5.2</td>\n",
       "      <td>1</td>\n",
       "      <td>2</td>\n",
       "      <td>0</td>\n",
       "      <td>0</td>\n",
       "      <td>0</td>\n",
       "      <td>0</td>\n",
       "    </tr>\n",
       "    <tr>\n",
       "      <th>1</th>\n",
       "      <td>7.0</td>\n",
       "      <td>50.0</td>\n",
       "      <td>1.020</td>\n",
       "      <td>4.0</td>\n",
       "      <td>0.0</td>\n",
       "      <td>1</td>\n",
       "      <td>1</td>\n",
       "      <td>0</td>\n",
       "      <td>0</td>\n",
       "      <td>123.0</td>\n",
       "      <td>...</td>\n",
       "      <td>11.3</td>\n",
       "      <td>38.0</td>\n",
       "      <td>6000.0</td>\n",
       "      <td>3.8</td>\n",
       "      <td>0</td>\n",
       "      <td>1</td>\n",
       "      <td>0</td>\n",
       "      <td>0</td>\n",
       "      <td>0</td>\n",
       "      <td>0</td>\n",
       "    </tr>\n",
       "    <tr>\n",
       "      <th>2</th>\n",
       "      <td>62.0</td>\n",
       "      <td>80.0</td>\n",
       "      <td>1.010</td>\n",
       "      <td>2.0</td>\n",
       "      <td>3.0</td>\n",
       "      <td>1</td>\n",
       "      <td>1</td>\n",
       "      <td>0</td>\n",
       "      <td>0</td>\n",
       "      <td>423.0</td>\n",
       "      <td>...</td>\n",
       "      <td>9.6</td>\n",
       "      <td>31.0</td>\n",
       "      <td>7500.0</td>\n",
       "      <td>6.5</td>\n",
       "      <td>0</td>\n",
       "      <td>2</td>\n",
       "      <td>0</td>\n",
       "      <td>1</td>\n",
       "      <td>0</td>\n",
       "      <td>1</td>\n",
       "    </tr>\n",
       "    <tr>\n",
       "      <th>3</th>\n",
       "      <td>48.0</td>\n",
       "      <td>70.0</td>\n",
       "      <td>1.005</td>\n",
       "      <td>4.0</td>\n",
       "      <td>0.0</td>\n",
       "      <td>1</td>\n",
       "      <td>0</td>\n",
       "      <td>1</td>\n",
       "      <td>0</td>\n",
       "      <td>117.0</td>\n",
       "      <td>...</td>\n",
       "      <td>11.2</td>\n",
       "      <td>32.0</td>\n",
       "      <td>6700.0</td>\n",
       "      <td>3.9</td>\n",
       "      <td>1</td>\n",
       "      <td>1</td>\n",
       "      <td>0</td>\n",
       "      <td>1</td>\n",
       "      <td>1</td>\n",
       "      <td>1</td>\n",
       "    </tr>\n",
       "    <tr>\n",
       "      <th>4</th>\n",
       "      <td>51.0</td>\n",
       "      <td>80.0</td>\n",
       "      <td>1.010</td>\n",
       "      <td>2.0</td>\n",
       "      <td>0.0</td>\n",
       "      <td>1</td>\n",
       "      <td>1</td>\n",
       "      <td>0</td>\n",
       "      <td>0</td>\n",
       "      <td>106.0</td>\n",
       "      <td>...</td>\n",
       "      <td>11.6</td>\n",
       "      <td>35.0</td>\n",
       "      <td>7300.0</td>\n",
       "      <td>4.6</td>\n",
       "      <td>0</td>\n",
       "      <td>1</td>\n",
       "      <td>0</td>\n",
       "      <td>0</td>\n",
       "      <td>0</td>\n",
       "      <td>0</td>\n",
       "    </tr>\n",
       "  </tbody>\n",
       "</table>\n",
       "<p>5 rows × 24 columns</p>\n",
       "</div>"
      ],
      "text/plain": [
       "    age    bp     sg   al   su  rbc  pc  pcc  ba    bgr  ...  hemo   pcv  \\\n",
       "0  48.0  80.0  1.020  1.0  0.0    1   1    0   0  121.0  ...  15.4  44.0   \n",
       "1   7.0  50.0  1.020  4.0  0.0    1   1    0   0  123.0  ...  11.3  38.0   \n",
       "2  62.0  80.0  1.010  2.0  3.0    1   1    0   0  423.0  ...   9.6  31.0   \n",
       "3  48.0  70.0  1.005  4.0  0.0    1   0    1   0  117.0  ...  11.2  32.0   \n",
       "4  51.0  80.0  1.010  2.0  0.0    1   1    0   0  106.0  ...  11.6  35.0   \n",
       "\n",
       "       wc   rc  htn  dm  cad  appet  pe  ane  \n",
       "0  7800.0  5.2    1   2    0      0   0    0  \n",
       "1  6000.0  3.8    0   1    0      0   0    0  \n",
       "2  7500.0  6.5    0   2    0      1   0    1  \n",
       "3  6700.0  3.9    1   1    0      1   1    1  \n",
       "4  7300.0  4.6    0   1    0      0   0    0  \n",
       "\n",
       "[5 rows x 24 columns]"
      ]
     },
     "execution_count": 257,
     "metadata": {},
     "output_type": "execute_result"
    }
   ],
   "source": [
    "x.head()"
   ]
  },
  {
   "cell_type": "code",
   "execution_count": 258,
   "id": "7ec02cdc",
   "metadata": {},
   "outputs": [],
   "source": [
    "orderd_rank_features = SelectKBest(score_func=chi2,k=20)\n",
    "ordered_feature = orderd_rank_features.fit(x,y)"
   ]
  },
  {
   "cell_type": "code",
   "execution_count": 259,
   "id": "1bb295f4",
   "metadata": {},
   "outputs": [
    {
     "data": {
      "text/plain": [
       "SelectKBest(k=20, score_func=<function chi2 at 0x0000018FAA5081F0>)"
      ]
     },
     "execution_count": 259,
     "metadata": {},
     "output_type": "execute_result"
    }
   ],
   "source": [
    "ordered_feature"
   ]
  },
  {
   "cell_type": "code",
   "execution_count": 260,
   "id": "29ab4d5d",
   "metadata": {},
   "outputs": [
    {
     "data": {
      "text/plain": [
       "array([1.10266094e+02, 7.75729677e+01, 5.35024264e-03, 2.33856410e+02,\n",
       "       9.84000000e+01, 8.51570415e+00, 1.31418803e+01, 2.52000000e+01,\n",
       "       1.32000000e+01, 2.33171539e+03, 2.44139369e+03, 3.44066434e+02,\n",
       "       2.71845840e+01, 4.00773374e+00, 1.26449144e+02, 3.04646999e+02,\n",
       "       1.11632955e+04, 2.12763731e+01, 8.56288288e+01, 2.04392523e+01,\n",
       "       2.04000000e+01, 4.92000000e+01, 4.56000000e+01, 3.60000000e+01])"
      ]
     },
     "execution_count": 260,
     "metadata": {},
     "output_type": "execute_result"
    }
   ],
   "source": [
    "ordered_feature.scores_"
   ]
  },
  {
   "cell_type": "code",
   "execution_count": 261,
   "id": "291e13ca",
   "metadata": {},
   "outputs": [],
   "source": [
    "datascores = pd.DataFrame(ordered_feature.scores_,columns=['Score'])"
   ]
  },
  {
   "cell_type": "code",
   "execution_count": 262,
   "id": "9cd00b4f",
   "metadata": {},
   "outputs": [
    {
     "data": {
      "text/html": [
       "<div>\n",
       "<style scoped>\n",
       "    .dataframe tbody tr th:only-of-type {\n",
       "        vertical-align: middle;\n",
       "    }\n",
       "\n",
       "    .dataframe tbody tr th {\n",
       "        vertical-align: top;\n",
       "    }\n",
       "\n",
       "    .dataframe thead th {\n",
       "        text-align: right;\n",
       "    }\n",
       "</style>\n",
       "<table border=\"1\" class=\"dataframe\">\n",
       "  <thead>\n",
       "    <tr style=\"text-align: right;\">\n",
       "      <th></th>\n",
       "      <th>Score</th>\n",
       "    </tr>\n",
       "  </thead>\n",
       "  <tbody>\n",
       "    <tr>\n",
       "      <th>0</th>\n",
       "      <td>110.266094</td>\n",
       "    </tr>\n",
       "    <tr>\n",
       "      <th>1</th>\n",
       "      <td>77.572968</td>\n",
       "    </tr>\n",
       "    <tr>\n",
       "      <th>2</th>\n",
       "      <td>0.005350</td>\n",
       "    </tr>\n",
       "    <tr>\n",
       "      <th>3</th>\n",
       "      <td>233.856410</td>\n",
       "    </tr>\n",
       "    <tr>\n",
       "      <th>4</th>\n",
       "      <td>98.400000</td>\n",
       "    </tr>\n",
       "    <tr>\n",
       "      <th>5</th>\n",
       "      <td>8.515704</td>\n",
       "    </tr>\n",
       "    <tr>\n",
       "      <th>6</th>\n",
       "      <td>13.141880</td>\n",
       "    </tr>\n",
       "    <tr>\n",
       "      <th>7</th>\n",
       "      <td>25.200000</td>\n",
       "    </tr>\n",
       "    <tr>\n",
       "      <th>8</th>\n",
       "      <td>13.200000</td>\n",
       "    </tr>\n",
       "    <tr>\n",
       "      <th>9</th>\n",
       "      <td>2331.715387</td>\n",
       "    </tr>\n",
       "    <tr>\n",
       "      <th>10</th>\n",
       "      <td>2441.393688</td>\n",
       "    </tr>\n",
       "    <tr>\n",
       "      <th>11</th>\n",
       "      <td>344.066434</td>\n",
       "    </tr>\n",
       "    <tr>\n",
       "      <th>12</th>\n",
       "      <td>27.184584</td>\n",
       "    </tr>\n",
       "    <tr>\n",
       "      <th>13</th>\n",
       "      <td>4.007734</td>\n",
       "    </tr>\n",
       "    <tr>\n",
       "      <th>14</th>\n",
       "      <td>126.449144</td>\n",
       "    </tr>\n",
       "    <tr>\n",
       "      <th>15</th>\n",
       "      <td>304.646999</td>\n",
       "    </tr>\n",
       "    <tr>\n",
       "      <th>16</th>\n",
       "      <td>11163.295488</td>\n",
       "    </tr>\n",
       "    <tr>\n",
       "      <th>17</th>\n",
       "      <td>21.276373</td>\n",
       "    </tr>\n",
       "    <tr>\n",
       "      <th>18</th>\n",
       "      <td>85.628829</td>\n",
       "    </tr>\n",
       "    <tr>\n",
       "      <th>19</th>\n",
       "      <td>20.439252</td>\n",
       "    </tr>\n",
       "    <tr>\n",
       "      <th>20</th>\n",
       "      <td>20.400000</td>\n",
       "    </tr>\n",
       "    <tr>\n",
       "      <th>21</th>\n",
       "      <td>49.200000</td>\n",
       "    </tr>\n",
       "    <tr>\n",
       "      <th>22</th>\n",
       "      <td>45.600000</td>\n",
       "    </tr>\n",
       "    <tr>\n",
       "      <th>23</th>\n",
       "      <td>36.000000</td>\n",
       "    </tr>\n",
       "  </tbody>\n",
       "</table>\n",
       "</div>"
      ],
      "text/plain": [
       "           Score\n",
       "0     110.266094\n",
       "1      77.572968\n",
       "2       0.005350\n",
       "3     233.856410\n",
       "4      98.400000\n",
       "5       8.515704\n",
       "6      13.141880\n",
       "7      25.200000\n",
       "8      13.200000\n",
       "9    2331.715387\n",
       "10   2441.393688\n",
       "11    344.066434\n",
       "12     27.184584\n",
       "13      4.007734\n",
       "14    126.449144\n",
       "15    304.646999\n",
       "16  11163.295488\n",
       "17     21.276373\n",
       "18     85.628829\n",
       "19     20.439252\n",
       "20     20.400000\n",
       "21     49.200000\n",
       "22     45.600000\n",
       "23     36.000000"
      ]
     },
     "execution_count": 262,
     "metadata": {},
     "output_type": "execute_result"
    }
   ],
   "source": [
    "datascores"
   ]
  },
  {
   "cell_type": "code",
   "execution_count": 263,
   "id": "19e1207f",
   "metadata": {},
   "outputs": [],
   "source": [
    "dfcols=pd.DataFrame(x.columns)"
   ]
  },
  {
   "cell_type": "code",
   "execution_count": 264,
   "id": "9f30a72b",
   "metadata": {},
   "outputs": [
    {
     "data": {
      "text/html": [
       "<div>\n",
       "<style scoped>\n",
       "    .dataframe tbody tr th:only-of-type {\n",
       "        vertical-align: middle;\n",
       "    }\n",
       "\n",
       "    .dataframe tbody tr th {\n",
       "        vertical-align: top;\n",
       "    }\n",
       "\n",
       "    .dataframe thead th {\n",
       "        text-align: right;\n",
       "    }\n",
       "</style>\n",
       "<table border=\"1\" class=\"dataframe\">\n",
       "  <thead>\n",
       "    <tr style=\"text-align: right;\">\n",
       "      <th></th>\n",
       "      <th>0</th>\n",
       "    </tr>\n",
       "  </thead>\n",
       "  <tbody>\n",
       "    <tr>\n",
       "      <th>0</th>\n",
       "      <td>age</td>\n",
       "    </tr>\n",
       "    <tr>\n",
       "      <th>1</th>\n",
       "      <td>bp</td>\n",
       "    </tr>\n",
       "    <tr>\n",
       "      <th>2</th>\n",
       "      <td>sg</td>\n",
       "    </tr>\n",
       "    <tr>\n",
       "      <th>3</th>\n",
       "      <td>al</td>\n",
       "    </tr>\n",
       "    <tr>\n",
       "      <th>4</th>\n",
       "      <td>su</td>\n",
       "    </tr>\n",
       "    <tr>\n",
       "      <th>5</th>\n",
       "      <td>rbc</td>\n",
       "    </tr>\n",
       "    <tr>\n",
       "      <th>6</th>\n",
       "      <td>pc</td>\n",
       "    </tr>\n",
       "    <tr>\n",
       "      <th>7</th>\n",
       "      <td>pcc</td>\n",
       "    </tr>\n",
       "    <tr>\n",
       "      <th>8</th>\n",
       "      <td>ba</td>\n",
       "    </tr>\n",
       "    <tr>\n",
       "      <th>9</th>\n",
       "      <td>bgr</td>\n",
       "    </tr>\n",
       "    <tr>\n",
       "      <th>10</th>\n",
       "      <td>bu</td>\n",
       "    </tr>\n",
       "    <tr>\n",
       "      <th>11</th>\n",
       "      <td>sc</td>\n",
       "    </tr>\n",
       "    <tr>\n",
       "      <th>12</th>\n",
       "      <td>sod</td>\n",
       "    </tr>\n",
       "    <tr>\n",
       "      <th>13</th>\n",
       "      <td>pot</td>\n",
       "    </tr>\n",
       "    <tr>\n",
       "      <th>14</th>\n",
       "      <td>hemo</td>\n",
       "    </tr>\n",
       "    <tr>\n",
       "      <th>15</th>\n",
       "      <td>pcv</td>\n",
       "    </tr>\n",
       "    <tr>\n",
       "      <th>16</th>\n",
       "      <td>wc</td>\n",
       "    </tr>\n",
       "    <tr>\n",
       "      <th>17</th>\n",
       "      <td>rc</td>\n",
       "    </tr>\n",
       "    <tr>\n",
       "      <th>18</th>\n",
       "      <td>htn</td>\n",
       "    </tr>\n",
       "    <tr>\n",
       "      <th>19</th>\n",
       "      <td>dm</td>\n",
       "    </tr>\n",
       "    <tr>\n",
       "      <th>20</th>\n",
       "      <td>cad</td>\n",
       "    </tr>\n",
       "    <tr>\n",
       "      <th>21</th>\n",
       "      <td>appet</td>\n",
       "    </tr>\n",
       "    <tr>\n",
       "      <th>22</th>\n",
       "      <td>pe</td>\n",
       "    </tr>\n",
       "    <tr>\n",
       "      <th>23</th>\n",
       "      <td>ane</td>\n",
       "    </tr>\n",
       "  </tbody>\n",
       "</table>\n",
       "</div>"
      ],
      "text/plain": [
       "        0\n",
       "0     age\n",
       "1      bp\n",
       "2      sg\n",
       "3      al\n",
       "4      su\n",
       "5     rbc\n",
       "6      pc\n",
       "7     pcc\n",
       "8      ba\n",
       "9     bgr\n",
       "10     bu\n",
       "11     sc\n",
       "12    sod\n",
       "13    pot\n",
       "14   hemo\n",
       "15    pcv\n",
       "16     wc\n",
       "17     rc\n",
       "18    htn\n",
       "19     dm\n",
       "20    cad\n",
       "21  appet\n",
       "22     pe\n",
       "23    ane"
      ]
     },
     "execution_count": 264,
     "metadata": {},
     "output_type": "execute_result"
    }
   ],
   "source": [
    "dfcols"
   ]
  },
  {
   "cell_type": "code",
   "execution_count": 265,
   "id": "3e9310ae",
   "metadata": {},
   "outputs": [],
   "source": [
    "features_rank = pd.concat([dfcols,datascores],axis=1)"
   ]
  },
  {
   "cell_type": "code",
   "execution_count": 266,
   "id": "474a2300",
   "metadata": {},
   "outputs": [
    {
     "data": {
      "text/html": [
       "<div>\n",
       "<style scoped>\n",
       "    .dataframe tbody tr th:only-of-type {\n",
       "        vertical-align: middle;\n",
       "    }\n",
       "\n",
       "    .dataframe tbody tr th {\n",
       "        vertical-align: top;\n",
       "    }\n",
       "\n",
       "    .dataframe thead th {\n",
       "        text-align: right;\n",
       "    }\n",
       "</style>\n",
       "<table border=\"1\" class=\"dataframe\">\n",
       "  <thead>\n",
       "    <tr style=\"text-align: right;\">\n",
       "      <th></th>\n",
       "      <th>0</th>\n",
       "      <th>Score</th>\n",
       "    </tr>\n",
       "  </thead>\n",
       "  <tbody>\n",
       "    <tr>\n",
       "      <th>0</th>\n",
       "      <td>age</td>\n",
       "      <td>110.266094</td>\n",
       "    </tr>\n",
       "    <tr>\n",
       "      <th>1</th>\n",
       "      <td>bp</td>\n",
       "      <td>77.572968</td>\n",
       "    </tr>\n",
       "    <tr>\n",
       "      <th>2</th>\n",
       "      <td>sg</td>\n",
       "      <td>0.005350</td>\n",
       "    </tr>\n",
       "    <tr>\n",
       "      <th>3</th>\n",
       "      <td>al</td>\n",
       "      <td>233.856410</td>\n",
       "    </tr>\n",
       "    <tr>\n",
       "      <th>4</th>\n",
       "      <td>su</td>\n",
       "      <td>98.400000</td>\n",
       "    </tr>\n",
       "    <tr>\n",
       "      <th>5</th>\n",
       "      <td>rbc</td>\n",
       "      <td>8.515704</td>\n",
       "    </tr>\n",
       "    <tr>\n",
       "      <th>6</th>\n",
       "      <td>pc</td>\n",
       "      <td>13.141880</td>\n",
       "    </tr>\n",
       "    <tr>\n",
       "      <th>7</th>\n",
       "      <td>pcc</td>\n",
       "      <td>25.200000</td>\n",
       "    </tr>\n",
       "    <tr>\n",
       "      <th>8</th>\n",
       "      <td>ba</td>\n",
       "      <td>13.200000</td>\n",
       "    </tr>\n",
       "    <tr>\n",
       "      <th>9</th>\n",
       "      <td>bgr</td>\n",
       "      <td>2331.715387</td>\n",
       "    </tr>\n",
       "    <tr>\n",
       "      <th>10</th>\n",
       "      <td>bu</td>\n",
       "      <td>2441.393688</td>\n",
       "    </tr>\n",
       "    <tr>\n",
       "      <th>11</th>\n",
       "      <td>sc</td>\n",
       "      <td>344.066434</td>\n",
       "    </tr>\n",
       "    <tr>\n",
       "      <th>12</th>\n",
       "      <td>sod</td>\n",
       "      <td>27.184584</td>\n",
       "    </tr>\n",
       "    <tr>\n",
       "      <th>13</th>\n",
       "      <td>pot</td>\n",
       "      <td>4.007734</td>\n",
       "    </tr>\n",
       "    <tr>\n",
       "      <th>14</th>\n",
       "      <td>hemo</td>\n",
       "      <td>126.449144</td>\n",
       "    </tr>\n",
       "    <tr>\n",
       "      <th>15</th>\n",
       "      <td>pcv</td>\n",
       "      <td>304.646999</td>\n",
       "    </tr>\n",
       "    <tr>\n",
       "      <th>16</th>\n",
       "      <td>wc</td>\n",
       "      <td>11163.295488</td>\n",
       "    </tr>\n",
       "    <tr>\n",
       "      <th>17</th>\n",
       "      <td>rc</td>\n",
       "      <td>21.276373</td>\n",
       "    </tr>\n",
       "    <tr>\n",
       "      <th>18</th>\n",
       "      <td>htn</td>\n",
       "      <td>85.628829</td>\n",
       "    </tr>\n",
       "    <tr>\n",
       "      <th>19</th>\n",
       "      <td>dm</td>\n",
       "      <td>20.439252</td>\n",
       "    </tr>\n",
       "    <tr>\n",
       "      <th>20</th>\n",
       "      <td>cad</td>\n",
       "      <td>20.400000</td>\n",
       "    </tr>\n",
       "    <tr>\n",
       "      <th>21</th>\n",
       "      <td>appet</td>\n",
       "      <td>49.200000</td>\n",
       "    </tr>\n",
       "    <tr>\n",
       "      <th>22</th>\n",
       "      <td>pe</td>\n",
       "      <td>45.600000</td>\n",
       "    </tr>\n",
       "    <tr>\n",
       "      <th>23</th>\n",
       "      <td>ane</td>\n",
       "      <td>36.000000</td>\n",
       "    </tr>\n",
       "  </tbody>\n",
       "</table>\n",
       "</div>"
      ],
      "text/plain": [
       "        0         Score\n",
       "0     age    110.266094\n",
       "1      bp     77.572968\n",
       "2      sg      0.005350\n",
       "3      al    233.856410\n",
       "4      su     98.400000\n",
       "5     rbc      8.515704\n",
       "6      pc     13.141880\n",
       "7     pcc     25.200000\n",
       "8      ba     13.200000\n",
       "9     bgr   2331.715387\n",
       "10     bu   2441.393688\n",
       "11     sc    344.066434\n",
       "12    sod     27.184584\n",
       "13    pot      4.007734\n",
       "14   hemo    126.449144\n",
       "15    pcv    304.646999\n",
       "16     wc  11163.295488\n",
       "17     rc     21.276373\n",
       "18    htn     85.628829\n",
       "19     dm     20.439252\n",
       "20    cad     20.400000\n",
       "21  appet     49.200000\n",
       "22     pe     45.600000\n",
       "23    ane     36.000000"
      ]
     },
     "execution_count": 266,
     "metadata": {},
     "output_type": "execute_result"
    }
   ],
   "source": [
    "features_rank"
   ]
  },
  {
   "cell_type": "code",
   "execution_count": 267,
   "id": "5bbd3051",
   "metadata": {},
   "outputs": [
    {
     "data": {
      "text/html": [
       "<div>\n",
       "<style scoped>\n",
       "    .dataframe tbody tr th:only-of-type {\n",
       "        vertical-align: middle;\n",
       "    }\n",
       "\n",
       "    .dataframe tbody tr th {\n",
       "        vertical-align: top;\n",
       "    }\n",
       "\n",
       "    .dataframe thead th {\n",
       "        text-align: right;\n",
       "    }\n",
       "</style>\n",
       "<table border=\"1\" class=\"dataframe\">\n",
       "  <thead>\n",
       "    <tr style=\"text-align: right;\">\n",
       "      <th></th>\n",
       "      <th>features</th>\n",
       "      <th>Score</th>\n",
       "    </tr>\n",
       "  </thead>\n",
       "  <tbody>\n",
       "    <tr>\n",
       "      <th>0</th>\n",
       "      <td>age</td>\n",
       "      <td>110.266094</td>\n",
       "    </tr>\n",
       "    <tr>\n",
       "      <th>1</th>\n",
       "      <td>bp</td>\n",
       "      <td>77.572968</td>\n",
       "    </tr>\n",
       "    <tr>\n",
       "      <th>2</th>\n",
       "      <td>sg</td>\n",
       "      <td>0.005350</td>\n",
       "    </tr>\n",
       "    <tr>\n",
       "      <th>3</th>\n",
       "      <td>al</td>\n",
       "      <td>233.856410</td>\n",
       "    </tr>\n",
       "    <tr>\n",
       "      <th>4</th>\n",
       "      <td>su</td>\n",
       "      <td>98.400000</td>\n",
       "    </tr>\n",
       "    <tr>\n",
       "      <th>5</th>\n",
       "      <td>rbc</td>\n",
       "      <td>8.515704</td>\n",
       "    </tr>\n",
       "    <tr>\n",
       "      <th>6</th>\n",
       "      <td>pc</td>\n",
       "      <td>13.141880</td>\n",
       "    </tr>\n",
       "    <tr>\n",
       "      <th>7</th>\n",
       "      <td>pcc</td>\n",
       "      <td>25.200000</td>\n",
       "    </tr>\n",
       "    <tr>\n",
       "      <th>8</th>\n",
       "      <td>ba</td>\n",
       "      <td>13.200000</td>\n",
       "    </tr>\n",
       "    <tr>\n",
       "      <th>9</th>\n",
       "      <td>bgr</td>\n",
       "      <td>2331.715387</td>\n",
       "    </tr>\n",
       "    <tr>\n",
       "      <th>10</th>\n",
       "      <td>bu</td>\n",
       "      <td>2441.393688</td>\n",
       "    </tr>\n",
       "    <tr>\n",
       "      <th>11</th>\n",
       "      <td>sc</td>\n",
       "      <td>344.066434</td>\n",
       "    </tr>\n",
       "    <tr>\n",
       "      <th>12</th>\n",
       "      <td>sod</td>\n",
       "      <td>27.184584</td>\n",
       "    </tr>\n",
       "    <tr>\n",
       "      <th>13</th>\n",
       "      <td>pot</td>\n",
       "      <td>4.007734</td>\n",
       "    </tr>\n",
       "    <tr>\n",
       "      <th>14</th>\n",
       "      <td>hemo</td>\n",
       "      <td>126.449144</td>\n",
       "    </tr>\n",
       "    <tr>\n",
       "      <th>15</th>\n",
       "      <td>pcv</td>\n",
       "      <td>304.646999</td>\n",
       "    </tr>\n",
       "    <tr>\n",
       "      <th>16</th>\n",
       "      <td>wc</td>\n",
       "      <td>11163.295488</td>\n",
       "    </tr>\n",
       "    <tr>\n",
       "      <th>17</th>\n",
       "      <td>rc</td>\n",
       "      <td>21.276373</td>\n",
       "    </tr>\n",
       "    <tr>\n",
       "      <th>18</th>\n",
       "      <td>htn</td>\n",
       "      <td>85.628829</td>\n",
       "    </tr>\n",
       "    <tr>\n",
       "      <th>19</th>\n",
       "      <td>dm</td>\n",
       "      <td>20.439252</td>\n",
       "    </tr>\n",
       "    <tr>\n",
       "      <th>20</th>\n",
       "      <td>cad</td>\n",
       "      <td>20.400000</td>\n",
       "    </tr>\n",
       "    <tr>\n",
       "      <th>21</th>\n",
       "      <td>appet</td>\n",
       "      <td>49.200000</td>\n",
       "    </tr>\n",
       "    <tr>\n",
       "      <th>22</th>\n",
       "      <td>pe</td>\n",
       "      <td>45.600000</td>\n",
       "    </tr>\n",
       "    <tr>\n",
       "      <th>23</th>\n",
       "      <td>ane</td>\n",
       "      <td>36.000000</td>\n",
       "    </tr>\n",
       "  </tbody>\n",
       "</table>\n",
       "</div>"
      ],
      "text/plain": [
       "   features         Score\n",
       "0       age    110.266094\n",
       "1        bp     77.572968\n",
       "2        sg      0.005350\n",
       "3        al    233.856410\n",
       "4        su     98.400000\n",
       "5       rbc      8.515704\n",
       "6        pc     13.141880\n",
       "7       pcc     25.200000\n",
       "8        ba     13.200000\n",
       "9       bgr   2331.715387\n",
       "10       bu   2441.393688\n",
       "11       sc    344.066434\n",
       "12      sod     27.184584\n",
       "13      pot      4.007734\n",
       "14     hemo    126.449144\n",
       "15      pcv    304.646999\n",
       "16       wc  11163.295488\n",
       "17       rc     21.276373\n",
       "18      htn     85.628829\n",
       "19       dm     20.439252\n",
       "20      cad     20.400000\n",
       "21    appet     49.200000\n",
       "22       pe     45.600000\n",
       "23      ane     36.000000"
      ]
     },
     "execution_count": 267,
     "metadata": {},
     "output_type": "execute_result"
    }
   ],
   "source": [
    "features_rank.columns = ['features','Score']\n",
    "features_rank"
   ]
  },
  {
   "cell_type": "code",
   "execution_count": 268,
   "id": "70e625bf",
   "metadata": {},
   "outputs": [
    {
     "data": {
      "text/html": [
       "<div>\n",
       "<style scoped>\n",
       "    .dataframe tbody tr th:only-of-type {\n",
       "        vertical-align: middle;\n",
       "    }\n",
       "\n",
       "    .dataframe tbody tr th {\n",
       "        vertical-align: top;\n",
       "    }\n",
       "\n",
       "    .dataframe thead th {\n",
       "        text-align: right;\n",
       "    }\n",
       "</style>\n",
       "<table border=\"1\" class=\"dataframe\">\n",
       "  <thead>\n",
       "    <tr style=\"text-align: right;\">\n",
       "      <th></th>\n",
       "      <th>features</th>\n",
       "      <th>Score</th>\n",
       "    </tr>\n",
       "  </thead>\n",
       "  <tbody>\n",
       "    <tr>\n",
       "      <th>16</th>\n",
       "      <td>wc</td>\n",
       "      <td>11163.295488</td>\n",
       "    </tr>\n",
       "    <tr>\n",
       "      <th>10</th>\n",
       "      <td>bu</td>\n",
       "      <td>2441.393688</td>\n",
       "    </tr>\n",
       "    <tr>\n",
       "      <th>9</th>\n",
       "      <td>bgr</td>\n",
       "      <td>2331.715387</td>\n",
       "    </tr>\n",
       "    <tr>\n",
       "      <th>11</th>\n",
       "      <td>sc</td>\n",
       "      <td>344.066434</td>\n",
       "    </tr>\n",
       "    <tr>\n",
       "      <th>15</th>\n",
       "      <td>pcv</td>\n",
       "      <td>304.646999</td>\n",
       "    </tr>\n",
       "    <tr>\n",
       "      <th>3</th>\n",
       "      <td>al</td>\n",
       "      <td>233.856410</td>\n",
       "    </tr>\n",
       "    <tr>\n",
       "      <th>14</th>\n",
       "      <td>hemo</td>\n",
       "      <td>126.449144</td>\n",
       "    </tr>\n",
       "    <tr>\n",
       "      <th>0</th>\n",
       "      <td>age</td>\n",
       "      <td>110.266094</td>\n",
       "    </tr>\n",
       "    <tr>\n",
       "      <th>4</th>\n",
       "      <td>su</td>\n",
       "      <td>98.400000</td>\n",
       "    </tr>\n",
       "    <tr>\n",
       "      <th>18</th>\n",
       "      <td>htn</td>\n",
       "      <td>85.628829</td>\n",
       "    </tr>\n",
       "  </tbody>\n",
       "</table>\n",
       "</div>"
      ],
      "text/plain": [
       "   features         Score\n",
       "16       wc  11163.295488\n",
       "10       bu   2441.393688\n",
       "9       bgr   2331.715387\n",
       "11       sc    344.066434\n",
       "15      pcv    304.646999\n",
       "3        al    233.856410\n",
       "14     hemo    126.449144\n",
       "0       age    110.266094\n",
       "4        su     98.400000\n",
       "18      htn     85.628829"
      ]
     },
     "execution_count": 268,
     "metadata": {},
     "output_type": "execute_result"
    }
   ],
   "source": [
    "features_rank.nlargest(10,'Score')"
   ]
  },
  {
   "cell_type": "code",
   "execution_count": 269,
   "id": "8e11ecd9",
   "metadata": {},
   "outputs": [],
   "source": [
    "selected_columns = features_rank.nlargest(10,'Score')['features'].values"
   ]
  },
  {
   "cell_type": "code",
   "execution_count": 270,
   "id": "6adf3f2c",
   "metadata": {},
   "outputs": [
    {
     "data": {
      "text/plain": [
       "array(['wc', 'bu', 'bgr', 'sc', 'pcv', 'al', 'hemo', 'age', 'su', 'htn'],\n",
       "      dtype=object)"
      ]
     },
     "execution_count": 270,
     "metadata": {},
     "output_type": "execute_result"
    }
   ],
   "source": [
    "selected_columns"
   ]
  },
  {
   "cell_type": "code",
   "execution_count": 271,
   "id": "dacf43a7",
   "metadata": {},
   "outputs": [],
   "source": [
    "x_new = data[selected_columns]"
   ]
  },
  {
   "cell_type": "code",
   "execution_count": 272,
   "id": "c8b42546",
   "metadata": {},
   "outputs": [
    {
     "data": {
      "text/html": [
       "<div>\n",
       "<style scoped>\n",
       "    .dataframe tbody tr th:only-of-type {\n",
       "        vertical-align: middle;\n",
       "    }\n",
       "\n",
       "    .dataframe tbody tr th {\n",
       "        vertical-align: top;\n",
       "    }\n",
       "\n",
       "    .dataframe thead th {\n",
       "        text-align: right;\n",
       "    }\n",
       "</style>\n",
       "<table border=\"1\" class=\"dataframe\">\n",
       "  <thead>\n",
       "    <tr style=\"text-align: right;\">\n",
       "      <th></th>\n",
       "      <th>wc</th>\n",
       "      <th>bu</th>\n",
       "      <th>bgr</th>\n",
       "      <th>sc</th>\n",
       "      <th>pcv</th>\n",
       "      <th>al</th>\n",
       "      <th>hemo</th>\n",
       "      <th>age</th>\n",
       "      <th>su</th>\n",
       "      <th>htn</th>\n",
       "    </tr>\n",
       "  </thead>\n",
       "  <tbody>\n",
       "    <tr>\n",
       "      <th>0</th>\n",
       "      <td>7800.0</td>\n",
       "      <td>36.0</td>\n",
       "      <td>121.0</td>\n",
       "      <td>1.2</td>\n",
       "      <td>44.0</td>\n",
       "      <td>1.0</td>\n",
       "      <td>15.4</td>\n",
       "      <td>48.0</td>\n",
       "      <td>0.0</td>\n",
       "      <td>1</td>\n",
       "    </tr>\n",
       "    <tr>\n",
       "      <th>1</th>\n",
       "      <td>6000.0</td>\n",
       "      <td>18.0</td>\n",
       "      <td>123.0</td>\n",
       "      <td>0.8</td>\n",
       "      <td>38.0</td>\n",
       "      <td>4.0</td>\n",
       "      <td>11.3</td>\n",
       "      <td>7.0</td>\n",
       "      <td>0.0</td>\n",
       "      <td>0</td>\n",
       "    </tr>\n",
       "    <tr>\n",
       "      <th>2</th>\n",
       "      <td>7500.0</td>\n",
       "      <td>53.0</td>\n",
       "      <td>423.0</td>\n",
       "      <td>1.8</td>\n",
       "      <td>31.0</td>\n",
       "      <td>2.0</td>\n",
       "      <td>9.6</td>\n",
       "      <td>62.0</td>\n",
       "      <td>3.0</td>\n",
       "      <td>0</td>\n",
       "    </tr>\n",
       "    <tr>\n",
       "      <th>3</th>\n",
       "      <td>6700.0</td>\n",
       "      <td>56.0</td>\n",
       "      <td>117.0</td>\n",
       "      <td>3.8</td>\n",
       "      <td>32.0</td>\n",
       "      <td>4.0</td>\n",
       "      <td>11.2</td>\n",
       "      <td>48.0</td>\n",
       "      <td>0.0</td>\n",
       "      <td>1</td>\n",
       "    </tr>\n",
       "    <tr>\n",
       "      <th>4</th>\n",
       "      <td>7300.0</td>\n",
       "      <td>26.0</td>\n",
       "      <td>106.0</td>\n",
       "      <td>1.4</td>\n",
       "      <td>35.0</td>\n",
       "      <td>2.0</td>\n",
       "      <td>11.6</td>\n",
       "      <td>51.0</td>\n",
       "      <td>0.0</td>\n",
       "      <td>0</td>\n",
       "    </tr>\n",
       "  </tbody>\n",
       "</table>\n",
       "</div>"
      ],
      "text/plain": [
       "       wc    bu    bgr   sc   pcv   al  hemo   age   su  htn\n",
       "0  7800.0  36.0  121.0  1.2  44.0  1.0  15.4  48.0  0.0    1\n",
       "1  6000.0  18.0  123.0  0.8  38.0  4.0  11.3   7.0  0.0    0\n",
       "2  7500.0  53.0  423.0  1.8  31.0  2.0   9.6  62.0  3.0    0\n",
       "3  6700.0  56.0  117.0  3.8  32.0  4.0  11.2  48.0  0.0    1\n",
       "4  7300.0  26.0  106.0  1.4  35.0  2.0  11.6  51.0  0.0    0"
      ]
     },
     "execution_count": 272,
     "metadata": {},
     "output_type": "execute_result"
    }
   ],
   "source": [
    "x_new.head()"
   ]
  },
  {
   "cell_type": "code",
   "execution_count": 273,
   "id": "20f1b45a",
   "metadata": {},
   "outputs": [
    {
     "data": {
      "text/plain": [
       "400"
      ]
     },
     "execution_count": 273,
     "metadata": {},
     "output_type": "execute_result"
    }
   ],
   "source": [
    "len(x_new)"
   ]
  },
  {
   "cell_type": "code",
   "execution_count": 274,
   "id": "3916978e",
   "metadata": {},
   "outputs": [
    {
     "data": {
      "text/plain": [
       "(400, 10)"
      ]
     },
     "execution_count": 274,
     "metadata": {},
     "output_type": "execute_result"
    }
   ],
   "source": [
    "x_new.shape"
   ]
  },
  {
   "cell_type": "code",
   "execution_count": 275,
   "id": "19f5a77c",
   "metadata": {},
   "outputs": [],
   "source": [
    "# Build a Cross Validation Model & predict and check accuracy of your model"
   ]
  },
  {
   "cell_type": "code",
   "execution_count": 276,
   "id": "e11ebcaa",
   "metadata": {},
   "outputs": [],
   "source": [
    "from sklearn.model_selection import train_test_split"
   ]
  },
  {
   "cell_type": "code",
   "execution_count": 277,
   "id": "02c97cd2",
   "metadata": {},
   "outputs": [],
   "source": [
    "x_train,x_test,y_train,y_test = train_test_split(x_new,y,test_size=0.25,random_state=0)"
   ]
  },
  {
   "cell_type": "code",
   "execution_count": 278,
   "id": "e21f16cf",
   "metadata": {},
   "outputs": [
    {
     "name": "stdout",
     "output_type": "stream",
     "text": [
      "(300, 10)\n"
     ]
    }
   ],
   "source": [
    "print(x_train.shape)"
   ]
  },
  {
   "cell_type": "code",
   "execution_count": 279,
   "id": "9800935c",
   "metadata": {},
   "outputs": [
    {
     "name": "stdout",
     "output_type": "stream",
     "text": [
      "(100, 10)\n"
     ]
    }
   ],
   "source": [
    "print(x_test.shape)"
   ]
  },
  {
   "cell_type": "code",
   "execution_count": 280,
   "id": "f386e4d3",
   "metadata": {},
   "outputs": [
    {
     "data": {
      "text/plain": [
       "0    188\n",
       "1    112\n",
       "Name: classification, dtype: int64"
      ]
     },
     "execution_count": 280,
     "metadata": {},
     "output_type": "execute_result"
    }
   ],
   "source": [
    "y_train.value_counts()"
   ]
  },
  {
   "cell_type": "code",
   "execution_count": 281,
   "id": "e4433ddf",
   "metadata": {},
   "outputs": [],
   "source": [
    "# !pip install xgboost"
   ]
  },
  {
   "cell_type": "code",
   "execution_count": 282,
   "id": "ecee8ba7",
   "metadata": {},
   "outputs": [],
   "source": [
    "# ! pip install xgboost"
   ]
  },
  {
   "cell_type": "code",
   "execution_count": 283,
   "id": "62061164",
   "metadata": {},
   "outputs": [],
   "source": [
    "# pip install xgboost"
   ]
  },
  {
   "cell_type": "code",
   "execution_count": 284,
   "id": "035a73a6",
   "metadata": {},
   "outputs": [],
   "source": [
    "import xgboost"
   ]
  },
  {
   "cell_type": "code",
   "execution_count": 285,
   "id": "6b42d3ee",
   "metadata": {
    "scrolled": true
   },
   "outputs": [
    {
     "ename": "ImportError",
     "evalue": "cannot import name 'XBGClassifier' from 'xgboost' (c:\\ProgramData\\Anaconda3\\lib\\site-packages\\xgboost\\__init__.py)",
     "output_type": "error",
     "traceback": [
      "\u001b[1;31m---------------------------------------------------------------------------\u001b[0m",
      "\u001b[1;31mImportError\u001b[0m                               Traceback (most recent call last)",
      "\u001b[1;32m~\\AppData\\Local\\Temp/ipykernel_62664/2086468893.py\u001b[0m in \u001b[0;36m<module>\u001b[1;34m\u001b[0m\n\u001b[1;32m----> 1\u001b[1;33m \u001b[1;32mfrom\u001b[0m \u001b[0mxgboost\u001b[0m \u001b[1;32mimport\u001b[0m \u001b[0mXBGClassifier\u001b[0m\u001b[1;33m\u001b[0m\u001b[1;33m\u001b[0m\u001b[0m\n\u001b[0m",
      "\u001b[1;31mImportError\u001b[0m: cannot import name 'XBGClassifier' from 'xgboost' (c:\\ProgramData\\Anaconda3\\lib\\site-packages\\xgboost\\__init__.py)"
     ]
    }
   ],
   "source": [
    "from xgboost import XBGClassifier"
   ]
  },
  {
   "cell_type": "markdown",
   "id": "70e0a745",
   "metadata": {},
   "source": [
    "# Using Random Forest For Depoloyment Purposes as It is Giving the best results"
   ]
  },
  {
   "cell_type": "code",
   "execution_count": 286,
   "id": "2c4d07a5",
   "metadata": {},
   "outputs": [],
   "source": [
    "from sklearn.naive_bayes import GaussianNB\n",
    "from sklearn.neighbors import KNeighborsClassifier\n",
    "from sklearn.ensemble import RandomForestClassifier\n",
    "from sklearn.tree import DecisionTreeClassifier\n"
   ]
  },
  {
   "cell_type": "code",
   "execution_count": 287,
   "id": "9d0d10de",
   "metadata": {},
   "outputs": [],
   "source": [
    "\n",
    "rf = RandomForestClassifier()\n"
   ]
  },
  {
   "cell_type": "code",
   "execution_count": 288,
   "id": "6b8475da",
   "metadata": {},
   "outputs": [
    {
     "data": {
      "text/plain": [
       "RandomForestClassifier()"
      ]
     },
     "execution_count": 288,
     "metadata": {},
     "output_type": "execute_result"
    }
   ],
   "source": [
    "rf.fit(x_train,y_train)"
   ]
  },
  {
   "cell_type": "code",
   "execution_count": 289,
   "id": "bf255f6a",
   "metadata": {},
   "outputs": [
    {
     "name": "stdout",
     "output_type": "stream",
     "text": [
      "132    0\n",
      "309    1\n",
      "341    1\n",
      "196    0\n",
      "246    0\n",
      "      ..\n",
      "146    0\n",
      "135    0\n",
      "390    1\n",
      "264    1\n",
      "364    1\n",
      "Name: classification, Length: 100, dtype: int32 [0 1 1 0 0 0 0 1 0 1 0 0 1 1 0 0 1 0 0 0 0 0 0 1 0 1 0 0 1 1 0 1 1 0 0 0 0\n",
      " 0 0 1 0 1 0 0 1 0 1 1 0 0 0 0 1 0 1 1 0 0 0 0 0 1 0 1 0 1 0 0 0 1 0 1 0 0\n",
      " 0 0 1 1 1 1 1 0 0 0 1 0 0 1 1 1 1 1 0 0 0 0 0 1 1 1]\n"
     ]
    }
   ],
   "source": [
    "y_pred = rf.predict(x_test)\n",
    "print(y_test,y_pred)"
   ]
  },
  {
   "cell_type": "code",
   "execution_count": 290,
   "id": "5b8107ad",
   "metadata": {},
   "outputs": [],
   "source": [
    "import pickle"
   ]
  },
  {
   "cell_type": "code",
   "execution_count": 291,
   "id": "7063dc49",
   "metadata": {},
   "outputs": [],
   "source": [
    "pickle.dump(rf, open(\"rf_ckd.pkl\",'wb'))"
   ]
  },
  {
   "cell_type": "code",
   "execution_count": 293,
   "id": "343fbe66",
   "metadata": {},
   "outputs": [],
   "source": [
    "model = pickle.load(open('rf_ckd.pkl', 'rb'))\n",
    "# print(model.predict())"
   ]
  },
  {
   "cell_type": "code",
   "execution_count": 2,
   "id": "261e1bc3",
   "metadata": {},
   "outputs": [],
   "source": [
    "# !pip install flask"
   ]
  },
  {
   "cell_type": "code",
   "execution_count": null,
   "id": "025c748e",
   "metadata": {},
   "outputs": [],
   "source": []
  },
  {
   "cell_type": "code",
   "execution_count": 195,
   "id": "5e34b61f",
   "metadata": {},
   "outputs": [],
   "source": [
    "models = []\n",
    "\n",
    "# models.append(('LogisticRegression',LogisticRegression()))\n",
    "models.append(('Naive Bayes',GaussianNB()))\n",
    "models.append(('RandomForest', RandomForestClassifier()))\n",
    "models.append(('Decision Tree', DecisionTreeClassifier()))\n",
    "models.append(('KNN',KNeighborsClassifier()))"
   ]
  },
  {
   "cell_type": "code",
   "execution_count": 200,
   "id": "cbab45a1",
   "metadata": {},
   "outputs": [],
   "source": [
    "from sklearn.metrics import accuracy_score"
   ]
  },
  {
   "cell_type": "code",
   "execution_count": 201,
   "id": "3a10ad89",
   "metadata": {
    "scrolled": true
   },
   "outputs": [
    {
     "name": "stdout",
     "output_type": "stream",
     "text": [
      "Naive Bayes\n",
      "[[59  2]\n",
      " [ 3 36]]\n",
      "\n",
      "\n",
      "0.95\n",
      "\n",
      "\n",
      "RandomForest\n",
      "[[61  2]\n",
      " [ 1 36]]\n",
      "\n",
      "\n",
      "0.97\n",
      "\n",
      "\n",
      "Decision Tree\n",
      "[[58  4]\n",
      " [ 4 34]]\n",
      "\n",
      "\n",
      "0.92\n",
      "\n",
      "\n",
      "KNN\n",
      "[[46 17]\n",
      " [16 21]]\n",
      "\n",
      "\n",
      "0.67\n",
      "\n",
      "\n"
     ]
    }
   ],
   "source": [
    "for name,model in models:\n",
    "    print(name)\n",
    "    model.fit(x_train,y_train)\n",
    "    \n",
    "    \n",
    "    predictions = model.predict(x_test)\n",
    "    \n",
    "    from sklearn.metrics import confusion_matrix\n",
    "    print(confusion_matrix(predictions, y_test))\n",
    "    print('\\n')\n",
    "    \n",
    "    print(accuracy_score(predictions,y_test))\n",
    "    print('\\n')"
   ]
  },
  {
   "cell_type": "code",
   "execution_count": 202,
   "id": "591bbfb7",
   "metadata": {},
   "outputs": [],
   "source": [
    "from sklearn.ensemble import RandomForestClassifier"
   ]
  },
  {
   "cell_type": "code",
   "execution_count": 203,
   "id": "39e13f30",
   "metadata": {},
   "outputs": [],
   "source": [
    "rf = RandomForestClassifier()"
   ]
  },
  {
   "cell_type": "code",
   "execution_count": 205,
   "id": "3718faa9",
   "metadata": {},
   "outputs": [
    {
     "data": {
      "text/plain": [
       "RandomForestClassifier()"
      ]
     },
     "execution_count": 205,
     "metadata": {},
     "output_type": "execute_result"
    }
   ],
   "source": [
    "rf.fit(x_train,y_train)"
   ]
  },
  {
   "cell_type": "code",
   "execution_count": 207,
   "id": "0e2aaa76",
   "metadata": {},
   "outputs": [
    {
     "data": {
      "text/plain": [
       "array([0, 1, 1, 0, 0, 0, 0, 1, 0, 1, 0, 0, 0, 1, 0, 0, 1, 0, 0, 0, 0, 1,\n",
       "       0, 1, 0, 1, 0, 0, 1, 0, 0, 1, 0, 0, 0, 0, 0, 0, 0, 1, 0, 1, 0, 0,\n",
       "       0, 0, 1, 1, 0, 0, 0, 0, 1, 0, 1, 1, 0, 0, 0, 0, 0, 1, 0, 1, 0, 1,\n",
       "       0, 0, 0, 1, 0, 1, 0, 0, 0, 0, 1, 1, 1, 1, 1, 0, 0, 0, 1, 0, 0, 1,\n",
       "       1, 1, 1, 1, 0, 0, 0, 0, 0, 1, 1, 1])"
      ]
     },
     "execution_count": 207,
     "metadata": {},
     "output_type": "execute_result"
    }
   ],
   "source": [
    "rf.predict(x_test)"
   ]
  },
  {
   "cell_type": "code",
   "execution_count": 209,
   "id": "91941259",
   "metadata": {},
   "outputs": [],
   "source": [
    "from sklearn.model_selection import RandomizedSearchCV"
   ]
  },
  {
   "cell_type": "code",
   "execution_count": null,
   "id": "6373bf89",
   "metadata": {},
   "outputs": [],
   "source": []
  },
  {
   "cell_type": "code",
   "execution_count": null,
   "id": "ce6ddaaa",
   "metadata": {},
   "outputs": [],
   "source": []
  },
  {
   "cell_type": "code",
   "execution_count": null,
   "id": "11f59ba6",
   "metadata": {},
   "outputs": [],
   "source": []
  },
  {
   "cell_type": "code",
   "execution_count": null,
   "id": "9c3c143e",
   "metadata": {},
   "outputs": [],
   "source": []
  },
  {
   "cell_type": "code",
   "execution_count": null,
   "id": "6d58fd60",
   "metadata": {},
   "outputs": [],
   "source": []
  },
  {
   "cell_type": "code",
   "execution_count": null,
   "id": "7cf454fb",
   "metadata": {},
   "outputs": [],
   "source": []
  },
  {
   "cell_type": "code",
   "execution_count": null,
   "id": "757c2f32",
   "metadata": {},
   "outputs": [],
   "source": []
  }
 ],
 "metadata": {
  "kernelspec": {
   "display_name": "Python 3 (ipykernel)",
   "language": "python",
   "name": "python3"
  },
  "language_info": {
   "codemirror_mode": {
    "name": "ipython",
    "version": 3
   },
   "file_extension": ".py",
   "mimetype": "text/x-python",
   "name": "python",
   "nbconvert_exporter": "python",
   "pygments_lexer": "ipython3",
   "version": "3.9.7"
  }
 },
 "nbformat": 4,
 "nbformat_minor": 5
}
